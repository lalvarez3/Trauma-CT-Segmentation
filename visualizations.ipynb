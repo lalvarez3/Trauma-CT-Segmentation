{
 "cells": [
  {
   "cell_type": "code",
   "execution_count": 65,
   "metadata": {},
   "outputs": [],
   "source": [
    "import os"
   ]
  },
  {
   "cell_type": "code",
   "execution_count": 66,
   "metadata": {},
   "outputs": [],
   "source": [
    "from monai.visualize import matshow3d, blend_images\n",
    "import imageio\n",
    "def make_gif(predictions):\n",
    "    volumes = []\n",
    "    for prediction in predictions:\n",
    "        selected = prediction\n",
    "\n",
    "        pred = torch.argmax(selected['output'], dim=1).detach().cpu().numpy()\n",
    "        true_label = torch.sum(selected['label'][:,1:,:,:,:], dim=1).detach().cpu().numpy()\n",
    "        image = selected['image'][0].cpu().numpy()\n",
    "\n",
    "        blended_true_label = blend_images(image, true_label)\n",
    "        blended_final_true_label = torch.from_numpy(blended_true_label).permute(1,2,0,3)\n",
    "\n",
    "        blended_prediction = blend_images(image, pred)\n",
    "        blended_final_prediction = torch.from_numpy(blended_prediction).permute(1,2,0,3)\n",
    "\n",
    "        volume_pred = blended_final_prediction[:,:,:,:]\n",
    "        volume_label = blended_final_true_label[:,:,:,:]\n",
    "        volume_pred = np.squeeze(volume_pred).permute(3,0,1,2)\n",
    "        volume_label = np.squeeze(volume_label).permute(3,0,1,2)\n",
    "        volume = torch.hstack((volume_pred, volume_label)).numpy()\n",
    "        volumes.append(volume)\n",
    "    volume = np.hstack((volumes))\n",
    "    data = volume.astype(np.float64) / np.max(volume) # normalize the data to 0 - 1\n",
    "    data = 255 * data # Now scale by 255\n",
    "    volume = data.astype(np.uint8)\n",
    "    path_to_gif = f'gifs\\\\prediction.gif'\n",
    "    if not os.path.exists(\"gifs\\\\\"):\n",
    "        os.mkdir(\"gifs\\\\\")\n",
    "    imageio.mimsave(path_to_gif, volume)\n",
    "    return path_to_gif"
   ]
  },
  {
   "cell_type": "code",
   "execution_count": 1,
   "metadata": {},
   "outputs": [],
   "source": [
    "import matplotlib.pyplot as plt\n",
    "from ipywidgets.widgets import * \n",
    "import ipywidgets as widgets\n",
    "import matplotlib.pyplot as plt\n",
    "\n",
    "no_injure_liver = os.path.join( \"U:\", \"lauraalvarez\", \"nnunet\", \"nnUNet_raw_data_base\", \"nnUNet_raw_data\", \"Task501_LiverTrauma\", \"imagesTr\", \"TRMLIV_070_0000.nii.gz\")\n",
    "label_error = os.path.join( \"U:\", \"lauraalvarez\", \"nnunet\", \"nnUNet_raw_data_base\", \"nnUNet_raw_data\", \"Task501_LiverTrauma\", \"TRMLIV_073_0000_label_error_maybe.nii.gz\")\n",
    "scan_error = os.path.join( \"U:\", \"lauraalvarez\", \"nnunet\", \"nnUNet_raw_data_base\", \"nnUNet_raw_data\", \"Task501_LiverTrauma\", \"TRMLIV_073_0000_scan_error_maybe.nii.gz\")\n",
    "no_injure_liver_label = os.path.join( \"U:\", \"lauraalvarez\", \"nnunet\", \"nnUNet_raw_data_base\", \"nnUNet_raw_data\", \"Task501_LiverTrauma\", \"labelsTr\", \"TRMLIV_070_0000.nii.gz\")\n",
    "injure_liver = os.path.join( \"U:\", \"lauraalvarez\", \"nnunet\", \"nnUNet_raw_data_base\", \"nnUNet_raw_data\", \"Task501_LiverTrauma\", \"imagesTr\", \"TRMLIV_000_0000.nii.gz\")\n",
    "injure_liver_label = os.path.join( \"U:\", \"lauraalvarez\", \"nnunet\", \"nnUNet_raw_data_base\", \"nnUNet_raw_data\", \"Task501_LiverTrauma\", \"labelsTr\", \"TRMLIV_000_0000.nii.gz\")"
   ]
  },
  {
   "cell_type": "code",
   "execution_count": 2,
   "metadata": {},
   "outputs": [],
   "source": [
    "import nibabel as nib\n",
    "img = scan_error\n",
    "label = label_error\n",
    "\n",
    "img_ni = nib.load(img)\n",
    "img_ni_label = nib.load(label)\n",
    "\n",
    "# img_in = nib.load(injure_liver)\n",
    "# img_in_label = nib.load(injure_liver_label)\n",
    "\n",
    "ni_arr = img_ni.get_fdata()\n",
    "# in_arr = img_in.get_fdata()\n",
    "ni_arr_label = img_ni_label.get_fdata()\n",
    "# in_arr_label = img_in_label.get_fdata()"
   ]
  },
  {
   "cell_type": "code",
   "execution_count": 3,
   "metadata": {},
   "outputs": [
    {
     "data": {
      "text/plain": [
       "(1, 512, 512, 1321)"
      ]
     },
     "execution_count": 3,
     "metadata": {},
     "output_type": "execute_result"
    }
   ],
   "source": [
    "import numpy as np\n",
    "np.expand_dims(ni_arr_label, axis=0).shape"
   ]
  },
  {
   "cell_type": "code",
   "execution_count": 4,
   "metadata": {},
   "outputs": [
    {
     "ename": "NameError",
     "evalue": "name 'Compose' is not defined",
     "output_type": "error",
     "traceback": [
      "\u001b[1;31m---------------------------------------------------------------------------\u001b[0m",
      "\u001b[1;31mNameError\u001b[0m                                 Traceback (most recent call last)",
      "\u001b[1;32mc:\\Users\\Vincent Stirler\\Documents\\laura_trauma_ai\\Liver_Segmentation\\visualizations.ipynb Cell 6'\u001b[0m in \u001b[0;36m<cell line: 2>\u001b[1;34m()\u001b[0m\n\u001b[0;32m      <a href='vscode-notebook-cell:/c%3A/Users/Vincent%20Stirler/Documents/laura_trauma_ai/Liver_Segmentation/visualizations.ipynb#ch0000005?line=0'>1</a>\u001b[0m injures \u001b[39m=\u001b[39m {\u001b[39m'\u001b[39m\u001b[39mimage\u001b[39m\u001b[39m'\u001b[39m: np\u001b[39m.\u001b[39mexpand_dims(in_arr, axis\u001b[39m=\u001b[39m\u001b[39m0\u001b[39m), \u001b[39m'\u001b[39m\u001b[39mlabel\u001b[39m\u001b[39m'\u001b[39m:np\u001b[39m.\u001b[39mexpand_dims(in_arr_label, axis\u001b[39m=\u001b[39m\u001b[39m0\u001b[39m)}\n\u001b[1;32m----> <a href='vscode-notebook-cell:/c%3A/Users/Vincent%20Stirler/Documents/laura_trauma_ai/Liver_Segmentation/visualizations.ipynb#ch0000005?line=1'>2</a>\u001b[0m train_transforms \u001b[39m=\u001b[39m Compose(\n\u001b[0;32m      <a href='vscode-notebook-cell:/c%3A/Users/Vincent%20Stirler/Documents/laura_trauma_ai/Liver_Segmentation/visualizations.ipynb#ch0000005?line=2'>3</a>\u001b[0m             [\n\u001b[0;32m      <a href='vscode-notebook-cell:/c%3A/Users/Vincent%20Stirler/Documents/laura_trauma_ai/Liver_Segmentation/visualizations.ipynb#ch0000005?line=3'>4</a>\u001b[0m                 \u001b[39m# LoadImaged(keys=[\"image\", \"label\"], reader=ITKReader),\u001b[39;00m\n\u001b[0;32m      <a href='vscode-notebook-cell:/c%3A/Users/Vincent%20Stirler/Documents/laura_trauma_ai/Liver_Segmentation/visualizations.ipynb#ch0000005?line=4'>5</a>\u001b[0m                 \n\u001b[0;32m      <a href='vscode-notebook-cell:/c%3A/Users/Vincent%20Stirler/Documents/laura_trauma_ai/Liver_Segmentation/visualizations.ipynb#ch0000005?line=5'>6</a>\u001b[0m                 \u001b[39m# EnsureChannelFirstd(keys=[\"image\", \"label\"]),\u001b[39;00m\n\u001b[0;32m      <a href='vscode-notebook-cell:/c%3A/Users/Vincent%20Stirler/Documents/laura_trauma_ai/Liver_Segmentation/visualizations.ipynb#ch0000005?line=6'>7</a>\u001b[0m                 CropForegroundd(keys\u001b[39m=\u001b[39m[\u001b[39m\"\u001b[39m\u001b[39mimage\u001b[39m\u001b[39m\"\u001b[39m, \u001b[39m\"\u001b[39m\u001b[39mlabel\u001b[39m\u001b[39m\"\u001b[39m], source_key\u001b[39m=\u001b[39m\u001b[39m\"\u001b[39m\u001b[39mimage\u001b[39m\u001b[39m\"\u001b[39m),\n\u001b[0;32m      <a href='vscode-notebook-cell:/c%3A/Users/Vincent%20Stirler/Documents/laura_trauma_ai/Liver_Segmentation/visualizations.ipynb#ch0000005?line=7'>8</a>\u001b[0m                 \u001b[39m# Spacingd(\u001b[39;00m\n\u001b[0;32m      <a href='vscode-notebook-cell:/c%3A/Users/Vincent%20Stirler/Documents/laura_trauma_ai/Liver_Segmentation/visualizations.ipynb#ch0000005?line=8'>9</a>\u001b[0m                 \u001b[39m#     keys=[\"image\", \"label\"],\u001b[39;00m\n\u001b[0;32m     <a href='vscode-notebook-cell:/c%3A/Users/Vincent%20Stirler/Documents/laura_trauma_ai/Liver_Segmentation/visualizations.ipynb#ch0000005?line=9'>10</a>\u001b[0m                 \u001b[39m#     pixdim=(1.5, 1.5, 2.0),\u001b[39;00m\n\u001b[0;32m     <a href='vscode-notebook-cell:/c%3A/Users/Vincent%20Stirler/Documents/laura_trauma_ai/Liver_Segmentation/visualizations.ipynb#ch0000005?line=10'>11</a>\u001b[0m                 \u001b[39m#     mode=(\"bilinear\", \"nearest\"),\u001b[39;00m\n\u001b[0;32m     <a href='vscode-notebook-cell:/c%3A/Users/Vincent%20Stirler/Documents/laura_trauma_ai/Liver_Segmentation/visualizations.ipynb#ch0000005?line=11'>12</a>\u001b[0m                 \u001b[39m# ),\u001b[39;00m\n\u001b[0;32m     <a href='vscode-notebook-cell:/c%3A/Users/Vincent%20Stirler/Documents/laura_trauma_ai/Liver_Segmentation/visualizations.ipynb#ch0000005?line=12'>13</a>\u001b[0m                 \u001b[39m# ResizedC(keys=[\"image\", \"label\"], spatial_size=self.train_img_size),\u001b[39;00m\n\u001b[0;32m     <a href='vscode-notebook-cell:/c%3A/Users/Vincent%20Stirler/Documents/laura_trauma_ai/Liver_Segmentation/visualizations.ipynb#ch0000005?line=13'>14</a>\u001b[0m                 Orientationd(keys\u001b[39m=\u001b[39m[\u001b[39m\"\u001b[39m\u001b[39mimage\u001b[39m\u001b[39m\"\u001b[39m, \u001b[39m\"\u001b[39m\u001b[39mlabel\u001b[39m\u001b[39m\"\u001b[39m], axcodes\u001b[39m=\u001b[39m\u001b[39m\"\u001b[39m\u001b[39mRAS\u001b[39m\u001b[39m\"\u001b[39m),\n\u001b[0;32m     <a href='vscode-notebook-cell:/c%3A/Users/Vincent%20Stirler/Documents/laura_trauma_ai/Liver_Segmentation/visualizations.ipynb#ch0000005?line=14'>15</a>\u001b[0m                 ScaleIntensityRanged(\n\u001b[0;32m     <a href='vscode-notebook-cell:/c%3A/Users/Vincent%20Stirler/Documents/laura_trauma_ai/Liver_Segmentation/visualizations.ipynb#ch0000005?line=15'>16</a>\u001b[0m                     keys\u001b[39m=\u001b[39m[\u001b[39m\"\u001b[39m\u001b[39mimage\u001b[39m\u001b[39m\"\u001b[39m],\n\u001b[0;32m     <a href='vscode-notebook-cell:/c%3A/Users/Vincent%20Stirler/Documents/laura_trauma_ai/Liver_Segmentation/visualizations.ipynb#ch0000005?line=16'>17</a>\u001b[0m                     a_min\u001b[39m=\u001b[39m\u001b[39m-\u001b[39m\u001b[39m57\u001b[39m,\n\u001b[0;32m     <a href='vscode-notebook-cell:/c%3A/Users/Vincent%20Stirler/Documents/laura_trauma_ai/Liver_Segmentation/visualizations.ipynb#ch0000005?line=17'>18</a>\u001b[0m                     a_max\u001b[39m=\u001b[39m\u001b[39m164\u001b[39m,\n\u001b[0;32m     <a href='vscode-notebook-cell:/c%3A/Users/Vincent%20Stirler/Documents/laura_trauma_ai/Liver_Segmentation/visualizations.ipynb#ch0000005?line=18'>19</a>\u001b[0m                     b_min\u001b[39m=\u001b[39m\u001b[39m0.0\u001b[39m,\n\u001b[0;32m     <a href='vscode-notebook-cell:/c%3A/Users/Vincent%20Stirler/Documents/laura_trauma_ai/Liver_Segmentation/visualizations.ipynb#ch0000005?line=19'>20</a>\u001b[0m                     b_max\u001b[39m=\u001b[39m\u001b[39m1.0\u001b[39m,\n\u001b[0;32m     <a href='vscode-notebook-cell:/c%3A/Users/Vincent%20Stirler/Documents/laura_trauma_ai/Liver_Segmentation/visualizations.ipynb#ch0000005?line=20'>21</a>\u001b[0m                     clip\u001b[39m=\u001b[39m\u001b[39mTrue\u001b[39;00m,\n\u001b[0;32m     <a href='vscode-notebook-cell:/c%3A/Users/Vincent%20Stirler/Documents/laura_trauma_ai/Liver_Segmentation/visualizations.ipynb#ch0000005?line=21'>22</a>\u001b[0m                 ),\n\u001b[0;32m     <a href='vscode-notebook-cell:/c%3A/Users/Vincent%20Stirler/Documents/laura_trauma_ai/Liver_Segmentation/visualizations.ipynb#ch0000005?line=22'>23</a>\u001b[0m                 \u001b[39m# RandRotated(keys=[\"image\", \"label\"], range_x=(-15, 15), range_y=(-15, 15), range_z=(-15, 15)),\u001b[39;00m\n\u001b[0;32m     <a href='vscode-notebook-cell:/c%3A/Users/Vincent%20Stirler/Documents/laura_trauma_ai/Liver_Segmentation/visualizations.ipynb#ch0000005?line=23'>24</a>\u001b[0m                 \u001b[39m# RemoveDicts(keys=[\"image\", \"label\"]),\u001b[39;00m\n\u001b[0;32m     <a href='vscode-notebook-cell:/c%3A/Users/Vincent%20Stirler/Documents/laura_trauma_ai/Liver_Segmentation/visualizations.ipynb#ch0000005?line=24'>25</a>\u001b[0m             ]\n\u001b[0;32m     <a href='vscode-notebook-cell:/c%3A/Users/Vincent%20Stirler/Documents/laura_trauma_ai/Liver_Segmentation/visualizations.ipynb#ch0000005?line=25'>26</a>\u001b[0m         )\n\u001b[0;32m     <a href='vscode-notebook-cell:/c%3A/Users/Vincent%20Stirler/Documents/laura_trauma_ai/Liver_Segmentation/visualizations.ipynb#ch0000005?line=26'>27</a>\u001b[0m injures \u001b[39m=\u001b[39m train_transforms(injures)\n",
      "\u001b[1;31mNameError\u001b[0m: name 'Compose' is not defined"
     ]
    }
   ],
   "source": [
    "injures = {'image': np.expand_dims(in_arr, axis=0), 'label':np.expand_dims(in_arr_label, axis=0)}\n",
    "train_transforms = Compose(\n",
    "            [\n",
    "                # LoadImaged(keys=[\"image\", \"label\"], reader=ITKReader),\n",
    "                \n",
    "                # EnsureChannelFirstd(keys=[\"image\", \"label\"]),\n",
    "                CropForegroundd(keys=[\"image\", \"label\"], source_key=\"image\"),\n",
    "                # Spacingd(\n",
    "                #     keys=[\"image\", \"label\"],\n",
    "                #     pixdim=(1.5, 1.5, 2.0),\n",
    "                #     mode=(\"bilinear\", \"nearest\"),\n",
    "                # ),\n",
    "                # ResizedC(keys=[\"image\", \"label\"], spatial_size=self.train_img_size),\n",
    "                Orientationd(keys=[\"image\", \"label\"], axcodes=\"RAS\"),\n",
    "                ScaleIntensityRanged(\n",
    "                    keys=[\"image\"],\n",
    "                    a_min=-57,\n",
    "                    a_max=164,\n",
    "                    b_min=0.0,\n",
    "                    b_max=1.0,\n",
    "                    clip=True,\n",
    "                ),\n",
    "                # RandRotated(keys=[\"image\", \"label\"], range_x=(-15, 15), range_y=(-15, 15), range_z=(-15, 15)),\n",
    "                # RemoveDicts(keys=[\"image\", \"label\"]),\n",
    "            ]\n",
    "        )\n",
    "injures = train_transforms(injures)\n"
   ]
  },
  {
   "cell_type": "code",
   "execution_count": 105,
   "metadata": {},
   "outputs": [
    {
     "data": {
      "text/plain": [
       "(1, 512, 512, 1409)"
      ]
     },
     "execution_count": 105,
     "metadata": {},
     "output_type": "execute_result"
    }
   ],
   "source": [
    "injures[\"image\"].shape"
   ]
  },
  {
   "cell_type": "code",
   "execution_count": null,
   "metadata": {},
   "outputs": [
    {
     "ename": "MemoryError",
     "evalue": "Unable to allocate 8.26 GiB for an array with shape (3, 512, 512, 1409) and data type float64",
     "output_type": "error",
     "traceback": [
      "\u001b[1;31m---------------------------------------------------------------------------\u001b[0m",
      "\u001b[1;31mMemoryError\u001b[0m                               Traceback (most recent call last)",
      "\u001b[1;32mc:\\Users\\Vincent Stirler\\Documents\\laura_trauma_ai\\Liver_Segmentation\\visualizations.ipynb Cell 8'\u001b[0m in \u001b[0;36m<cell line: 8>\u001b[1;34m()\u001b[0m\n\u001b[0;32m      <a href='vscode-notebook-cell:/c%3A/Users/Vincent%20Stirler/Documents/laura_trauma_ai/Liver_Segmentation/visualizations.ipynb#ch0000007?line=1'>2</a>\u001b[0m \u001b[39mimport\u001b[39;00m \u001b[39mtorch\u001b[39;00m \n\u001b[0;32m      <a href='vscode-notebook-cell:/c%3A/Users/Vincent%20Stirler/Documents/laura_trauma_ai/Liver_Segmentation/visualizations.ipynb#ch0000007?line=3'>4</a>\u001b[0m \u001b[39m# blended_label_ni = blend_images(np.expand_dims(ni_arr, axis=0), np.expand_dims(ni_arr_label, axis=0) )\u001b[39;00m\n\u001b[0;32m      <a href='vscode-notebook-cell:/c%3A/Users/Vincent%20Stirler/Documents/laura_trauma_ai/Liver_Segmentation/visualizations.ipynb#ch0000007?line=4'>5</a>\u001b[0m \u001b[39m# print(blended_label_ni.shape)\u001b[39;00m\n\u001b[0;32m      <a href='vscode-notebook-cell:/c%3A/Users/Vincent%20Stirler/Documents/laura_trauma_ai/Liver_Segmentation/visualizations.ipynb#ch0000007?line=5'>6</a>\u001b[0m \u001b[39m# blended_final_label = torch.from_numpy(blended_label_ni).permute(1,2,0,3)\u001b[39;00m\n\u001b[1;32m----> <a href='vscode-notebook-cell:/c%3A/Users/Vincent%20Stirler/Documents/laura_trauma_ai/Liver_Segmentation/visualizations.ipynb#ch0000007?line=7'>8</a>\u001b[0m blended_label_in \u001b[39m=\u001b[39m blend_images(injures[\u001b[39m\"\u001b[39;49m\u001b[39mimage\u001b[39;49m\u001b[39m\"\u001b[39;49m], injures[\u001b[39m\"\u001b[39;49m\u001b[39mlabel\u001b[39;49m\u001b[39m\"\u001b[39;49m])\n\u001b[0;32m      <a href='vscode-notebook-cell:/c%3A/Users/Vincent%20Stirler/Documents/laura_trauma_ai/Liver_Segmentation/visualizations.ipynb#ch0000007?line=8'>9</a>\u001b[0m \u001b[39mprint\u001b[39m(blended_label_in\u001b[39m.\u001b[39mshape)\n\u001b[0;32m     <a href='vscode-notebook-cell:/c%3A/Users/Vincent%20Stirler/Documents/laura_trauma_ai/Liver_Segmentation/visualizations.ipynb#ch0000007?line=9'>10</a>\u001b[0m blended_final \u001b[39m=\u001b[39m torch\u001b[39m.\u001b[39mfrom_numpy(blended_label_in)\u001b[39m.\u001b[39mpermute(\u001b[39m1\u001b[39m,\u001b[39m2\u001b[39m,\u001b[39m0\u001b[39m,\u001b[39m3\u001b[39m)\n",
      "File \u001b[1;32mc:\\Users\\Vincent Stirler\\.conda\\envs\\env_trauma\\lib\\site-packages\\monai\\visualize\\utils.py:199\u001b[0m, in \u001b[0;36mblend_images\u001b[1;34m(image, label, alpha, cmap, rescale_arrays)\u001b[0m\n\u001b[0;32m    <a href='file:///c%3A/Users/Vincent%20Stirler/.conda/envs/env_trauma/lib/site-packages/monai/visualize/utils.py?line=196'>197</a>\u001b[0m w_image \u001b[39m=\u001b[39m where(label \u001b[39m==\u001b[39m \u001b[39m0\u001b[39m, \u001b[39m1.0\u001b[39m, alpha)\n\u001b[0;32m    <a href='file:///c%3A/Users/Vincent%20Stirler/.conda/envs/env_trauma/lib/site-packages/monai/visualize/utils.py?line=197'>198</a>\u001b[0m w_label \u001b[39m=\u001b[39m where(label \u001b[39m==\u001b[39m \u001b[39m0\u001b[39m, \u001b[39m0.0\u001b[39m, \u001b[39m1\u001b[39m \u001b[39m-\u001b[39m alpha)\n\u001b[1;32m--> <a href='file:///c%3A/Users/Vincent%20Stirler/.conda/envs/env_trauma/lib/site-packages/monai/visualize/utils.py?line=198'>199</a>\u001b[0m \u001b[39mreturn\u001b[39;00m w_image \u001b[39m*\u001b[39;49m image \u001b[39m+\u001b[39;49m w_label \u001b[39m*\u001b[39;49m label_rgb\n",
      "\u001b[1;31mMemoryError\u001b[0m: Unable to allocate 8.26 GiB for an array with shape (3, 512, 512, 1409) and data type float64"
     ]
    }
   ],
   "source": [
    "from monai.visualize import matshow3d, blend_images\n",
    "import torch \n",
    "\n",
    "# blended_label_ni = blend_images(np.expand_dims(ni_arr, axis=0), np.expand_dims(ni_arr_label, axis=0) )\n",
    "# print(blended_label_ni.shape)\n",
    "# blended_final_label = torch.from_numpy(blended_label_ni).permute(1,2,0,3)\n",
    "\n",
    "blended_label_in = blend_images(injures[\"image\"], injures[\"label\"])\n",
    "print(blended_label_in.shape)\n",
    "blended_final = torch.from_numpy(blended_label_in).permute(1,2,0,3)\n"
   ]
  },
  {
   "cell_type": "code",
   "execution_count": null,
   "metadata": {},
   "outputs": [
    {
     "data": {
      "application/vnd.jupyter.widget-view+json": {
       "model_id": "6df179cb05b84b9b87a85bedb4afc8e6",
       "version_major": 2,
       "version_minor": 0
      },
      "text/plain": [
       "interactive(children=(IntSlider(value=704, description='slice', max=1408), Output()), _dom_classes=('widget-in…"
      ]
     },
     "metadata": {},
     "output_type": "display_data"
    },
    {
     "data": {
      "text/plain": [
       "<function __main__.dicom_animation(slice)>"
      ]
     },
     "execution_count": 103,
     "metadata": {},
     "output_type": "execute_result"
    }
   ],
   "source": [
    "def dicom_animation(slice):\n",
    "    # extent = np.min(x), np.max(x), np.min(y), np.max(y)\n",
    "    plt.figure(figsize=(18, 6))\n",
    "    plt.title(f\"liver no injured \")\n",
    "    plt.imshow(blended_final[:, :, :, slice], cmap=\"bone\")\n",
    "    # plt.imshow(ni_arr_label[:, :, :, slice], cmap=plt.cm.viridis, alpha=.15, interpolation=None)\n",
    "    plt.show()\n",
    "\n",
    "interact(dicom_animation, slice=(0, blended_final.shape[-1]-1))"
   ]
  },
  {
   "cell_type": "code",
   "execution_count": 90,
   "metadata": {},
   "outputs": [
    {
     "data": {
      "application/vnd.jupyter.widget-view+json": {
       "model_id": "ade68b4f1a10459a8bc5337a7a93cfdc",
       "version_major": 2,
       "version_minor": 0
      },
      "text/plain": [
       "interactive(children=(IntSlider(value=704, description='slice', max=1408), Output()), _dom_classes=('widget-in…"
      ]
     },
     "metadata": {},
     "output_type": "display_data"
    },
    {
     "data": {
      "text/plain": [
       "<function __main__.dicom_animation(slice)>"
      ]
     },
     "execution_count": 90,
     "metadata": {},
     "output_type": "execute_result"
    }
   ],
   "source": [
    "def dicom_animation(slice):\n",
    "    # extent = np.min(x), np.max(x), np.min(y), np.max(y)\n",
    "    plt.figure(figsize=(18, 6))\n",
    "    plt.title(f\"liver no injured \")\n",
    "    plt.imshow(in_arr[:, :, slice], cmap=\"bone\")\n",
    "    plt.imshow(in_arr_label[:, :, slice], cmap=plt.cm.viridis, alpha=.15, interpolation=None)\n",
    "    plt.show()\n",
    "\n",
    "interact(dicom_animation, slice=(0, in_arr_label.shape[-1]-1))"
   ]
  },
  {
   "cell_type": "code",
   "execution_count": 31,
   "metadata": {},
   "outputs": [
    {
     "name": "stdout",
     "output_type": "stream",
     "text": [
      "Collecting nilearn\n",
      "  Downloading nilearn-0.9.1-py3-none-any.whl (9.6 MB)\n",
      "Requirement already satisfied: joblib>=0.15 in c:\\users\\vincent stirler\\.conda\\envs\\env_trauma\\lib\\site-packages (from nilearn) (1.1.0)\n",
      "Requirement already satisfied: scikit-learn>=0.22 in c:\\users\\vincent stirler\\.conda\\envs\\env_trauma\\lib\\site-packages (from nilearn) (1.0.2)\n",
      "Requirement already satisfied: requests>=2 in c:\\users\\vincent stirler\\.conda\\envs\\env_trauma\\lib\\site-packages (from nilearn) (2.27.1)\n",
      "Requirement already satisfied: lxml in c:\\users\\vincent stirler\\.conda\\envs\\env_trauma\\lib\\site-packages (from nilearn) (4.8.0)\n",
      "Requirement already satisfied: numpy>=1.18 in c:\\users\\vincent stirler\\.conda\\envs\\env_trauma\\lib\\site-packages (from nilearn) (1.21.5)\n",
      "Requirement already satisfied: pandas>=1.0 in c:\\users\\vincent stirler\\.conda\\envs\\env_trauma\\lib\\site-packages (from nilearn) (1.4.2)\n",
      "Requirement already satisfied: scipy>=1.5 in c:\\users\\vincent stirler\\.conda\\envs\\env_trauma\\lib\\site-packages (from nilearn) (1.8.0)\n",
      "Requirement already satisfied: nibabel>=3.0.0 in c:\\users\\vincent stirler\\.conda\\envs\\env_trauma\\lib\\site-packages (from nilearn) (3.2.2)\n",
      "Requirement already satisfied: setuptools in c:\\users\\vincent stirler\\.conda\\envs\\env_trauma\\lib\\site-packages (from nibabel>=3.0.0->nilearn) (59.5.0)\n",
      "Requirement already satisfied: packaging>=14.3 in c:\\users\\vincent stirler\\.conda\\envs\\env_trauma\\lib\\site-packages (from nibabel>=3.0.0->nilearn) (21.3)\n",
      "Requirement already satisfied: pyparsing!=3.0.5,>=2.0.2 in c:\\users\\vincent stirler\\.conda\\envs\\env_trauma\\lib\\site-packages (from packaging>=14.3->nibabel>=3.0.0->nilearn) (3.0.7)\n",
      "Requirement already satisfied: pytz>=2020.1 in c:\\users\\vincent stirler\\.conda\\envs\\env_trauma\\lib\\site-packages (from pandas>=1.0->nilearn) (2022.1)\n",
      "Requirement already satisfied: python-dateutil>=2.8.1 in c:\\users\\vincent stirler\\.conda\\envs\\env_trauma\\lib\\site-packages (from pandas>=1.0->nilearn) (2.8.2)\n",
      "Requirement already satisfied: six>=1.5 in c:\\users\\vincent stirler\\.conda\\envs\\env_trauma\\lib\\site-packages (from python-dateutil>=2.8.1->pandas>=1.0->nilearn) (1.16.0)\n",
      "Requirement already satisfied: urllib3<1.27,>=1.21.1 in c:\\users\\vincent stirler\\.conda\\envs\\env_trauma\\lib\\site-packages (from requests>=2->nilearn) (1.26.9)\n",
      "Requirement already satisfied: charset-normalizer~=2.0.0 in c:\\users\\vincent stirler\\.conda\\envs\\env_trauma\\lib\\site-packages (from requests>=2->nilearn) (2.0.12)\n",
      "Requirement already satisfied: certifi>=2017.4.17 in c:\\users\\vincent stirler\\.conda\\envs\\env_trauma\\lib\\site-packages (from requests>=2->nilearn) (2021.10.8)\n",
      "Requirement already satisfied: idna<4,>=2.5 in c:\\users\\vincent stirler\\.conda\\envs\\env_trauma\\lib\\site-packages (from requests>=2->nilearn) (3.3)\n",
      "Requirement already satisfied: threadpoolctl>=2.0.0 in c:\\users\\vincent stirler\\.conda\\envs\\env_trauma\\lib\\site-packages (from scikit-learn>=0.22->nilearn) (3.1.0)\n",
      "Installing collected packages: nilearn\n",
      "Successfully installed nilearn-0.9.1\n",
      "Note: you may need to restart the kernel to use updated packages.\n"
     ]
    }
   ],
   "source": [
    "pip install nilearn"
   ]
  },
  {
   "cell_type": "code",
   "execution_count": 32,
   "metadata": {},
   "outputs": [
    {
     "name": "stderr",
     "output_type": "stream",
     "text": [
      "Warning: converting a masked element to nan.\n"
     ]
    },
    {
     "data": {
      "image/png": "[encoded data removed]",
      "text/plain": [
       "<Figure size 475.2x187.2 with 5 Axes>"
      ]
     },
     "metadata": {},
     "output_type": "display_data"
    }
   ],
   "source": [
    "from nilearn import plotting\n",
    "display = plotting.plot_anat(no_injure_liver)  # plot volume \n",
    "display.add_overlay(no_injure_liver_label,cmap='hot', colorbar=True) "
   ]
  },
  {
   "cell_type": "code",
   "execution_count": 97,
   "metadata": {},
   "outputs": [
    {
     "name": "stdout",
     "output_type": "stream",
     "text": [
      "MONAI version: 0.8.1\n",
      "Numpy version: 1.21.5\n",
      "Pytorch version: 1.11.0\n",
      "MONAI flags: HAS_EXT = False, USE_COMPILED = False\n",
      "MONAI rev id: 71ff399a3ea07aef667b23653620a290364095b1\n",
      "\n",
      "Optional dependencies:\n",
      "Pytorch Ignite version: 0.4.2\n",
      "Nibabel version: 3.2.2\n",
      "scikit-image version: 0.19.2\n",
      "Pillow version: 9.0.1\n",
      "Tensorboard version: 2.8.0\n",
      "gdown version: 4.4.0\n",
      "TorchVision version: 0.12.0\n",
      "tqdm version: 4.64.0\n",
      "lmdb version: 1.3.0\n",
      "psutil version: 5.9.0\n",
      "pandas version: 1.4.2\n",
      "einops version: 0.4.1\n",
      "transformers version: NOT INSTALLED or UNKNOWN VERSION.\n",
      "mlflow version: NOT INSTALLED or UNKNOWN VERSION.\n",
      "\n",
      "For details about installing the optional dependencies, please visit:\n",
      "    https://docs.monai.io/en/latest/installation.html#installing-the-recommended-dependencies\n",
      "\n"
     ]
    }
   ],
   "source": [
    "import numpy as np\n",
    "from monai.data.image_reader import ImageReader, ITKReader\n",
    "from ipywidgets.widgets import *\n",
    "import ipywidgets as widgets\n",
    "\n",
    "import matplotlib.pyplot as plt\n",
    "import pytorch_lightning\n",
    "from monai.utils import set_determinism\n",
    "from monai.transforms import (\n",
    "    AsDiscrete,\n",
    "    AddChanneld,\n",
    "    Compose,\n",
    "    CropForegroundd,\n",
    "    LoadImaged,\n",
    "    Orientationd,\n",
    "    ScaleIntensityRanged,\n",
    "    Spacingd,\n",
    "    EnsureType,\n",
    "    EnsureChannelFirstd,\n",
    "    RandFlipd,\n",
    "    RandRotated\n",
    ")\n",
    "import wandb\n",
    "from monai.networks.nets import UNet\n",
    "from monai.networks.layers import Norm\n",
    "from monai.metrics import DiceMetric\n",
    "from monai.losses import DiceFocalLoss, GeneralizedDiceLoss\n",
    "from monai.losses import DiceLoss\n",
    "from monai.inferers import sliding_window_inference\n",
    "from monai.data import CacheDataset, list_data_collate, decollate_batch, Dataset\n",
    "from monai.config import print_config\n",
    "from monai.apps import download_and_extract\n",
    "import torch\n",
    "\n",
    "import os\n",
    "import glob\n",
    "from tqdm import tqdm\n",
    "import numpy as np\n",
    "from monai.data import DataLoader\n",
    "import os\n",
    "import glob\n",
    "from monai.transforms.spatial.array import Resize\n",
    "\n",
    "from copy import deepcopy\n",
    "from enum import Enum\n",
    "from typing import Any, Dict, Hashable, List, Mapping, Optional, Sequence, Tuple, Union\n",
    "\n",
    "from monai.config import DtypeLike, KeysCollection\n",
    "from monai.config.type_definitions import NdarrayOrTensor\n",
    "from monai.networks.layers import AffineTransform\n",
    "from monai.networks.layers.simplelayers import GaussianFilter\n",
    "from monai.transforms.croppad.array import CenterSpatialCrop, SpatialPad\n",
    "from monai.transforms.inverse import InvertibleTransform\n",
    "from monai.transforms.spatial.array import (\n",
    "    Resize,\n",
    ")\n",
    "from monai.transforms.transform import MapTransform, RandomizableTransform\n",
    "from monai.transforms.utils import create_grid\n",
    "from monai.utils import (\n",
    "    InterpolateMode,\n",
    "    ensure_tuple_rep,\n",
    ")\n",
    "from monai.utils.deprecate_utils import deprecated_arg\n",
    "from monai.utils.enums import TraceKeys\n",
    "from monai.utils.module import optional_import\n",
    "from monai.utils.type_conversion import convert_data_type, convert_to_dst_type\n",
    "from monai.apps import load_from_mmar\n",
    "from monai.apps.mmars import RemoteMMARKeys\n",
    "from monai.networks.utils import copy_model_state\n",
    "from monai.optimizers import generate_param_groups\n",
    "import torch.optim as optim\n",
    "print_config()"
   ]
  },
  {
   "cell_type": "code",
   "execution_count": 19,
   "metadata": {},
   "outputs": [],
   "source": [
    "import numpy as np\n",
    "test = np.random.randint(low=0, high=2, size=(20))\n",
    "\n",
    "pred = np.random.uniform(0,1, size=(20))"
   ]
  },
  {
   "cell_type": "code",
   "execution_count": 51,
   "metadata": {},
   "outputs": [],
   "source": [
    "import torch\n",
    "from torch import tensor\n",
    "test = [0, 0, 0, 0, 1, 1, 1, 0,0, 0,]\n",
    "pred = [tensor(1), tensor(0.5), tensor(0.1), tensor(0.2), tensor(1), 0.15, 0.4, 0.7,0.9, 0.3]"
   ]
  },
  {
   "cell_type": "code",
   "execution_count": 52,
   "metadata": {},
   "outputs": [
    {
     "data": {
      "image/png": "[encoded data removed]",
      "text/plain": [
       "<Figure size 432x288 with 1 Axes>"
      ]
     },
     "metadata": {
      "needs_background": "light"
     },
     "output_type": "display_data"
    }
   ],
   "source": [
    "fpr, tpr, _ = roc_curve(test, pred)\n",
    "roc_auc = auc(fpr,tpr)\n",
    "\n",
    "fig, ax = plt.subplots(1,1)\n",
    "ax.plot(fpr, tpr, label='ROC curve (area = %0.2f)' % roc_auc)\n",
    "ax.plot([0, 1], [0, 1], 'k--')\n",
    "ax.set_xlim([0.0, 1.0])\n",
    "ax.set_ylim([0.0, 1.05])\n",
    "ax.set_xlabel('False Positive Rate')\n",
    "ax.set_ylabel('True Positive Rate')\n",
    "ax.set_title('ROC Curve')\n",
    "ax.legend(loc=\"lower right\")\n",
    "plt.show()"
   ]
  },
  {
   "cell_type": "code",
   "execution_count": 36,
   "metadata": {},
   "outputs": [
    {
     "name": "stdout",
     "output_type": "stream",
     "text": [
      "1.0\n"
     ]
    },
    {
     "data": {
      "image/png": "[encoded data removed]",
      "text/plain": [
       "<Figure size 432x288 with 1 Axes>"
      ]
     },
     "metadata": {
      "needs_background": "light"
     },
     "output_type": "display_data"
    }
   ],
   "source": [
    "import matplotlib.pyplot as plt\n",
    "from sklearn.metrics import roc_curve, auc, roc_auc_score\n",
    "fpr = dict()\n",
    "tpr = dict()\n",
    "roc_auc = dict()\n",
    "for i in range(2):\n",
    "    fpr[i], tpr[i], _ = roc_curve(test, pred)\n",
    "    roc_auc[i] = auc(fpr[i], tpr[i])\n",
    "\n",
    "print(roc_auc_score(test, pred))\n",
    "plt.figure()\n",
    "plt.plot(fpr[0], tpr[0])\n",
    "plt.xlim([0.0, 1.0])\n",
    "plt.ylim([0.0, 1.05])\n",
    "plt.xlabel('False Positive Rate')\n",
    "plt.ylabel('True Positive Rate')\n",
    "plt.title('Receiver operating characteristic')\n",
    "plt.show()"
   ]
  },
  {
   "cell_type": "code",
   "execution_count": null,
   "metadata": {},
   "outputs": [],
   "source": []
  }
 ],
 "metadata": {
  "interpreter": {
   "hash": "f756ff16342a8157e6f46b879d688029dcc5bc6cd621b2b84934bbdd850a743a"
  },
  "kernelspec": {
   "display_name": "Python 3.9.12 ('env_trauma')",
   "language": "python",
   "name": "python3"
  },
  "language_info": {
   "codemirror_mode": {
    "name": "ipython",
    "version": 3
   },
   "file_extension": ".py",
   "mimetype": "text/x-python",
   "name": "python",
   "nbconvert_exporter": "python",
   "pygments_lexer": "ipython3",
   "version": "3.9.12"
  },
  "orig_nbformat": 4
 },
 "nbformat": 4,
 "nbformat_minor": 2
}
