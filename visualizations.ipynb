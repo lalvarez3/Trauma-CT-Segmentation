{
 "cells": [
  {
   "cell_type": "code",
   "execution_count": 1,
   "metadata": {},
   "outputs": [],
   "source": [
    "import os\n",
    "from monai.transforms import (\n",
    "    AsDiscrete,\n",
    "    AddChanneld,\n",
    "    Compose,\n",
    "    CropForegroundd,\n",
    "    LoadImaged,\n",
    "    Orientationd,\n",
    "    ScaleIntensityRanged,\n",
    "    Spacingd,\n",
    "    EnsureType,\n",
    "    EnsureChannelFirstd,\n",
    "    RandFlipd,\n",
    "    RandRotated,\n",
    "    ToTensord,\n",
    "    Resized,\n",
    "    RandSpatialCropSamplesd,\n",
    "    RandRotate90d,\n",
    "    RandShiftIntensityd,\n",
    "    KeepLargestConnectedComponent,\n",
    "    RandCropByPosNegLabeld,\n",
    "    RandCropByLabelClassesd\n",
    ")\n",
    "from monai.transforms.transform import MapTransform\n",
    "from monai.transforms.inverse import InvertibleTransform\n",
    "\n",
    "from monai.config import DtypeLike, KeysCollection\n",
    "from monai.config.type_definitions import NdarrayOrTensor\n",
    "from typing import Any, Dict, Hashable, List, Mapping, Optional, Sequence, Tuple, Union"
   ]
  },
  {
   "cell_type": "code",
   "execution_count": 2,
   "metadata": {},
   "outputs": [],
   "source": [
    "class RemoveDicts(MapTransform, InvertibleTransform):\n",
    "\n",
    "    def __init__(\n",
    "        self,\n",
    "        keys: KeysCollection,\n",
    "        allow_missing_keys: bool = False,\n",
    "    ) -> None:\n",
    "        super().__init__(keys, allow_missing_keys)\n",
    "\n",
    "    def __call__(self, data: Mapping[Hashable, NdarrayOrTensor]) -> Dict[Hashable, NdarrayOrTensor]:\n",
    "        d = dict(data)\n",
    "        for key in self.key_iterator(d):\n",
    "            self.push_transform(d, key)\n",
    "        # print(d[\"image_meta_dict\"][\"filename_or_obj\"])\n",
    "        a = {\"image\": d[\"image\"], \"label\": d[\"label\"], \"path\": d[\"image_meta_dict\"][\"filename_or_obj\"]}\n",
    "        # print(a[\"path\"])\n",
    "        d = a\n",
    "        return d\n",
    "\n",
    "    def inverse(self, data: Mapping[Hashable, Any]) -> Dict[Hashable, Any]:\n",
    "        d = deepcopy(dict(data))\n",
    "        for key in self.key_iterator(d):\n",
    "            d[key] = d[key]\n",
    "            # Remove the applied transform\n",
    "            self.pop_transform(d, key)\n",
    "        return d\n"
   ]
  },
  {
   "cell_type": "code",
   "execution_count": 3,
   "metadata": {},
   "outputs": [],
   "source": [
    "from monai.visualize import matshow3d, blend_images\n",
    "import imageio\n",
    "def make_gif(predictions):\n",
    "    volumes = []\n",
    "    for prediction in predictions:\n",
    "        selected = prediction\n",
    "\n",
    "        pred = torch.argmax(selected['output'], dim=1).detach().cpu().numpy()\n",
    "        true_label = torch.sum(selected['label'][:,1:,:,:,:], dim=1).detach().cpu().numpy()\n",
    "        image = selected['image'][0].cpu().numpy()\n",
    "\n",
    "        blended_true_label = blend_images(image, true_label)\n",
    "        blended_final_true_label = torch.from_numpy(blended_true_label).permute(1,2,0,3)\n",
    "\n",
    "        blended_prediction = blend_images(image, pred)\n",
    "        blended_final_prediction = torch.from_numpy(blended_prediction).permute(1,2,0,3)\n",
    "\n",
    "        volume_pred = blended_final_prediction[:,:,:,:]\n",
    "        volume_label = blended_final_true_label[:,:,:,:]\n",
    "        volume_pred = np.squeeze(volume_pred).permute(3,0,1,2)\n",
    "        volume_label = np.squeeze(volume_label).permute(3,0,1,2)\n",
    "        volume = torch.hstack((volume_pred, volume_label)).numpy()\n",
    "        volumes.append(volume)\n",
    "    volume = np.hstack((volumes))\n",
    "    data = volume.astype(np.float64) / np.max(volume) # normalize the data to 0 - 1\n",
    "    data = 255 * data # Now scale by 255\n",
    "    volume = data.astype(np.uint8)\n",
    "    path_to_gif = f'gifs\\\\prediction.gif'\n",
    "    if not os.path.exists(\"gifs\\\\\"):\n",
    "        os.mkdir(\"gifs\\\\\")\n",
    "    imageio.mimsave(path_to_gif, volume)\n",
    "    return path_to_gif"
   ]
  },
  {
   "cell_type": "code",
   "execution_count": null,
   "metadata": {},
   "outputs": [],
   "source": []
  },
  {
   "cell_type": "code",
   "execution_count": 44,
   "metadata": {},
   "outputs": [
    {
     "name": "stderr",
     "output_type": "stream",
     "text": [
      "Uncompress failed\n"
     ]
    },
    {
     "name": "stdout",
     "output_type": "stream",
     "text": [
      "[0]\n"
     ]
    }
   ],
   "source": [
    "import SimpleITK as sitk\n",
    "\n",
    "super_amazing_case = os.path.join(\"/mnt/chansey\", \"lauraalvarez\", \"data\", \"liver\", \"train\", \"scans\", \"L110147.mha\")\n",
    "super_amazing_case_label = os.path.join(\"/mnt/chansey\", \"lauraalvarez\", \"data\", \"liver\", \"train\", \"overlays\", \"L110147.mha\")\n",
    "\n",
    "\n",
    "img = sitk.ReadImage(super_amazing_case)\n",
    "lab = sitk.GetArrayFromImage(sitk.ReadImage(super_amazing_case_label))\n",
    "\n",
    "print(np.unique(lab))\n",
    "\n",
    "\n"
   ]
  },
  {
   "cell_type": "code",
   "execution_count": 45,
   "metadata": {},
   "outputs": [
    {
     "data": {
      "text/plain": [
       "(6, 2976, 512, 512)"
      ]
     },
     "execution_count": 45,
     "metadata": {},
     "output_type": "execute_result"
    }
   ],
   "source": [
    "lab.shape"
   ]
  },
  {
   "cell_type": "code",
   "execution_count": 4,
   "metadata": {},
   "outputs": [],
   "source": [
    "import matplotlib.pyplot as plt\n",
    "from ipywidgets.widgets import * \n",
    "import ipywidgets as widgets\n",
    "import matplotlib.pyplot as plt\n",
    "\n",
    "no_injure_liver = os.path.join(\"/mnt/chansey/\", \"lauraalvarez\", \"nnunet\", \"nnUNet_raw_data_base\", \"nnUNet_raw_data\", \"Task501_LiverTrauma\", \"imagesTr\", \"TRMLIV_073_0000.nii.gz\")\n",
    "# label_error = os.path.join( \"U:\", \"lauraalvarez\", \"nnunet\", \"nnUNet_raw_data_base\", \"nnUNet_raw_data\", \"Task501_LiverTrauma\", \"TRMLIV_073_0000_label_error_maybe.nii.gz\")\n",
    "# scan_error = os.path.join( \"U:\", \"lauraalvarez\", \"nnunet\", \"nnUNet_raw_data_base\", \"nnUNet_raw_data\", \"Task501_LiverTrauma\", \"TRMLIV_073_0000_scan_error_maybe.nii.gz\")\n",
    "no_injure_liver_label = os.path.join(  \"/mnt/chansey/\", \"lauraalvarez\", \"nnunet\", \"nnUNet_raw_data_base\", \"nnUNet_raw_data\", \"Task501_LiverTrauma\", \"labelsTr\", \"TRMLIV_073_0000.nii.gz\")\n",
    "injure_liver = os.path.join(  \"/mnt/chansey/\", \"lauraalvarez\", \"nnunet\", \"nnUNet_raw_data_base\", \"nnUNet_raw_data\", \"Task501_LiverTrauma\", \"imagesTr\", \"TRMLIV_046_0000.nii.gz\")\n",
    "injure_liver_label = os.path.join( \"/mnt/chansey/\", \"lauraalvarez\", \"nnunet\", \"nnUNet_raw_data_base\", \"nnUNet_raw_data\", \"Task501_LiverTrauma\", \"labelsTr\", \"TRMLIV_046_0000.nii.gz\")"
   ]
  },
  {
   "cell_type": "code",
   "execution_count": 50,
   "metadata": {},
   "outputs": [
    {
     "ename": "KeyboardInterrupt",
     "evalue": "",
     "output_type": "error",
     "traceback": [
      "\u001b[0;31m---------------------------------------------------------------------------\u001b[0m",
      "\u001b[0;31mKeyboardInterrupt\u001b[0m                         Traceback (most recent call last)",
      "\u001b[1;32m/mnt/chansey/lauraalvarez/traumaAI/Liver_Segmentation/visualizations.ipynb Cell 8'\u001b[0m in \u001b[0;36m<cell line: 11>\u001b[0;34m()\u001b[0m\n\u001b[1;32m      <a href='vscode-notebook-cell://wsl%2Bubuntu/mnt/chansey/lauraalvarez/traumaAI/Liver_Segmentation/visualizations.ipynb#ch0000004vscode-remote?line=5'>6</a>\u001b[0m img_ni_label \u001b[39m=\u001b[39m nib\u001b[39m.\u001b[39mload(label)\n\u001b[1;32m      <a href='vscode-notebook-cell://wsl%2Bubuntu/mnt/chansey/lauraalvarez/traumaAI/Liver_Segmentation/visualizations.ipynb#ch0000004vscode-remote?line=7'>8</a>\u001b[0m \u001b[39m# img_in = nib.load(injure_liver)\u001b[39;00m\n\u001b[1;32m      <a href='vscode-notebook-cell://wsl%2Bubuntu/mnt/chansey/lauraalvarez/traumaAI/Liver_Segmentation/visualizations.ipynb#ch0000004vscode-remote?line=8'>9</a>\u001b[0m \u001b[39m# img_in_label = nib.load(injure_liver_label)\u001b[39;00m\n\u001b[0;32m---> <a href='vscode-notebook-cell://wsl%2Bubuntu/mnt/chansey/lauraalvarez/traumaAI/Liver_Segmentation/visualizations.ipynb#ch0000004vscode-remote?line=10'>11</a>\u001b[0m ni_arr \u001b[39m=\u001b[39m img_ni\u001b[39m.\u001b[39;49mget_fdata()\n\u001b[1;32m     <a href='vscode-notebook-cell://wsl%2Bubuntu/mnt/chansey/lauraalvarez/traumaAI/Liver_Segmentation/visualizations.ipynb#ch0000004vscode-remote?line=11'>12</a>\u001b[0m \u001b[39m# in_arr = img_in.get_fdata()\u001b[39;00m\n\u001b[1;32m     <a href='vscode-notebook-cell://wsl%2Bubuntu/mnt/chansey/lauraalvarez/traumaAI/Liver_Segmentation/visualizations.ipynb#ch0000004vscode-remote?line=12'>13</a>\u001b[0m ni_arr_label \u001b[39m=\u001b[39m img_ni_label\u001b[39m.\u001b[39mget_fdata()\n",
      "File \u001b[0;32m~/miniconda3/envs/env_trauma/lib/python3.9/site-packages/nibabel/dataobj_images.py:355\u001b[0m, in \u001b[0;36mDataobjImage.get_fdata\u001b[0;34m(self, caching, dtype)\u001b[0m\n\u001b[1;32m    <a href='file:///home/trauma/miniconda3/envs/env_trauma/lib/python3.9/site-packages/nibabel/dataobj_images.py?line=350'>351</a>\u001b[0m         \u001b[39mreturn\u001b[39;00m \u001b[39mself\u001b[39m\u001b[39m.\u001b[39m_fdata_cache\n\u001b[1;32m    <a href='file:///home/trauma/miniconda3/envs/env_trauma/lib/python3.9/site-packages/nibabel/dataobj_images.py?line=351'>352</a>\u001b[0m \u001b[39m# Always return requested data type\u001b[39;00m\n\u001b[1;32m    <a href='file:///home/trauma/miniconda3/envs/env_trauma/lib/python3.9/site-packages/nibabel/dataobj_images.py?line=352'>353</a>\u001b[0m \u001b[39m# For array proxies, will attempt to confine data array to dtype\u001b[39;00m\n\u001b[1;32m    <a href='file:///home/trauma/miniconda3/envs/env_trauma/lib/python3.9/site-packages/nibabel/dataobj_images.py?line=353'>354</a>\u001b[0m \u001b[39m# during scaling\u001b[39;00m\n\u001b[0;32m--> <a href='file:///home/trauma/miniconda3/envs/env_trauma/lib/python3.9/site-packages/nibabel/dataobj_images.py?line=354'>355</a>\u001b[0m data \u001b[39m=\u001b[39m np\u001b[39m.\u001b[39;49masanyarray(\u001b[39mself\u001b[39;49m\u001b[39m.\u001b[39;49m_dataobj, dtype\u001b[39m=\u001b[39;49mdtype)\n\u001b[1;32m    <a href='file:///home/trauma/miniconda3/envs/env_trauma/lib/python3.9/site-packages/nibabel/dataobj_images.py?line=355'>356</a>\u001b[0m \u001b[39mif\u001b[39;00m caching \u001b[39m==\u001b[39m \u001b[39m'\u001b[39m\u001b[39mfill\u001b[39m\u001b[39m'\u001b[39m:\n\u001b[1;32m    <a href='file:///home/trauma/miniconda3/envs/env_trauma/lib/python3.9/site-packages/nibabel/dataobj_images.py?line=356'>357</a>\u001b[0m     \u001b[39mself\u001b[39m\u001b[39m.\u001b[39m_fdata_cache \u001b[39m=\u001b[39m data\n",
      "File \u001b[0;32m~/miniconda3/envs/env_trauma/lib/python3.9/site-packages/nibabel/arrayproxy.py:391\u001b[0m, in \u001b[0;36mArrayProxy.__array__\u001b[0;34m(self, dtype)\u001b[0m\n\u001b[1;32m    <a href='file:///home/trauma/miniconda3/envs/env_trauma/lib/python3.9/site-packages/nibabel/arrayproxy.py?line=369'>370</a>\u001b[0m \u001b[39mdef\u001b[39;00m \u001b[39m__array__\u001b[39m(\u001b[39mself\u001b[39m, dtype\u001b[39m=\u001b[39m\u001b[39mNone\u001b[39;00m):\n\u001b[1;32m    <a href='file:///home/trauma/miniconda3/envs/env_trauma/lib/python3.9/site-packages/nibabel/arrayproxy.py?line=370'>371</a>\u001b[0m     \u001b[39m\"\"\" Read data from file and apply scaling, casting to ``dtype``\u001b[39;00m\n\u001b[1;32m    <a href='file:///home/trauma/miniconda3/envs/env_trauma/lib/python3.9/site-packages/nibabel/arrayproxy.py?line=371'>372</a>\u001b[0m \n\u001b[1;32m    <a href='file:///home/trauma/miniconda3/envs/env_trauma/lib/python3.9/site-packages/nibabel/arrayproxy.py?line=372'>373</a>\u001b[0m \u001b[39m    If ``dtype`` is unspecified, the dtype of the returned array is the\u001b[39;00m\n\u001b[0;32m   (...)\u001b[0m\n\u001b[1;32m    <a href='file:///home/trauma/miniconda3/envs/env_trauma/lib/python3.9/site-packages/nibabel/arrayproxy.py?line=388'>389</a>\u001b[0m \u001b[39m        Scaled image data with type `dtype`.\u001b[39;00m\n\u001b[1;32m    <a href='file:///home/trauma/miniconda3/envs/env_trauma/lib/python3.9/site-packages/nibabel/arrayproxy.py?line=389'>390</a>\u001b[0m \u001b[39m    \"\"\"\u001b[39;00m\n\u001b[0;32m--> <a href='file:///home/trauma/miniconda3/envs/env_trauma/lib/python3.9/site-packages/nibabel/arrayproxy.py?line=390'>391</a>\u001b[0m     arr \u001b[39m=\u001b[39m \u001b[39mself\u001b[39;49m\u001b[39m.\u001b[39;49m_get_scaled(dtype\u001b[39m=\u001b[39;49mdtype, slicer\u001b[39m=\u001b[39;49m())\n\u001b[1;32m    <a href='file:///home/trauma/miniconda3/envs/env_trauma/lib/python3.9/site-packages/nibabel/arrayproxy.py?line=391'>392</a>\u001b[0m     \u001b[39mif\u001b[39;00m dtype \u001b[39mis\u001b[39;00m \u001b[39mnot\u001b[39;00m \u001b[39mNone\u001b[39;00m:\n\u001b[1;32m    <a href='file:///home/trauma/miniconda3/envs/env_trauma/lib/python3.9/site-packages/nibabel/arrayproxy.py?line=392'>393</a>\u001b[0m         arr \u001b[39m=\u001b[39m arr\u001b[39m.\u001b[39mastype(dtype, copy\u001b[39m=\u001b[39m\u001b[39mFalse\u001b[39;00m)\n",
      "File \u001b[0;32m~/miniconda3/envs/env_trauma/lib/python3.9/site-packages/nibabel/arrayproxy.py:360\u001b[0m, in \u001b[0;36mArrayProxy._get_scaled\u001b[0;34m(self, dtype, slicer)\u001b[0m\n\u001b[1;32m    <a href='file:///home/trauma/miniconda3/envs/env_trauma/lib/python3.9/site-packages/nibabel/arrayproxy.py?line=357'>358</a>\u001b[0m scaled \u001b[39m=\u001b[39m apply_read_scaling(\u001b[39mself\u001b[39m\u001b[39m.\u001b[39m_get_unscaled(slicer\u001b[39m=\u001b[39mslicer), scl_slope, scl_inter)\n\u001b[1;32m    <a href='file:///home/trauma/miniconda3/envs/env_trauma/lib/python3.9/site-packages/nibabel/arrayproxy.py?line=358'>359</a>\u001b[0m \u001b[39mif\u001b[39;00m dtype \u001b[39mis\u001b[39;00m \u001b[39mnot\u001b[39;00m \u001b[39mNone\u001b[39;00m:\n\u001b[0;32m--> <a href='file:///home/trauma/miniconda3/envs/env_trauma/lib/python3.9/site-packages/nibabel/arrayproxy.py?line=359'>360</a>\u001b[0m     scaled \u001b[39m=\u001b[39m scaled\u001b[39m.\u001b[39;49mastype(np\u001b[39m.\u001b[39;49mpromote_types(scaled\u001b[39m.\u001b[39;49mdtype, dtype), copy\u001b[39m=\u001b[39;49m\u001b[39mFalse\u001b[39;49;00m)\n\u001b[1;32m    <a href='file:///home/trauma/miniconda3/envs/env_trauma/lib/python3.9/site-packages/nibabel/arrayproxy.py?line=360'>361</a>\u001b[0m \u001b[39mreturn\u001b[39;00m scaled\n",
      "\u001b[0;31mKeyboardInterrupt\u001b[0m: "
     ]
    }
   ],
   "source": [
    "import nibabel as nib\n",
    "img = injure_liver\n",
    "label = injure_liver_label\n",
    "\n",
    "img_ni = nib.load(img)\n",
    "img_ni_label = nib.load(label)\n",
    "\n",
    "# img_in = nib.load(injure_liver)\n",
    "# img_in_label = nib.load(injure_liver_label)\n",
    "\n",
    "ni_arr = img_ni.get_fdata()\n",
    "# in_arr = img_in.get_fdata()\n",
    "ni_arr_label = img_ni_label.get_fdata()\n",
    "# in_arr_label = img_in_label.get_fdata()"
   ]
  },
  {
   "cell_type": "code",
   "execution_count": 7,
   "metadata": {},
   "outputs": [
    {
     "data": {
      "text/plain": [
       "(1, 512, 512, 2976)"
      ]
     },
     "execution_count": 7,
     "metadata": {},
     "output_type": "execute_result"
    }
   ],
   "source": [
    "import numpy as np\n",
    "np.expand_dims(ni_arr_label, axis=0).shape"
   ]
  },
  {
   "cell_type": "code",
   "execution_count": 14,
   "metadata": {},
   "outputs": [
    {
     "ename": "NameError",
     "evalue": "name 'ni_arr' is not defined",
     "output_type": "error",
     "traceback": [
      "\u001b[0;31m---------------------------------------------------------------------------\u001b[0m",
      "\u001b[0;31mNameError\u001b[0m                                 Traceback (most recent call last)",
      "\u001b[1;32m/mnt/chansey/lauraalvarez/traumaAI/Liver_Segmentation/visualizations.ipynb Cell 10'\u001b[0m in \u001b[0;36m<cell line: 1>\u001b[0;34m()\u001b[0m\n\u001b[0;32m----> <a href='vscode-notebook-cell://wsl%2Bubuntu/mnt/chansey/lauraalvarez/traumaAI/Liver_Segmentation/visualizations.ipynb#ch0000006vscode-remote?line=0'>1</a>\u001b[0m injures \u001b[39m=\u001b[39m {\u001b[39m'\u001b[39m\u001b[39mimage\u001b[39m\u001b[39m'\u001b[39m: ni_arr, \u001b[39m'\u001b[39m\u001b[39mlabel\u001b[39m\u001b[39m'\u001b[39m:ni_arr_label}\n\u001b[1;32m      <a href='vscode-notebook-cell://wsl%2Bubuntu/mnt/chansey/lauraalvarez/traumaAI/Liver_Segmentation/visualizations.ipynb#ch0000006vscode-remote?line=1'>2</a>\u001b[0m train_transforms \u001b[39m=\u001b[39m Compose(\n\u001b[1;32m      <a href='vscode-notebook-cell://wsl%2Bubuntu/mnt/chansey/lauraalvarez/traumaAI/Liver_Segmentation/visualizations.ipynb#ch0000006vscode-remote?line=2'>3</a>\u001b[0m             [\n\u001b[1;32m      <a href='vscode-notebook-cell://wsl%2Bubuntu/mnt/chansey/lauraalvarez/traumaAI/Liver_Segmentation/visualizations.ipynb#ch0000006vscode-remote?line=3'>4</a>\u001b[0m                 AddChanneld(keys\u001b[39m=\u001b[39m[\u001b[39m\"\u001b[39m\u001b[39mimage\u001b[39m\u001b[39m\"\u001b[39m, \u001b[39m\"\u001b[39m\u001b[39mlabel\u001b[39m\u001b[39m\"\u001b[39m]),\n\u001b[0;32m   (...)\u001b[0m\n\u001b[1;32m     <a href='vscode-notebook-cell://wsl%2Bubuntu/mnt/chansey/lauraalvarez/traumaAI/Liver_Segmentation/visualizations.ipynb#ch0000006vscode-remote?line=21'>22</a>\u001b[0m             ]\n\u001b[1;32m     <a href='vscode-notebook-cell://wsl%2Bubuntu/mnt/chansey/lauraalvarez/traumaAI/Liver_Segmentation/visualizations.ipynb#ch0000006vscode-remote?line=22'>23</a>\u001b[0m         )\n\u001b[1;32m     <a href='vscode-notebook-cell://wsl%2Bubuntu/mnt/chansey/lauraalvarez/traumaAI/Liver_Segmentation/visualizations.ipynb#ch0000006vscode-remote?line=23'>24</a>\u001b[0m injures \u001b[39m=\u001b[39m train_transforms(injures)\n",
      "\u001b[0;31mNameError\u001b[0m: name 'ni_arr' is not defined"
     ]
    }
   ],
   "source": [
    "injures = {'image': ni_arr, 'label':ni_arr_label}\n",
    "train_transforms = Compose(\n",
    "            [\n",
    "                AddChanneld(keys=[\"image\", \"label\"]),\n",
    "                Orientationd(keys=[\"image\", \"label\"], axcodes=\"RAS\"),\n",
    "                Spacingd(\n",
    "                    keys=[\"image\", \"label\"],\n",
    "                    pixdim=(1.5, 1.5, 2.0),\n",
    "                    mode=(\"bilinear\", \"nearest\"),\n",
    "                ),\n",
    "                # Resized(keys=[\"image\", \"label\"], spatial_size=self.val_img_size),\n",
    "                ScaleIntensityRanged(\n",
    "                    keys=[\"image\"],\n",
    "                    a_min=-175,\n",
    "                    a_max=250,\n",
    "                    b_min=0.0,\n",
    "                    b_max=1.0,\n",
    "                    clip=True,\n",
    "                ),\n",
    "                CropForegroundd(keys=[\"image\", \"label\"], source_key=\"image\"),\n",
    "                ToTensord(keys=[\"image\", \"label\"]),\n",
    "            ]\n",
    "        )\n",
    "injures = train_transforms(injures)\n"
   ]
  },
  {
   "cell_type": "code",
   "execution_count": 5,
   "metadata": {},
   "outputs": [],
   "source": [
    "paths = {'image': injure_liver, 'label': injure_liver_label}\n",
    "val_transforms = Compose(\n",
    "            [\n",
    "                LoadImaged(keys=[\"image\", \"label\"]),\n",
    "                RemoveDicts(keys=[\"image\", \"label\"]),\n",
    "                AddChanneld(keys=[\"image\", \"label\"]),\n",
    "                Orientationd(keys=[\"image\", \"label\"], axcodes=\"RAS\"),\n",
    "                Spacingd(\n",
    "                    keys=[\"image\", \"label\"],\n",
    "                    pixdim=(1.5, 1.5, 2.0),\n",
    "                    mode=(\"bilinear\", \"nearest\"),\n",
    "                ),\n",
    "                # Resized(keys=[\"image\", \"label\"], spatial_size=self.val_img_size),\n",
    "                ScaleIntensityRanged(\n",
    "                    keys=[\"image\"],\n",
    "                    a_min=-175,\n",
    "                    a_max=250,\n",
    "                    b_min=0.0,\n",
    "                    b_max=1.0,\n",
    "                    clip=True,\n",
    "                ),\n",
    "                CropForegroundd(keys=[\"image\", \"label\"], source_key=\"image\"),\n",
    "                ToTensord(keys=[\"image\", \"label\"]),\n",
    "                # RemoveDicts(keys=[\"image\", \"label\"]),\n",
    "            ]\n",
    "        )\n",
    "injures = val_transforms(paths)"
   ]
  },
  {
   "cell_type": "code",
   "execution_count": 16,
   "metadata": {},
   "outputs": [
    {
     "data": {
      "text/plain": [
       "torch.Size([1, 342, 263, 633])"
      ]
     },
     "execution_count": 16,
     "metadata": {},
     "output_type": "execute_result"
    }
   ],
   "source": [
    "injures[\"image\"].shape"
   ]
  },
  {
   "cell_type": "code",
   "execution_count": 17,
   "metadata": {},
   "outputs": [
    {
     "data": {
      "text/plain": [
       "tensor([[[[0., 0., 0.,  ..., 0., 0., 0.],\n",
       "          [0., 0., 0.,  ..., 0., 0., 0.],\n",
       "          [0., 0., 0.,  ..., 0., 0., 0.],\n",
       "          ...,\n",
       "          [0., 0., 0.,  ..., 0., 0., 0.],\n",
       "          [0., 0., 0.,  ..., 0., 0., 0.],\n",
       "          [0., 0., 0.,  ..., 0., 0., 0.]],\n",
       "\n",
       "         [[0., 0., 0.,  ..., 0., 0., 0.],\n",
       "          [0., 0., 0.,  ..., 0., 0., 0.],\n",
       "          [0., 0., 0.,  ..., 0., 0., 0.],\n",
       "          ...,\n",
       "          [0., 0., 0.,  ..., 0., 0., 0.],\n",
       "          [0., 0., 0.,  ..., 0., 0., 0.],\n",
       "          [0., 0., 0.,  ..., 0., 0., 0.]],\n",
       "\n",
       "         [[0., 0., 0.,  ..., 0., 0., 0.],\n",
       "          [0., 0., 0.,  ..., 0., 0., 0.],\n",
       "          [0., 0., 0.,  ..., 0., 0., 0.],\n",
       "          ...,\n",
       "          [0., 0., 0.,  ..., 0., 0., 0.],\n",
       "          [0., 0., 0.,  ..., 0., 0., 0.],\n",
       "          [0., 0., 0.,  ..., 0., 0., 0.]],\n",
       "\n",
       "         ...,\n",
       "\n",
       "         [[0., 0., 0.,  ..., 0., 0., 0.],\n",
       "          [0., 0., 0.,  ..., 0., 0., 0.],\n",
       "          [0., 0., 0.,  ..., 0., 0., 0.],\n",
       "          ...,\n",
       "          [0., 0., 0.,  ..., 0., 0., 0.],\n",
       "          [0., 0., 0.,  ..., 0., 0., 0.],\n",
       "          [0., 0., 0.,  ..., 0., 0., 0.]],\n",
       "\n",
       "         [[0., 0., 0.,  ..., 0., 0., 0.],\n",
       "          [0., 0., 0.,  ..., 0., 0., 0.],\n",
       "          [0., 0., 0.,  ..., 0., 0., 0.],\n",
       "          ...,\n",
       "          [0., 0., 0.,  ..., 0., 0., 0.],\n",
       "          [0., 0., 0.,  ..., 0., 0., 0.],\n",
       "          [0., 0., 0.,  ..., 0., 0., 0.]],\n",
       "\n",
       "         [[0., 0., 0.,  ..., 0., 0., 0.],\n",
       "          [0., 0., 0.,  ..., 0., 0., 0.],\n",
       "          [0., 0., 0.,  ..., 0., 0., 0.],\n",
       "          ...,\n",
       "          [0., 0., 0.,  ..., 0., 0., 0.],\n",
       "          [0., 0., 0.,  ..., 0., 0., 0.],\n",
       "          [0., 0., 0.,  ..., 0., 0., 0.]]]])"
      ]
     },
     "execution_count": 17,
     "metadata": {},
     "output_type": "execute_result"
    }
   ],
   "source": [
    "injures[\"label\"]"
   ]
  },
  {
   "cell_type": "code",
   "execution_count": 6,
   "metadata": {},
   "outputs": [
    {
     "data": {
      "text/plain": [
       "array([0., 1., 2.], dtype=float32)"
      ]
     },
     "execution_count": 6,
     "metadata": {},
     "output_type": "execute_result"
    }
   ],
   "source": [
    "import numpy as np\n",
    "np.unique(injures[\"label\"])"
   ]
  },
  {
   "cell_type": "code",
   "execution_count": 11,
   "metadata": {},
   "outputs": [
    {
     "name": "stdout",
     "output_type": "stream",
     "text": [
      "(3, 339, 260, 681)\n"
     ]
    }
   ],
   "source": [
    "from monai.visualize import matshow3d, blend_images\n",
    "import torch \n",
    "\n",
    "# blended_label_ni = blend_images(np.expand_dims(ni_arr, axis=0), np.expand_dims(ni_arr_label, axis=0) )\n",
    "# print(blended_label_ni.shape)\n",
    "# blended_final_label = torch.from_numpy(blended_label_ni).permute(1,2,0,3)\n",
    "\n",
    "blended_label_in = blend_images(injures[\"image\"].cpu().numpy(), injures[\"label\"].cpu().numpy())\n",
    "print(blended_label_in.shape)\n",
    "blended_final = torch.from_numpy(blended_label_in).permute(1,2,0,3)\n"
   ]
  },
  {
   "cell_type": "code",
   "execution_count": 56,
   "metadata": {},
   "outputs": [
    {
     "data": {
      "text/plain": [
       "torch.Size([3, 342, 281, 681])"
      ]
     },
     "execution_count": 56,
     "metadata": {},
     "output_type": "execute_result"
    }
   ],
   "source": [
    "blended_final_p = blended_final.T.permute(2,0,1,3)\n",
    "blended_final.T.permute(1,3,2,0).shape"
   ]
  },
  {
   "cell_type": "code",
   "execution_count": 12,
   "metadata": {},
   "outputs": [
    {
     "data": {
      "application/vnd.jupyter.widget-view+json": {
       "model_id": "bfdb6f66447547fbad0d2b9747d28251",
       "version_major": 2,
       "version_minor": 0
      },
      "text/plain": [
       "interactive(children=(IntSlider(value=340, description='slice', max=680), Output()), _dom_classes=('widget-int…"
      ]
     },
     "metadata": {},
     "output_type": "display_data"
    },
    {
     "data": {
      "text/plain": [
       "<function __main__.dicom_animation(slice)>"
      ]
     },
     "execution_count": 12,
     "metadata": {},
     "output_type": "execute_result"
    }
   ],
   "source": [
    "def dicom_animation(slice):\n",
    "    # extent = np.min(x), np.max(x), np.min(y), np.max(y)\n",
    "    plt.figure(figsize=(18, 6))\n",
    "    plt.title(f\"liver no injured \")\n",
    "    plt.imshow(blended_final[:, :, :, slice], cmap=\"bone\")\n",
    "    # plt.imshow(ni_arr_label[:, :, :, slice], cmap=plt.cm.viridis, alpha=.15, interpolation=None)\n",
    "    plt.show()\n",
    "\n",
    "interact(dicom_animation, slice=(0, blended_final.shape[-1]-1))"
   ]
  },
  {
   "cell_type": "code",
   "execution_count": null,
   "metadata": {},
   "outputs": [
    {
     "data": {
      "application/vnd.jupyter.widget-view+json": {
       "model_id": "ade68b4f1a10459a8bc5337a7a93cfdc",
       "version_major": 2,
       "version_minor": 0
      },
      "text/plain": [
       "interactive(children=(IntSlider(value=704, description='slice', max=1408), Output()), _dom_classes=('widget-in…"
      ]
     },
     "metadata": {},
     "output_type": "display_data"
    },
    {
     "data": {
      "text/plain": [
       "<function __main__.dicom_animation(slice)>"
      ]
     },
     "execution_count": 90,
     "metadata": {},
     "output_type": "execute_result"
    }
   ],
   "source": [
    "def dicom_animation(slice):\n",
    "    # extent = np.min(x), np.max(x), np.min(y), np.max(y)\n",
    "    plt.figure(figsize=(18, 6))\n",
    "    plt.title(f\"liver no injured \")\n",
    "    plt.imshow(in_arr[:, :, slice], cmap=\"bone\")\n",
    "    plt.imshow(in_arr_label[:, :, slice], cmap=plt.cm.viridis, alpha=.15, interpolation=None)\n",
    "    plt.show()\n",
    "\n",
    "interact(dicom_animation, slice=(0, in_arr_label.shape[-1]-1))"
   ]
  },
  {
   "cell_type": "code",
   "execution_count": 32,
   "metadata": {},
   "outputs": [
    {
     "name": "stdout",
     "output_type": "stream",
     "text": [
      "Collecting nilearn\n",
      "  Downloading nilearn-0.9.1-py3-none-any.whl (9.6 MB)\n",
      "\u001b[K     |████████████████████████████████| 9.6 MB 6.0 MB/s eta 0:00:01\n",
      "\u001b[?25hRequirement already satisfied: scikit-learn>=0.22 in /home/trauma/miniconda3/envs/env_trauma/lib/python3.9/site-packages (from nilearn) (1.1.1)\n",
      "Requirement already satisfied: requests>=2 in /home/trauma/miniconda3/envs/env_trauma/lib/python3.9/site-packages (from nilearn) (2.27.1)\n",
      "Requirement already satisfied: scipy>=1.5 in /home/trauma/miniconda3/envs/env_trauma/lib/python3.9/site-packages (from nilearn) (1.8.1)\n",
      "Requirement already satisfied: pandas>=1.0 in /home/trauma/miniconda3/envs/env_trauma/lib/python3.9/site-packages (from nilearn) (1.4.2)\n",
      "Requirement already satisfied: nibabel>=3.0.0 in /home/trauma/miniconda3/envs/env_trauma/lib/python3.9/site-packages (from nilearn) (3.2.2)\n",
      "Requirement already satisfied: joblib>=0.15 in /home/trauma/miniconda3/envs/env_trauma/lib/python3.9/site-packages (from nilearn) (1.1.0)\n",
      "Collecting lxml\n",
      "  Downloading lxml-4.8.0-cp39-cp39-manylinux_2_17_x86_64.manylinux2014_x86_64.manylinux_2_24_x86_64.whl (6.9 MB)\n",
      "\u001b[K     |████████████████████████████████| 6.9 MB 103.1 MB/s eta 0:00:01\n",
      "\u001b[?25hRequirement already satisfied: numpy>=1.18 in /home/trauma/miniconda3/envs/env_trauma/lib/python3.9/site-packages (from nilearn) (1.22.3)\n",
      "Requirement already satisfied: packaging>=14.3 in /home/trauma/miniconda3/envs/env_trauma/lib/python3.9/site-packages (from nibabel>=3.0.0->nilearn) (21.3)\n",
      "Requirement already satisfied: setuptools in /home/trauma/miniconda3/envs/env_trauma/lib/python3.9/site-packages (from nibabel>=3.0.0->nilearn) (61.2.0)\n",
      "Requirement already satisfied: pyparsing!=3.0.5,>=2.0.2 in /home/trauma/miniconda3/envs/env_trauma/lib/python3.9/site-packages (from packaging>=14.3->nibabel>=3.0.0->nilearn) (3.0.9)\n",
      "Requirement already satisfied: python-dateutil>=2.8.1 in /home/trauma/miniconda3/envs/env_trauma/lib/python3.9/site-packages (from pandas>=1.0->nilearn) (2.8.2)\n",
      "Requirement already satisfied: pytz>=2020.1 in /home/trauma/miniconda3/envs/env_trauma/lib/python3.9/site-packages (from pandas>=1.0->nilearn) (2022.1)\n",
      "Requirement already satisfied: six>=1.5 in /home/trauma/miniconda3/envs/env_trauma/lib/python3.9/site-packages (from python-dateutil>=2.8.1->pandas>=1.0->nilearn) (1.16.0)\n",
      "Requirement already satisfied: charset-normalizer~=2.0.0 in /home/trauma/miniconda3/envs/env_trauma/lib/python3.9/site-packages (from requests>=2->nilearn) (2.0.12)\n",
      "Requirement already satisfied: idna<4,>=2.5 in /home/trauma/miniconda3/envs/env_trauma/lib/python3.9/site-packages (from requests>=2->nilearn) (3.3)\n",
      "Requirement already satisfied: urllib3<1.27,>=1.21.1 in /home/trauma/miniconda3/envs/env_trauma/lib/python3.9/site-packages (from requests>=2->nilearn) (1.26.9)\n",
      "Requirement already satisfied: certifi>=2017.4.17 in /home/trauma/miniconda3/envs/env_trauma/lib/python3.9/site-packages (from requests>=2->nilearn) (2021.10.8)\n",
      "Requirement already satisfied: threadpoolctl>=2.0.0 in /home/trauma/miniconda3/envs/env_trauma/lib/python3.9/site-packages (from scikit-learn>=0.22->nilearn) (3.1.0)\n",
      "Installing collected packages: lxml, nilearn\n",
      "Successfully installed lxml-4.8.0 nilearn-0.9.1\n",
      "Note: you may need to restart the kernel to use updated packages.\n"
     ]
    }
   ],
   "source": [
    "pip install nilearn"
   ]
  },
  {
   "cell_type": "code",
   "execution_count": 33,
   "metadata": {},
   "outputs": [
    {
     "data": {
      "image/png": "[encoded data removed]",
      "text/plain": [
       "<Figure size 475.2x187.2 with 5 Axes>"
      ]
     },
     "metadata": {},
     "output_type": "display_data"
    }
   ],
   "source": [
    "from nilearn import plotting\n",
    "display = plotting.plot_anat(injure_liver)  # plot volume \n",
    "display.add_overlay(injure_liver_label,cmap='hot', colorbar=True) "
   ]
  },
  {
   "cell_type": "code",
   "execution_count": 97,
   "metadata": {},
   "outputs": [
    {
     "name": "stdout",
     "output_type": "stream",
     "text": [
      "MONAI version: 0.8.1\n",
      "Numpy version: 1.21.5\n",
      "Pytorch version: 1.11.0\n",
      "MONAI flags: HAS_EXT = False, USE_COMPILED = False\n",
      "MONAI rev id: 71ff399a3ea07aef667b23653620a290364095b1\n",
      "\n",
      "Optional dependencies:\n",
      "Pytorch Ignite version: 0.4.2\n",
      "Nibabel version: 3.2.2\n",
      "scikit-image version: 0.19.2\n",
      "Pillow version: 9.0.1\n",
      "Tensorboard version: 2.8.0\n",
      "gdown version: 4.4.0\n",
      "TorchVision version: 0.12.0\n",
      "tqdm version: 4.64.0\n",
      "lmdb version: 1.3.0\n",
      "psutil version: 5.9.0\n",
      "pandas version: 1.4.2\n",
      "einops version: 0.4.1\n",
      "transformers version: NOT INSTALLED or UNKNOWN VERSION.\n",
      "mlflow version: NOT INSTALLED or UNKNOWN VERSION.\n",
      "\n",
      "For details about installing the optional dependencies, please visit:\n",
      "    https://docs.monai.io/en/latest/installation.html#installing-the-recommended-dependencies\n",
      "\n"
     ]
    }
   ],
   "source": [
    "import numpy as np\n",
    "from monai.data.image_reader import ImageReader, ITKReader\n",
    "from ipywidgets.widgets import *\n",
    "import ipywidgets as widgets\n",
    "\n",
    "import matplotlib.pyplot as plt\n",
    "import pytorch_lightning\n",
    "from monai.utils import set_determinism\n",
    "from monai.transforms import (\n",
    "    AsDiscrete,\n",
    "    AddChanneld,\n",
    "    Compose,\n",
    "    CropForegroundd,\n",
    "    LoadImaged,\n",
    "    Orientationd,\n",
    "    ScaleIntensityRanged,\n",
    "    Spacingd,\n",
    "    EnsureType,\n",
    "    EnsureChannelFirstd,\n",
    "    RandFlipd,\n",
    "    RandRotated\n",
    ")\n",
    "import wandb\n",
    "from monai.networks.nets import UNet\n",
    "from monai.networks.layers import Norm\n",
    "from monai.metrics import DiceMetric\n",
    "from monai.losses import DiceFocalLoss, GeneralizedDiceLoss\n",
    "from monai.losses import DiceLoss\n",
    "from monai.inferers import sliding_window_inference\n",
    "from monai.data import CacheDataset, list_data_collate, decollate_batch, Dataset\n",
    "from monai.config import print_config\n",
    "from monai.apps import download_and_extract\n",
    "import torch\n",
    "\n",
    "import os\n",
    "import glob\n",
    "from tqdm import tqdm\n",
    "import numpy as np\n",
    "from monai.data import DataLoader\n",
    "import os\n",
    "import glob\n",
    "from monai.transforms.spatial.array import Resize\n",
    "\n",
    "from copy import deepcopy\n",
    "from enum import Enum\n",
    "from typing import Any, Dict, Hashable, List, Mapping, Optional, Sequence, Tuple, Union\n",
    "\n",
    "from monai.config import DtypeLike, KeysCollection\n",
    "from monai.config.type_definitions import NdarrayOrTensor\n",
    "from monai.networks.layers import AffineTransform\n",
    "from monai.networks.layers.simplelayers import GaussianFilter\n",
    "from monai.transforms.croppad.array import CenterSpatialCrop, SpatialPad\n",
    "from monai.transforms.inverse import InvertibleTransform\n",
    "from monai.transforms.spatial.array import (\n",
    "    Resize,\n",
    ")\n",
    "from monai.transforms.transform import MapTransform, RandomizableTransform\n",
    "from monai.transforms.utils import create_grid\n",
    "from monai.utils import (\n",
    "    InterpolateMode,\n",
    "    ensure_tuple_rep,\n",
    ")\n",
    "from monai.utils.deprecate_utils import deprecated_arg\n",
    "from monai.utils.enums import TraceKeys\n",
    "from monai.utils.module import optional_import\n",
    "from monai.utils.type_conversion import convert_data_type, convert_to_dst_type\n",
    "from monai.apps import load_from_mmar\n",
    "from monai.apps.mmars import RemoteMMARKeys\n",
    "from monai.networks.utils import copy_model_state\n",
    "from monai.optimizers import generate_param_groups\n",
    "import torch.optim as optim\n",
    "print_config()"
   ]
  },
  {
   "cell_type": "code",
   "execution_count": 19,
   "metadata": {},
   "outputs": [],
   "source": [
    "import numpy as np\n",
    "test = np.random.randint(low=0, high=2, size=(20))\n",
    "\n",
    "pred = np.random.uniform(0,1, size=(20))"
   ]
  },
  {
   "cell_type": "code",
   "execution_count": 51,
   "metadata": {},
   "outputs": [],
   "source": [
    "import torch\n",
    "from torch import tensor\n",
    "test = [0, 0, 0, 0, 1, 1, 1, 0,0, 0,]\n",
    "pred = [tensor(1), tensor(0.5), tensor(0.1), tensor(0.2), tensor(1), 0.15, 0.4, 0.7,0.9, 0.3]"
   ]
  },
  {
   "cell_type": "code",
   "execution_count": 52,
   "metadata": {},
   "outputs": [
    {
     "data": {
      "image/png": "[encoded data removed]",
      "text/plain": [
       "<Figure size 432x288 with 1 Axes>"
      ]
     },
     "metadata": {
      "needs_background": "light"
     },
     "output_type": "display_data"
    }
   ],
   "source": [
    "fpr, tpr, _ = roc_curve(test, pred)\n",
    "roc_auc = auc(fpr,tpr)\n",
    "\n",
    "fig, ax = plt.subplots(1,1)\n",
    "ax.plot(fpr, tpr, label='ROC curve (area = %0.2f)' % roc_auc)\n",
    "ax.plot([0, 1], [0, 1], 'k--')\n",
    "ax.set_xlim([0.0, 1.0])\n",
    "ax.set_ylim([0.0, 1.05])\n",
    "ax.set_xlabel('False Positive Rate')\n",
    "ax.set_ylabel('True Positive Rate')\n",
    "ax.set_title('ROC Curve')\n",
    "ax.legend(loc=\"lower right\")\n",
    "plt.show()"
   ]
  },
  {
   "cell_type": "code",
   "execution_count": 36,
   "metadata": {},
   "outputs": [
    {
     "name": "stdout",
     "output_type": "stream",
     "text": [
      "1.0\n"
     ]
    },
    {
     "data": {
      "image/png": "[encoded data removed]",
      "text/plain": [
       "<Figure size 432x288 with 1 Axes>"
      ]
     },
     "metadata": {
      "needs_background": "light"
     },
     "output_type": "display_data"
    }
   ],
   "source": [
    "import matplotlib.pyplot as plt\n",
    "from sklearn.metrics import roc_curve, auc, roc_auc_score\n",
    "fpr = dict()\n",
    "tpr = dict()\n",
    "roc_auc = dict()\n",
    "for i in range(2):\n",
    "    fpr[i], tpr[i], _ = roc_curve(test, pred)\n",
    "    roc_auc[i] = auc(fpr[i], tpr[i])\n",
    "\n",
    "print(roc_auc_score(test, pred))\n",
    "plt.figure()\n",
    "plt.plot(fpr[0], tpr[0])\n",
    "plt.xlim([0.0, 1.0])\n",
    "plt.ylim([0.0, 1.05])\n",
    "plt.xlabel('False Positive Rate')\n",
    "plt.ylabel('True Positive Rate')\n",
    "plt.title('Receiver operating characteristic')\n",
    "plt.show()"
   ]
  },
  {
   "cell_type": "code",
   "execution_count": null,
   "metadata": {},
   "outputs": [],
   "source": []
  }
 ],
 "metadata": {
  "interpreter": {
   "hash": "16d90db93701a4e14595aea1a6791a3dd0d33758ed6b394279d759beaff9b73f"
  },
  "kernelspec": {
   "display_name": "Python 3.9.12 ('env_trauma')",
   "language": "python",
   "name": "python3"
  },
  "language_info": {
   "codemirror_mode": {
    "name": "ipython",
    "version": 3
   },
   "file_extension": ".py",
   "mimetype": "text/x-python",
   "name": "python",
   "nbconvert_exporter": "python",
   "pygments_lexer": "ipython3",
   "version": "3.9.12"
  },
  "orig_nbformat": 4
 },
 "nbformat": 4,
 "nbformat_minor": 2
}
