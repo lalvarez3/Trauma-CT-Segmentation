{
 "cells": [
  {
   "cell_type": "code",
   "execution_count": 6,
   "metadata": {},
   "outputs": [],
   "source": [
    "import glob\n",
    "import os\n",
    "import json"
   ]
  },
  {
   "cell_type": "code",
   "execution_count": 7,
   "metadata": {},
   "outputs": [],
   "source": [
    "HOME = \"/mnt/chansey\""
   ]
  },
  {
   "cell_type": "code",
   "execution_count": 8,
   "metadata": {},
   "outputs": [],
   "source": [
    "paths_to_analyze = glob.glob(os.path.join(HOME, \"lauraalvarez\", \"nnunet\", \"nnUNet_raw_data/Task511_SpleenTraumaCV/out/*.json\"))"
   ]
  },
  {
   "cell_type": "code",
   "execution_count": 9,
   "metadata": {},
   "outputs": [
    {
     "data": {
      "text/plain": [
       "['/mnt/chansey/lauraalvarez/nnunet/nnUNet_raw_data/Task511_SpleenTraumaCV/out/summary_KLCC.json',\n",
       " '/mnt/chansey/lauraalvarez/nnunet/nnUNet_raw_data/Task511_SpleenTraumaCV/out/summary_DKLCC.json',\n",
       " '/mnt/chansey/lauraalvarez/nnunet/nnUNet_raw_data/Task511_SpleenTraumaCV/out/summary_no_post.json']"
      ]
     },
     "execution_count": 9,
     "metadata": {},
     "output_type": "execute_result"
    }
   ],
   "source": [
    "paths_to_analyze = paths_to_analyze[1:]\n",
    "paths_to_analyze"
   ]
  },
  {
   "cell_type": "code",
   "execution_count": 10,
   "metadata": {},
   "outputs": [],
   "source": [
    "# Define the structure of the data\n",
    "csv_header = [\"accuracy\", \"precision\", \"recall\", \"dice\", \"jaccard\"]"
   ]
  },
  {
   "cell_type": "code",
   "execution_count": 8,
   "metadata": {},
   "outputs": [
    {
     "name": "stdout",
     "output_type": "stream",
     "text": [
      "========Fold 0========\n",
      "Average Dice Liver: 0.9730474008899495\n",
      "Average Dice Lesion: 0.7894239614151107\n",
      "Average Dice score: 0.8812356811525301\n",
      "========================\n",
      "New best injury dice: 0.7894239614151107\n",
      "======== Best Performing ========\n",
      "FOLD: 0\n",
      "Average Dice Liver: 0.9730474008899495\n",
      "Average Dice Lesion: 0.7894239614151107\n",
      "========================\n"
     ]
    }
   ],
   "source": [
    "for i, path in enumerate(paths_to_analyze):\n",
    "# Open the json file\n",
    "    with open(path) as f:\n",
    "        data = json.load(f)\n",
    "    \n",
    "    for items in data[\"results\"][\"all\"]:\n",
    "        dice_liver.append(items[\"1\"][\"Dice\"])\n",
    "        if items[\"2\"][\"Dice\"] > 0.2:\n",
    "            dice_lesion.append(items[\"2\"][\"Dice\"])\n",
    "\n",
    "    print(f\"========Fold {i}========\")\n",
    "    print(f\"Average Dice Liver: {np.max(dice_liver)}\")\n",
    "    print(f\"Average Dice Lesion: {np.max(dice_lesion)}\")\n",
    "    print(f\"Average Dice score: {(np.max(dice_liver) + np.max(dice_lesion)) / 2}\")\n",
    "    print(f\"========================\")\n",
    "    if np.mean(dice_lesion) > best_injury_dice:\n",
    "        print(f\"New best injury dice: {np.max(dice_lesion)}\")\n",
    "        best_injury_dice = np.max(dice_lesion)\n",
    "        best_index = i\n",
    "        best_liver = np.max(dice_liver)\n",
    "        \n",
    "print(f\"======== Best Performing ========\")\n",
    "print(f\"FOLD: {best_index}\")\n",
    "print(f\"Average Dice Liver: {best_liver}\")\n",
    "print(f\"Average Dice Lesion: {best_injury_dice}\")\n",
    "print(f\"========================\")\n",
    "    \n"
   ]
  },
  {
   "cell_type": "code",
   "execution_count": null,
   "metadata": {},
   "outputs": [],
   "source": []
  }
 ],
 "metadata": {
  "kernelspec": {
   "display_name": "Python 3.9.12 ('env_trauma')",
   "language": "python",
   "name": "python3"
  },
  "language_info": {
   "codemirror_mode": {
    "name": "ipython",
    "version": 3
   },
   "file_extension": ".py",
   "mimetype": "text/x-python",
   "name": "python",
   "nbconvert_exporter": "python",
   "pygments_lexer": "ipython3",
   "version": "3.9.12"
  },
  "orig_nbformat": 4,
  "vscode": {
   "interpreter": {
    "hash": "f756ff16342a8157e6f46b879d688029dcc5bc6cd621b2b84934bbdd850a743a"
   }
  }
 },
 "nbformat": 4,
 "nbformat_minor": 2
}
