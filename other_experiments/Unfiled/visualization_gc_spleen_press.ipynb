{
 "cells": [
  {
   "cell_type": "code",
   "execution_count": 1,
   "metadata": {},
   "outputs": [
    {
     "name": "stderr",
     "output_type": "stream",
     "text": [
      "No audio backend is available.\n"
     ]
    }
   ],
   "source": [
    "import os\n",
    "from monai.transforms import (\n",
    "    AddChanneld,\n",
    "    Compose,\n",
    "    CropForegroundd,\n",
    "    LoadImaged,\n",
    "    Orientationd,\n",
    "    ToTensord,\n",
    "    Resized,\n",
    "    AsChannelLastd,\n",
    "    AsChannelFirstd,\n",
    "    AsDiscrete,\n",
    "    CropForeground,\n",
    "    SpatialCropd,\n",
    "    AsDiscreted,\n",
    "    ScaleIntensityRanged,\n",
    "    LabelToContour\n",
    ")\n",
    "from monai.transforms.transform import MapTransform\n",
    "from monai.transforms.inverse import InvertibleTransform\n",
    "from monai.data import decollate_batch\n",
    "import SimpleITK as sitk\n",
    "\n",
    "import itk\n",
    "\n",
    "from monai.config import DtypeLike, KeysCollection\n",
    "from monai.config.type_definitions import NdarrayOrTensor\n",
    "from typing import Any, Dict, Hashable, List, Mapping, Optional, Sequence, Tuple, Union\n",
    "import numpy as np\n",
    "\n",
    "from monai.visualize import matshow3d, blend_images\n",
    "import torch\n",
    "import cv2\n",
    "import imageio\n",
    "from collections import Counter\n",
    "from skimage.segmentation import (morphological_chan_vese,\n",
    "                                  morphological_geodesic_active_contour,\n",
    "                                  inverse_gaussian_gradient, expand_labels)\n",
    "from skimage.morphology import disk, dilation, binary_dilation, ball, cube, closing , disk\n"
   ]
  },
  {
   "cell_type": "markdown",
   "metadata": {},
   "source": [
    "### Minimizar"
   ]
  },
  {
   "cell_type": "code",
   "execution_count": 2,
   "metadata": {},
   "outputs": [],
   "source": [
    "class RemoveDicts(MapTransform, InvertibleTransform):\n",
    "    def __init__(\n",
    "        self,\n",
    "        keys: KeysCollection,\n",
    "        allow_missing_keys: bool = False,\n",
    "    ) -> None:\n",
    "        super().__init__(keys, allow_missing_keys)\n",
    "\n",
    "    def __call__(\n",
    "        self, data: Mapping[Hashable, NdarrayOrTensor]\n",
    "    ) -> Dict[Hashable, NdarrayOrTensor]:\n",
    "        d = dict(data)\n",
    "        for key in self.key_iterator(d):\n",
    "            self.push_transform(d, key)\n",
    "\n",
    "        a = {}\n",
    "        for key in self.key_iterator(d):\n",
    "            a[key] = d[key]\n",
    "            if key == \"image\":\n",
    "                a[\"path\"] = d[\"image_meta_dict\"][\"filename_or_obj\"]\n",
    "        if a.get(\"path\", None) is None:\n",
    "            a[\"path\"] = d[\"label_meta_dict\"][\"filename_or_obj\"]\n",
    "\n",
    "        # a = {\"image\": d[\"image\"], \"label\": d[\"label\"], \"label-gc\":  d[\"label-gc\"] , \"path\": d[\"image_meta_dict\"][\"filename_or_obj\"]}\n",
    "\n",
    "        # print(a[\"path\"])\n",
    "        d = a\n",
    "        return d\n",
    "\n",
    "    def inverse(self, data: Mapping[Hashable, Any]) -> Dict[Hashable, Any]:\n",
    "        d = deepcopy(dict(data))\n",
    "        for key in self.key_iterator(d):\n",
    "            d[key] = d[key]\n",
    "            # Remove the applied transform\n",
    "            self.pop_transform(d, key)\n",
    "        return d\n"
   ]
  },
  {
   "cell_type": "code",
   "execution_count": 3,
   "metadata": {},
   "outputs": [],
   "source": [
    "from monai.transforms.intensity.array import ScaleIntensityRangePercentiles\n",
    "\n",
    "\n",
    "class ScaleIntensityRangePercentilesd(MapTransform):\n",
    "    \"\"\"\n",
    "    Dictionary-based wrapper of :py:class:`monai.transforms.ScaleIntensityRangePercentiles`.\n",
    "\n",
    "    Args:\n",
    "        keys: keys of the corresponding items to be transformed.\n",
    "            See also: monai.transforms.MapTransform\n",
    "        lower: lower percentile.\n",
    "        upper: upper percentile.\n",
    "        b_min: intensity target range min.\n",
    "        b_max: intensity target range max.\n",
    "        clip: whether to perform clip after scaling.\n",
    "        relative: whether to scale to the corresponding percentiles of [b_min, b_max]\n",
    "        channel_wise: if True, compute intensity percentile and normalize every channel separately.\n",
    "            default to False.\n",
    "        dtype: output data type, if None, same as input image. defaults to float32.\n",
    "        allow_missing_keys: don't raise exception if key is missing.\n",
    "    \"\"\"\n",
    "\n",
    "    backend = ScaleIntensityRangePercentiles.backend\n",
    "\n",
    "    def __init__(\n",
    "        self,\n",
    "        keys: KeysCollection,\n",
    "        lower: float,\n",
    "        upper: float,\n",
    "        b_min: Optional[float],\n",
    "        b_max: Optional[float],\n",
    "        clip: bool = False,\n",
    "        relative: bool = False,\n",
    "        channel_wise: bool = False,\n",
    "        dtype: DtypeLike = np.float32,\n",
    "        allow_missing_keys: bool = False,\n",
    "    ) -> None:\n",
    "        super().__init__(keys, allow_missing_keys)\n",
    "        self.scaler = ScaleIntensityRangePercentiles(\n",
    "            lower, upper, b_min, b_max, clip, relative, channel_wise, dtype\n",
    "        )\n",
    "\n",
    "    def __call__(\n",
    "        self, data: Mapping[Hashable, NdarrayOrTensor]\n",
    "    ) -> Dict[Hashable, NdarrayOrTensor]:\n",
    "        d = dict(data)\n",
    "        for key in self.key_iterator(d):\n",
    "            d[key] = self.scaler(d[key])\n",
    "        return d\n"
   ]
  },
  {
   "cell_type": "code",
   "execution_count": 4,
   "metadata": {},
   "outputs": [],
   "source": [
    "class NNUnetScaleIntensity(MapTransform):\n",
    "    \"\"\"\n",
    "    Dictionary-based wrapper of :py:class:`monai.transforms.ScaleIntensityRange`.\n",
    "\n",
    "    Args:\n",
    "        keys: keys of the corresponding items to be transformed.\n",
    "            See also: monai.transforms.MapTransform\n",
    "        a_min: intensity original range min.\n",
    "        a_max: intensity original range max.\n",
    "        b_min: intensity target range min.\n",
    "        b_max: intensity target range max.\n",
    "        clip: whether to perform clip after scaling.\n",
    "        dtype: output data type, if None, same as input image. defaults to float32.\n",
    "        allow_missing_keys: don't raise exception if key is missing.\n",
    "    \"\"\"\n",
    "\n",
    "    def _compute_stats(self, volume, mask):\n",
    "        print(volume.shape)\n",
    "        print(mask.shape)\n",
    "        volume = np.ma.masked_equal(volume.copy().astype(np.int16) * np.greater(mask, 0), 0).compressed()\n",
    "        median = np.median(volume)\n",
    "        mean = np.mean(volume)\n",
    "        std = np.std(volume)\n",
    "        mn = np.min(volume)\n",
    "        mx = np.max(volume)\n",
    "        percentile_99_5 = np.percentile(volume, 99.5)\n",
    "        percentile_00_5 = np.percentile(volume, 00.5)\n",
    "        print(median, mean, std, mn, mx, percentile_99_5, percentile_00_5)\n",
    "        return median, mean, std, mn, mx, percentile_99_5, percentile_00_5\n",
    "\n",
    "    def __init__(\n",
    "        self,\n",
    "        keys: KeysCollection,\n",
    "        dtype: DtypeLike = np.float32,\n",
    "        allow_missing_keys: bool = False,\n",
    "    ) -> None:\n",
    "        super().__init__(keys, allow_missing_keys)\n",
    "\n",
    "    def __call__(\n",
    "        self, data: Mapping[Hashable, NdarrayOrTensor]\n",
    "    ) -> Dict[Hashable, NdarrayOrTensor]:\n",
    "        d = dict(data)\n",
    "        for key in self.key_iterator(d):\n",
    "            stats = self._compute_stats(d[key], d[\"label\"])\n",
    "            d[key] = np.clip(d[key], stats[6], stats[5])\n",
    "            d[key] = (d[key] - stats[1]) / stats[2]\n",
    "        return d\n"
   ]
  },
  {
   "cell_type": "code",
   "execution_count": 5,
   "metadata": {},
   "outputs": [],
   "source": [
    "class WriteToMHA(MapTransform):\n",
    "    def __init__(\n",
    "        self,\n",
    "        keys: KeysCollection,\n",
    "        output_dir: str,\n",
    "        allow_missing_keys: bool = False,\n",
    "    ) -> None:\n",
    "        super().__init__(keys, allow_missing_keys)\n",
    "        self.output_dir = output_dir\n",
    "\n",
    "    def __call__(\n",
    "        self, data: Mapping[Hashable, NdarrayOrTensor]\n",
    "    ) -> Dict[Hashable, NdarrayOrTensor]:\n",
    "        d = dict(data)\n",
    "        for key in self.key_iterator(d):\n",
    "            if isinstance(d[key], torch.Tensor):\n",
    "                d[key] = d[key].detach().cpu().numpy().astype(np.int8)\n",
    "            original = sitk.ReadImage(d[\"path\"])\n",
    "            filename = os.path.basename(d[\"path\"]).split(\".\")[0] + \".mha\"\n",
    "            save_dir = os.path.join(self.output_dir, filename)\n",
    "            if not os.path.exists(os.path.dirname(save_dir)):\n",
    "                print(f\"Creating directory: {os.path.dirname(save_dir)}\")\n",
    "                os.makedirs(os.path.dirname(save_dir))\n",
    "            print(f\"Saving to {save_dir}\")\n",
    "            img = sitk.GetImageFromArray(d[key])\n",
    "            img.SetSpacing(original.GetSpacing())\n",
    "            img.SetOrigin(original.GetOrigin())\n",
    "            sitk.WriteImage(img, save_dir)\n",
    "\n",
    "        return d\n"
   ]
  },
  {
   "cell_type": "code",
   "execution_count": 6,
   "metadata": {},
   "outputs": [],
   "source": [
    "import cv2\n",
    "\n",
    "\n",
    "class CreateSyntheticLabel(MapTransform):\n",
    "    def __init__(\n",
    "        self,\n",
    "        keys: KeysCollection,\n",
    "        threshold: float = 0.5,\n",
    "        allow_missing_keys: bool = False,\n",
    "    ) -> None:\n",
    "        super().__init__(keys, allow_missing_keys)\n",
    "        self.threshold = threshold\n",
    "\n",
    "    def __call__(\n",
    "        self, data: Mapping[Hashable, NdarrayOrTensor]\n",
    "    ) -> Dict[Hashable, NdarrayOrTensor]:\n",
    "        d = dict(data)\n",
    "        print(d[\"label\"].shape) # (1, 6, 512, 512, 199)\n",
    "        d[\"label\"] = d[\"label\"].squeeze() # (6, 512, 512, 199))\n",
    "        old_mask = d[\"label\"][3, :, :, :].unsqueeze(0).numpy().copy() # (1, 512, 512, 199)\n",
    "        # histogram, bin_edges = np.histogram(old_mask.flatten(), bins=256, range=(0, 1))\n",
    "\n",
    "        # # configure and draw the histogram figure\n",
    "        # plt.figure()\n",
    "        # plt.title(\"Grayscale Histogram\")\n",
    "        # plt.xlabel(\"grayscale value\")\n",
    "        # plt.ylabel(\"pixel count\")\n",
    "        # plt.xlim([0.0, 1.0])  # <- named arguments do not work here\n",
    "\n",
    "        # plt.plot(bin_edges[0:-1], histogram)  # <- or here\n",
    "        # plt.show()\n",
    "        new_mask = np.zeros_like(old_mask) # (1, 512, 512, 199)\n",
    "        new_img = d[\"image\"][:, :, :, :].numpy().copy()\n",
    "        idx_label = np.where(old_mask.flatten() == 1)[0]\n",
    "        idx_img = np.where(new_img.flatten() > self.threshold)[0]\n",
    "        idx_to_change = np.intersect1d(idx_img, idx_label)\n",
    "        np.put(new_mask, idx_to_change, 1)\n",
    "        old_mask -= new_mask\n",
    "\n",
    "        kernel = np.ones((3, 3), np.uint8)\n",
    "        closed_slices = list()\n",
    "        for slice in range(new_mask.shape[-1]):\n",
    "            result = cv2.morphologyEx(\n",
    "                new_mask[0, :, :, slice], cv2.MORPH_CLOSE, kernel, iterations=4\n",
    "            )\n",
    "            result = cv2.medianBlur(result, 9)\n",
    "            closed_slices.append(result)\n",
    "\n",
    "        new_mask = np.stack(closed_slices)\n",
    "\n",
    "        if len (new_mask.shape) > 3: \n",
    "            new_mask = torch.Tensor(new_mask[0])\n",
    "            old_mask = torch.Tensor(old_mask[0])\n",
    "        else:\n",
    "            new_mask = torch.Tensor(new_mask).permute(1, 2, 0)\n",
    "            old_mask = torch.Tensor(old_mask[0])\n",
    "        \n",
    "        print(old_mask.shape, new_mask.shape) # (1, 512, 512, 199) (1, 512, 512, 199)\n",
    "        print(d[\"label\"].shape) # (6, 512, 512, 199)\n",
    "\n",
    "        d[\"label\"][1, :, :, :] = torch.Tensor(new_mask) \n",
    "        d[\"label\"][3, :, :, :] = torch.Tensor(old_mask)\n",
    "        d[\"label\"] = d[\"label\"].unsqueeze(0)\n",
    "\n",
    "        return d\n"
   ]
  },
  {
   "cell_type": "code",
   "execution_count": 7,
   "metadata": {},
   "outputs": [],
   "source": [
    "class AddGCLabel(MapTransform):\n",
    "    def __init__(\n",
    "        self,\n",
    "        keys: KeysCollection,\n",
    "        threshold: float = 0.5,\n",
    "        allow_missing_keys: bool = False,\n",
    "    ) -> None:\n",
    "        super().__init__(keys, allow_missing_keys)\n",
    "        self.threshold = threshold\n",
    "\n",
    "    def __call__(\n",
    "        self, data: Mapping[Hashable, NdarrayOrTensor]\n",
    "    ) -> Dict[Hashable, NdarrayOrTensor]:\n",
    "\n",
    "        d = dict(data)\n",
    "        print(d[\"label\"].shape, d[\"label-gc\"].shape)\n",
    "        spleen_channel = np.where((d[\"label-gc\"] != 1), 0, d[\"label-gc\"])\n",
    "        spleen_channel = np.where((spleen_channel == 1), 1, spleen_channel)\n",
    "        print(d[\"label\"].shape, d[\"label-gc\"].shape)\n",
    "        d[\"label\"][1, :, :, :] = (\n",
    "            torch.Tensor(spleen_channel).unsqueeze(0) - d[\"label\"][3, :, :, :]\n",
    "        )\n",
    "\n",
    "        return d\n"
   ]
  },
  {
   "cell_type": "code",
   "execution_count": 8,
   "metadata": {},
   "outputs": [],
   "source": [
    "class AsDiscrete1sd(MapTransform):\n",
    "    def __init__(\n",
    "        self,\n",
    "        keys: KeysCollection,\n",
    "        allow_missing_keys: bool = False,\n",
    "    ) -> None:\n",
    "        super().__init__(keys, allow_missing_keys)\n",
    "\n",
    "    def __call__(\n",
    "        self, data: Mapping[Hashable, NdarrayOrTensor]\n",
    "    ) -> Dict[Hashable, NdarrayOrTensor]:\n",
    "\n",
    "        d = data\n",
    "        d[\"label\"] = d[\"label\"].astype(np.int8)\n",
    "        back = np.expand_dims(np.zeros(d[\"label\"][0, :, :, :].shape, dtype=np.int8), 0)\n",
    "        d[\"label\"] = torch.Tensor(np.append(back, d[\"label\"], axis=0))\n",
    "        print(d[\"label\"].shape)\n",
    "        return d\n"
   ]
  },
  {
   "cell_type": "code",
   "execution_count": 9,
   "metadata": {},
   "outputs": [],
   "source": [
    "class RemoveBackgroundd(MapTransform):\n",
    "    def __init__(\n",
    "        self,\n",
    "        keys: KeysCollection,\n",
    "        allow_missing_keys: bool = False,\n",
    "    ) -> None:\n",
    "        super().__init__(keys, allow_missing_keys)\n",
    "\n",
    "    def __call__(\n",
    "        self, data: Mapping[Hashable, NdarrayOrTensor]\n",
    "    ) -> Dict[Hashable, NdarrayOrTensor]:\n",
    "\n",
    "        d = data\n",
    "        print(\"before: \", d[\"label\"].shape)\n",
    "        d[\"label\"] = d[\"label\"][1:, :, :, :]\n",
    "        return d\n"
   ]
  },
  {
   "cell_type": "code",
   "execution_count": 10,
   "metadata": {},
   "outputs": [],
   "source": [
    "\n",
    "class DilationLabel(MapTransform):\n",
    "    def __init__(\n",
    "        self,\n",
    "        keys: KeysCollection,\n",
    "        dtype: DtypeLike = np.float32,\n",
    "        allow_missing_keys: bool = False,\n",
    "    ) -> None:\n",
    "        super().__init__(keys, allow_missing_keys)\n",
    "\n",
    "    def dilatation():\n",
    "                    # if ORGAN == \"Spleen\":\n",
    "            #     injury_size = np.sum(old_mask_injury)/2\n",
    "            #     if injury_size < 4500:\n",
    "            #         # radius = int((injury_size/1000)*2)\n",
    "            #         old_mask_organ = np.where((img != 1), 0, img)\n",
    "            #         final_mask_injury = dilation(old_mask_injury[0,:,:,:], footprint=ball(radius=6))\n",
    "            #         final_mask_injury = np.expand_dims(final_mask_injury, 0).astype(np.int8)\n",
    "            #         final_mask = old_mask_organ + final_mask_injury\n",
    "            #         final_mask = np.where((final_mask == 3), 2, final_mask)\n",
    "            #         d[\"label\"] = final_mask\n",
    "            #     else:\n",
    "            #         old_mask_organ = np.where((img != 1), 0, img)\n",
    "            #         final_mask_injury = dilation(old_mask_injury[0,:,:,:], footprint=ball(radius=2))\n",
    "            #         final_mask_injury = np.expand_dims(final_mask_injury, 0).astype(np.int8)\n",
    "            #         final_mask = old_mask_organ + final_mask_injury\n",
    "            #         final_mask = np.where((final_mask == 3), 2, final_mask)\n",
    "            #         d[\"label\"] = final_mask\n",
    "            # if ORGAN == \"Liver\":\n",
    "            #     old_mask_organ = np.where((img != 1), 0, img)\n",
    "            #     mask = disk(2)\n",
    "            #     new_mask_injury = list()\n",
    "            #     for slice in range(old_mask_injury.shape[1]):\n",
    "            #         result = dilation(old_mask_injury[0,slice,:,:], footprint=mask)\n",
    "            #         new_mask_injury.append(result)\n",
    "            #     final_mask_injury = np.stack(new_mask_injury)\n",
    "            #     final_mask_injury = np.expand_dims(final_mask_injury, 0).astype(np.int8)\n",
    "            #     final_mask = old_mask_organ + final_mask_injury\n",
    "            #     final_mask = np.where((final_mask == 3), 2, final_mask)\n",
    "            #     d[\"label\"] = final_mask\n",
    "            pass\n",
    "\n",
    "    def store_evolution_in(lst):\n",
    "        \"\"\"Returns a callback function to store the evolution of the level sets in\n",
    "        the given list.\n",
    "        \"\"\"\n",
    "        def _store(x):\n",
    "            lst.append(np.copy(x))\n",
    "        return _store\n",
    "\n",
    "    def __call__(\n",
    "        self, data: Mapping[Hashable, NdarrayOrTensor]\n",
    "    ) -> Dict[Hashable, NdarrayOrTensor]:\n",
    "        d = dict(data)\n",
    "        init_label = d[\"label\"].squeeze() #antes img\n",
    "        old_mask_injury = np.where((init_label != 2), 0, init_label) # save only the injury\n",
    "        scanner = d[\"image\"].squeeze()\n",
    "        old_mask_organ = np.where((init_label != 1), 0, init_label)\n",
    "        gimage = inverse_gaussian_gradient(scanner)\n",
    "        cropped_injury = CropForegroundd(keys=[\"image\", \"label\"], \n",
    "                            source_key=\"label\",\n",
    "                            margin=30)({\"image\": np.expand_dims(gimage,0), \"label\": np.expand_dims(old_mask_injury,0)})\n",
    "        # evolution = [] \n",
    "        # # callback = store_evolution_in(evolution)\n",
    "        ls = morphological_geodesic_active_contour(cropped_injury[\"image\"][0], num_iter=1, #1000 advised?\n",
    "                                                init_level_set=cropped_injury[\"label\"][0],\n",
    "                                                smoothing=1, balloon=0,\n",
    "                                                threshold=0.2)\n",
    "        # ls = morphological_chan_vese(cropped_injury[\"image\"][0], num_iter=25, #1000 advised?\n",
    "        #                                         init_level_set=cropped_injury[\"label\"][0])\n",
    "                                                # iter_callback=callback)\n",
    "        from monai.data import MetaTensor\n",
    "        cropped_injury[\"label\"] = MetaTensor(torch.tensor(np.expand_dims(ls,0)), meta=cropped_injury[\"label\"].meta, applied_operations = cropped_injury[\"label\"].applied_operations )\n",
    "        inv_cropped = CropForegroundd(keys=[\"image\", \"label\"], source_key=\"label\",\n",
    "                                            margin=30).inverse(cropped_injury)\n",
    "        final_mask = old_mask_organ + inv_cropped[\"label\"]\n",
    "        d[\"label\"] =  final_mask\n",
    "\n",
    "\n",
    "        return d"
   ]
  },
  {
   "cell_type": "markdown",
   "metadata": {},
   "source": [
    "### Antiguo NO BORRAR"
   ]
  },
  {
   "cell_type": "code",
   "execution_count": 19,
   "metadata": {},
   "outputs": [],
   "source": [
    "import matplotlib.pyplot as plt\n",
    "from ipywidgets.widgets import *\n",
    "import ipywidgets as widgets\n",
    "import matplotlib.pyplot as plt\n",
    "import glob\n",
    "\n",
    "injure_liver = os.path.join(\n",
    "    \"/Volumes/diag/\",\n",
    "    \"lauraalvarez\",\n",
    "    \"data\",\n",
    "    \"nnUNet_raw_data_base\",\n",
    "    \"nnUNet_raw_data\",\n",
    "    \"Task504_LiverTrauma\",\n",
    "    \"imagesTr\",\n",
    "    \"TRMLIV_000_0000.nii.gz\",\n",
    ")\n",
    "injure_liver_label = os.path.join(\n",
    "    \"/mnt/chansey/\",\n",
    "    \"lauraalvarez\",\n",
    "    \"nnunet\",\n",
    "    \"nnUNet_raw_data_base\",\n",
    "    \"nnUNet_raw_data\",\n",
    "    \"Task504_LiverTrauma\",\n",
    "    \"labelsTr\",\n",
    "    \"TRMLIV_000.nii.gz\",\n",
    ")\n",
    "\n",
    "spleen_error_img = os.path.join(\n",
    "    \"U:\\\\\", \"lauraalvarez\", \"nnunet\", \"nnUNet_raw_data\", \"Task504_LiverTrauma\", \"imagesTs\", \"TRMLIV_000_0000.nii.gz\"\n",
    ")\n",
    "spleen_error_msk = os.path.join(  \"U:\\\\\", \"lauraalvarez\", \"nnunet\", \"nnUNet_raw_data\", \"Task504_LiverTrauma\", \"out\", \"TRMLIV_000.nii.gz\")\n",
    "spleen_error_true = os.path.join(\n",
    "    \"U:\\\\\", \"lauraalvarez\", \"nnunet\", \"nnUNet_raw_data\", \"Task504_LiverTrauma\", \"labelsTs\", \"TRMLIV_000.nii.gz\"\n",
    ")\n",
    "\n",
    "# spleen_error_img = os.path.join(\n",
    "#     \"/mnt/chansey/\", \"lauraalvarez\", \"data\", \"liver\", \"train\", \"data\", \"L110086.mha\"\n",
    "# )\n",
    "# spleen_error_msk = os.path.join(  \"/mnt/chansey/\", \"lauraalvarez\", \"data\", \"liver\", \"train\", \"mask\", \"L110086.mha\")\n",
    "# spleen_error_msk = os.path.join(\n",
    "#     \"/mnt/chansey/\",\n",
    "#     \"lauraalvarez\",\n",
    "#     \"data\",\n",
    "#     \"_overlays_from_alessa\",\n",
    "#     \"overlays\",\n",
    "#     \"overlay_B2\",\n",
    "#     \"L110027.mha\",\n",
    "# )\n",
    "# gc_msk = os.path.join(\"/mnt/chansey/\", \"lauraalvarez\", \"data\", \"liver\")\n",
    "\n",
    "selected_img = spleen_error_img\n",
    "selected_msk = spleen_error_msk\n",
    "selected_true = spleen_error_true\n"
   ]
  },
  {
   "cell_type": "code",
   "execution_count": 21,
   "metadata": {},
   "outputs": [
    {
     "ename": "RuntimeError",
     "evalue": "applying transform <monai.transforms.io.dictionary.LoadImaged object at 0x0000019634C18910>",
     "output_type": "error",
     "traceback": [
      "\u001b[1;31m---------------------------------------------------------------------------\u001b[0m",
      "\u001b[1;31mFileNotFoundError\u001b[0m                         Traceback (most recent call last)",
      "File \u001b[1;32mc:\\Users\\Vincent Stirler\\.conda\\envs\\env_trauma\\lib\\site-packages\\nibabel\\loadsave.py:90\u001b[0m, in \u001b[0;36mload\u001b[1;34m(filename, **kwargs)\u001b[0m\n\u001b[0;32m     89\u001b[0m \u001b[39mtry\u001b[39;00m:\n\u001b[1;32m---> 90\u001b[0m     stat_result \u001b[39m=\u001b[39m os\u001b[39m.\u001b[39;49mstat(filename)\n\u001b[0;32m     91\u001b[0m \u001b[39mexcept\u001b[39;00m \u001b[39mOSError\u001b[39;00m:\n",
      "\u001b[1;31mFileNotFoundError\u001b[0m: [WinError 2] The system cannot find the file specified: 'U:\\\\lauraalvarez\\\\nnunet\\\\nnUNet_raw_data\\\\Task504_LiverTrauma\\\\out\\\\TRMLIV_000.nii.gz'",
      "\nDuring handling of the above exception, another exception occurred:\n",
      "\u001b[1;31mFileNotFoundError\u001b[0m                         Traceback (most recent call last)",
      "File \u001b[1;32mc:\\Users\\Vincent Stirler\\.conda\\envs\\env_trauma\\lib\\site-packages\\monai\\transforms\\transform.py:90\u001b[0m, in \u001b[0;36mapply_transform\u001b[1;34m(transform, data, map_items, unpack_items, log_stats)\u001b[0m\n\u001b[0;32m     89\u001b[0m         \u001b[39mreturn\u001b[39;00m [_apply_transform(transform, item, unpack_items) \u001b[39mfor\u001b[39;00m item \u001b[39min\u001b[39;00m data]\n\u001b[1;32m---> 90\u001b[0m     \u001b[39mreturn\u001b[39;00m _apply_transform(transform, data, unpack_items)\n\u001b[0;32m     91\u001b[0m \u001b[39mexcept\u001b[39;00m \u001b[39mException\u001b[39;00m \u001b[39mas\u001b[39;00m e:\n",
      "File \u001b[1;32mc:\\Users\\Vincent Stirler\\.conda\\envs\\env_trauma\\lib\\site-packages\\monai\\transforms\\transform.py:54\u001b[0m, in \u001b[0;36m_apply_transform\u001b[1;34m(transform, parameters, unpack_parameters)\u001b[0m\n\u001b[0;32m     52\u001b[0m     \u001b[39mreturn\u001b[39;00m transform(\u001b[39m*\u001b[39mparameters)\n\u001b[1;32m---> 54\u001b[0m \u001b[39mreturn\u001b[39;00m transform(parameters)\n",
      "File \u001b[1;32mc:\\Users\\Vincent Stirler\\.conda\\envs\\env_trauma\\lib\\site-packages\\monai\\transforms\\io\\dictionary.py:133\u001b[0m, in \u001b[0;36mLoadImaged.__call__\u001b[1;34m(self, data, reader)\u001b[0m\n\u001b[0;32m    132\u001b[0m \u001b[39mfor\u001b[39;00m key, meta_key, meta_key_postfix \u001b[39min\u001b[39;00m \u001b[39mself\u001b[39m\u001b[39m.\u001b[39mkey_iterator(d, \u001b[39mself\u001b[39m\u001b[39m.\u001b[39mmeta_keys, \u001b[39mself\u001b[39m\u001b[39m.\u001b[39mmeta_key_postfix):\n\u001b[1;32m--> 133\u001b[0m     data \u001b[39m=\u001b[39m \u001b[39mself\u001b[39;49m\u001b[39m.\u001b[39;49m_loader(d[key], reader)\n\u001b[0;32m    134\u001b[0m     \u001b[39mif\u001b[39;00m \u001b[39mself\u001b[39m\u001b[39m.\u001b[39m_loader\u001b[39m.\u001b[39mimage_only:\n",
      "File \u001b[1;32mc:\\Users\\Vincent Stirler\\.conda\\envs\\env_trauma\\lib\\site-packages\\monai\\transforms\\io\\array.py:226\u001b[0m, in \u001b[0;36mLoadImage.__call__\u001b[1;34m(self, filename, reader)\u001b[0m\n\u001b[0;32m    225\u001b[0m \u001b[39mif\u001b[39;00m reader\u001b[39m.\u001b[39mverify_suffix(filename):\n\u001b[1;32m--> 226\u001b[0m     img \u001b[39m=\u001b[39m reader\u001b[39m.\u001b[39;49mread(filename)\n\u001b[0;32m    227\u001b[0m     \u001b[39mbreak\u001b[39;00m\n",
      "File \u001b[1;32mc:\\Users\\Vincent Stirler\\.conda\\envs\\env_trauma\\lib\\site-packages\\monai\\data\\image_reader.py:906\u001b[0m, in \u001b[0;36mNibabelReader.read\u001b[1;34m(self, data, **kwargs)\u001b[0m\n\u001b[0;32m    905\u001b[0m \u001b[39mfor\u001b[39;00m name \u001b[39min\u001b[39;00m filenames:\n\u001b[1;32m--> 906\u001b[0m     img \u001b[39m=\u001b[39m nib\u001b[39m.\u001b[39mload(name, \u001b[39m*\u001b[39m\u001b[39m*\u001b[39mkwargs_)\n\u001b[0;32m    907\u001b[0m     img \u001b[39m=\u001b[39m correct_nifti_header_if_necessary(img)\n",
      "File \u001b[1;32mc:\\Users\\Vincent Stirler\\.conda\\envs\\env_trauma\\lib\\site-packages\\nibabel\\loadsave.py:92\u001b[0m, in \u001b[0;36mload\u001b[1;34m(filename, **kwargs)\u001b[0m\n\u001b[0;32m     91\u001b[0m \u001b[39mexcept\u001b[39;00m \u001b[39mOSError\u001b[39;00m:\n\u001b[1;32m---> 92\u001b[0m     \u001b[39mraise\u001b[39;00m \u001b[39mFileNotFoundError\u001b[39;00m(\u001b[39mf\u001b[39m\u001b[39m\"\u001b[39m\u001b[39mNo such file or no access: \u001b[39m\u001b[39m'\u001b[39m\u001b[39m{\u001b[39;00mfilename\u001b[39m}\u001b[39;00m\u001b[39m'\u001b[39m\u001b[39m\"\u001b[39m)\n\u001b[0;32m     93\u001b[0m \u001b[39mif\u001b[39;00m stat_result\u001b[39m.\u001b[39mst_size \u001b[39m<\u001b[39m\u001b[39m=\u001b[39m \u001b[39m0\u001b[39m:\n",
      "\u001b[1;31mFileNotFoundError\u001b[0m: No such file or no access: 'U:\\lauraalvarez\\nnunet\\nnUNet_raw_data\\Task504_LiverTrauma\\out\\TRMLIV_000.nii.gz'",
      "\nThe above exception was the direct cause of the following exception:\n",
      "\u001b[1;31mRuntimeError\u001b[0m                              Traceback (most recent call last)",
      "\u001b[1;32mu:\\lauraalvarez\\traumaAI\\Liver_Segmentation\\visualization_gc_spleen_pres.ipynb Cell 11\u001b[0m in \u001b[0;36m<cell line: 54>\u001b[1;34m()\u001b[0m\n\u001b[0;32m     <a href='vscode-notebook-cell:/u%3A/lauraalvarez/traumaAI/Liver_Segmentation/visualization_gc_spleen_pres.ipynb#Y535sZmlsZQ%3D%3D?line=11'>12</a>\u001b[0m \u001b[39m# val_transforms_overlays_float_class = Compose(\u001b[39;00m\n\u001b[0;32m     <a href='vscode-notebook-cell:/u%3A/lauraalvarez/traumaAI/Liver_Segmentation/visualization_gc_spleen_pres.ipynb#Y535sZmlsZQ%3D%3D?line=12'>13</a>\u001b[0m \u001b[39m#     [\u001b[39;00m\n\u001b[0;32m     <a href='vscode-notebook-cell:/u%3A/lauraalvarez/traumaAI/Liver_Segmentation/visualization_gc_spleen_pres.ipynb#Y535sZmlsZQ%3D%3D?line=13'>14</a>\u001b[0m \u001b[39m#         LoadImaged(keys=[\"label\"]),\u001b[39;00m\n\u001b[1;32m   (...)\u001b[0m\n\u001b[0;32m     <a href='vscode-notebook-cell:/u%3A/lauraalvarez/traumaAI/Liver_Segmentation/visualization_gc_spleen_pres.ipynb#Y535sZmlsZQ%3D%3D?line=34'>35</a>\u001b[0m \u001b[39m#     ]\u001b[39;00m\n\u001b[0;32m     <a href='vscode-notebook-cell:/u%3A/lauraalvarez/traumaAI/Liver_Segmentation/visualization_gc_spleen_pres.ipynb#Y535sZmlsZQ%3D%3D?line=35'>36</a>\u001b[0m \u001b[39m# )\u001b[39;00m\n\u001b[0;32m     <a href='vscode-notebook-cell:/u%3A/lauraalvarez/traumaAI/Liver_Segmentation/visualization_gc_spleen_pres.ipynb#Y535sZmlsZQ%3D%3D?line=37'>38</a>\u001b[0m val_transforms_synthetic_spleen \u001b[39m=\u001b[39m Compose(\n\u001b[0;32m     <a href='vscode-notebook-cell:/u%3A/lauraalvarez/traumaAI/Liver_Segmentation/visualization_gc_spleen_pres.ipynb#Y535sZmlsZQ%3D%3D?line=38'>39</a>\u001b[0m     [\n\u001b[0;32m     <a href='vscode-notebook-cell:/u%3A/lauraalvarez/traumaAI/Liver_Segmentation/visualization_gc_spleen_pres.ipynb#Y535sZmlsZQ%3D%3D?line=39'>40</a>\u001b[0m         LoadImaged(keys\u001b[39m=\u001b[39m[\u001b[39m\"\u001b[39m\u001b[39mimage\u001b[39m\u001b[39m\"\u001b[39m, \u001b[39m\"\u001b[39m\u001b[39mlabel\u001b[39m\u001b[39m\"\u001b[39m]),\n\u001b[1;32m   (...)\u001b[0m\n\u001b[0;32m     <a href='vscode-notebook-cell:/u%3A/lauraalvarez/traumaAI/Liver_Segmentation/visualization_gc_spleen_pres.ipynb#Y535sZmlsZQ%3D%3D?line=51'>52</a>\u001b[0m     ]\n\u001b[0;32m     <a href='vscode-notebook-cell:/u%3A/lauraalvarez/traumaAI/Liver_Segmentation/visualization_gc_spleen_pres.ipynb#Y535sZmlsZQ%3D%3D?line=52'>53</a>\u001b[0m )\n\u001b[1;32m---> <a href='vscode-notebook-cell:/u%3A/lauraalvarez/traumaAI/Liver_Segmentation/visualization_gc_spleen_pres.ipynb#Y535sZmlsZQ%3D%3D?line=53'>54</a>\u001b[0m injures \u001b[39m=\u001b[39m normal_plot(paths)\n\u001b[0;32m     <a href='vscode-notebook-cell:/u%3A/lauraalvarez/traumaAI/Liver_Segmentation/visualization_gc_spleen_pres.ipynb#Y535sZmlsZQ%3D%3D?line=55'>56</a>\u001b[0m \u001b[39mprint\u001b[39m(injures[\u001b[39m\"\u001b[39m\u001b[39mlabel\u001b[39m\u001b[39m\"\u001b[39m]\u001b[39m.\u001b[39mshape)\n\u001b[0;32m     <a href='vscode-notebook-cell:/u%3A/lauraalvarez/traumaAI/Liver_Segmentation/visualization_gc_spleen_pres.ipynb#Y535sZmlsZQ%3D%3D?line=56'>57</a>\u001b[0m \u001b[39mprint\u001b[39m(injures[\u001b[39m\"\u001b[39m\u001b[39mimage\u001b[39m\u001b[39m\"\u001b[39m]\u001b[39m.\u001b[39mshape)\n",
      "File \u001b[1;32mc:\\Users\\Vincent Stirler\\.conda\\envs\\env_trauma\\lib\\site-packages\\monai\\transforms\\compose.py:173\u001b[0m, in \u001b[0;36mCompose.__call__\u001b[1;34m(self, input_)\u001b[0m\n\u001b[0;32m    171\u001b[0m \u001b[39mdef\u001b[39;00m \u001b[39m__call__\u001b[39m(\u001b[39mself\u001b[39m, input_):\n\u001b[0;32m    172\u001b[0m     \u001b[39mfor\u001b[39;00m _transform \u001b[39min\u001b[39;00m \u001b[39mself\u001b[39m\u001b[39m.\u001b[39mtransforms:\n\u001b[1;32m--> 173\u001b[0m         input_ \u001b[39m=\u001b[39m apply_transform(_transform, input_, \u001b[39mself\u001b[39;49m\u001b[39m.\u001b[39;49mmap_items, \u001b[39mself\u001b[39;49m\u001b[39m.\u001b[39;49munpack_items, \u001b[39mself\u001b[39;49m\u001b[39m.\u001b[39;49mlog_stats)\n\u001b[0;32m    174\u001b[0m     \u001b[39mreturn\u001b[39;00m input_\n",
      "File \u001b[1;32mc:\\Users\\Vincent Stirler\\.conda\\envs\\env_trauma\\lib\\site-packages\\monai\\transforms\\transform.py:114\u001b[0m, in \u001b[0;36mapply_transform\u001b[1;34m(transform, data, map_items, unpack_items, log_stats)\u001b[0m\n\u001b[0;32m    112\u001b[0m     \u001b[39melse\u001b[39;00m:\n\u001b[0;32m    113\u001b[0m         _log_stats(data\u001b[39m=\u001b[39mdata)\n\u001b[1;32m--> 114\u001b[0m \u001b[39mraise\u001b[39;00m \u001b[39mRuntimeError\u001b[39;00m(\u001b[39mf\u001b[39m\u001b[39m\"\u001b[39m\u001b[39mapplying transform \u001b[39m\u001b[39m{\u001b[39;00mtransform\u001b[39m}\u001b[39;00m\u001b[39m\"\u001b[39m) \u001b[39mfrom\u001b[39;00m \u001b[39me\u001b[39;00m\n",
      "\u001b[1;31mRuntimeError\u001b[0m: applying transform <monai.transforms.io.dictionary.LoadImaged object at 0x0000019634C18910>"
     ]
    }
   ],
   "source": [
    "paths = {\"label\": selected_msk, \"image\": selected_img, \"tLabel\": selected_true}\n",
    "normal_plot = Compose(\n",
    "    [\n",
    "        LoadImaged(keys=[\"image\",\"label\",\"tLabel\"]),\n",
    "        AsChannelFirstd(keys=[\"image\",\"label\",\"tLabel\"]),\n",
    "        AddChanneld(keys=[\"label\",\"image\", \"tLabel\"]),\n",
    "        Orientationd(keys=[\"image\", \"label\", ], axcodes=\"RAS\"),\n",
    "        NNUnetScaleIntensity(keys=[\"image\"]),\n",
    "        # Resized(keys=[\"image\",\"label\"], spatial_size=(160,160,160)),\n",
    "    ]\n",
    ")\n",
    "# val_transforms_overlays_float_class = Compose(\n",
    "#     [\n",
    "#         LoadImaged(keys=[\"label\"]),\n",
    "#         RemoveDicts(keys=[\"label\"]),\n",
    "#         AsChannelFirstd(keys=[\"label\"]),\n",
    "#         AsDiscrete1sd(keys=[\"label\"]),\n",
    "#         AsDiscreted(keys=[\"label\"], argmax=True, to_onehot=7),\n",
    "#         RemoveBackgroundd(keys=[\"label\"]),\n",
    "#         WriteToMHA(\n",
    "#             keys=[\"label\"],\n",
    "#             output_dir=\"/mnt/chansey/lauraalvarez/data/spleen/synthetic_overlays\",\n",
    "#         ),\n",
    "#     ]\n",
    "# )\n",
    "\n",
    "# val_transforms_insert_gc_overlay = Compose( #igual no es asi\n",
    "#     [\n",
    "#         LoadImaged(keys=[\"image\", \"label\", \"label-gc\"]),\n",
    "#         RemoveDicts(keys=[\"image\", \"label\", \"label-gc\"]),\n",
    "#         adaptOverlay(keys=[\"label-gc\"]),\n",
    "#         AsChannelFirstd(keys=[\"label\", \"label-gc\"]),\n",
    "#         AddGCLabel(keys=[\"label\"]),\n",
    "#         WriteToMHA(keys=[\"label\"], output_dir=\"/mnt/chansey/lauraalvarez/data/spleen/synthetic_overlays\"),\n",
    "#     ]\n",
    "# )\n",
    "\n",
    "val_transforms_synthetic_spleen = Compose(\n",
    "    [\n",
    "        LoadImaged(keys=[\"image\", \"label\"]),\n",
    "        RemoveDicts(keys=[\"image\", \"label\"]),\n",
    "        AddChanneld(keys=[\"image\"]),\n",
    "        AsChannelFirstd(keys=[\"label\"]),\n",
    "        NNUnetScaleIntensity(keys=[\"image\"]),\n",
    "        ToTensord(keys=[\"image\", \"label\"]),\n",
    "        CreateSyntheticLabel(keys=[\"label\"], threshold=0.5),\n",
    "        # Resized(keys=[\"image\", \"label\"], spatial_size=(259, 259, 259))\n",
    "        WriteToMHA(\n",
    "            keys=[\"label\"],\n",
    "            output_dir=\"/mnt/chansey/lauraalvarez/data/spleen/synthetic_overlays\",\n",
    "        ),\n",
    "    ]\n",
    ")\n",
    "injures = normal_plot(paths)\n",
    "\n",
    "print(injures[\"label\"].shape)\n",
    "print(injures[\"image\"].shape)\n",
    "# print(np.unique(injures[\"label\"]))\n"
   ]
  },
  {
   "cell_type": "code",
   "execution_count": 164,
   "metadata": {},
   "outputs": [
    {
     "name": "stdout",
     "output_type": "stream",
     "text": [
      "(1, 160, 160, 160)\n",
      "(1, 160, 160, 160)\n"
     ]
    }
   ],
   "source": [
    "inj =  dict(injures)\n",
    "inj =Resized(keys=[\"image\", \"label\", \"tLabel\"], spatial_size=(160, 160, 160))(inj)\n",
    "# injures[\"label\"] = np.expand_dims(injures[\"label\"],0)\n",
    "# injures[\"image\"] = np.expand_dims(injures[\"image\"],0)\n",
    "print(inj[\"label\"].shape)\n",
    "print(inj[\"image\"].shape)"
   ]
  },
  {
   "cell_type": "code",
   "execution_count": 165,
   "metadata": {},
   "outputs": [],
   "source": [
    "post_pred_blending = Compose([AsDiscrete(argmax=True)])\n",
    "injures_one_channel = post_pred_blending(injures[\"label\"])\n",
    "blended_label_in = blend_images(\n",
    "    inj[\"image\"], inj[\"label\"], 0.5\n",
    ")\n",
    "blended_final = torch.from_numpy(blended_label_in).permute(1, 2, 0, 3)\n",
    "\n",
    "blended_true_label = blend_images(inj[\"image\"], inj[\"tLabel\"], 0.5)\n",
    "blended_true_label = torch.from_numpy(blended_true_label).permute(1, 2, 0, 3)\n"
   ]
  },
  {
   "cell_type": "code",
   "execution_count": 174,
   "metadata": {},
   "outputs": [
    {
     "name": "stdout",
     "output_type": "stream",
     "text": [
      "torch.Size([160, 160, 3, 160])\n",
      "torch.Size([160, 160, 3, 160])\n"
     ]
    }
   ],
   "source": [
    "print(torch.from_numpy(inj[\"image\"]).permute(1,2,0,3).repeat(1,1,3,1).shape)\n",
    "print(blended_final.shape)"
   ]
  },
  {
   "cell_type": "code",
   "execution_count": 175,
   "metadata": {},
   "outputs": [
    {
     "name": "stdout",
     "output_type": "stream",
     "text": [
      "torch.Size([160, 480, 3, 160])\n",
      "torch.Size([160, 480, 160, 3])\n"
     ]
    }
   ],
   "source": [
    "volume = torch.hstack((torch.from_numpy(inj[\"image\"]).permute(1,2,0,3).repeat(1,1,3,1), blended_final, blended_true_label))\n",
    "print(volume.shape)\n",
    "volume = volume.permute(0,1,3,2)\n",
    "print(volume.shape)"
   ]
  },
  {
   "cell_type": "code",
   "execution_count": 168,
   "metadata": {},
   "outputs": [],
   "source": [
    "import imageio\n",
    "def _save_gif(volume, filename):\n",
    "    volume = volume.astype(np.float64) / np.max(volume) # normalize the data to 0 - 1\n",
    "    volume = volume *255 # Now scale by 255\n",
    "    volume = volume.astype(np.uint8)\n",
    "    path_to_gif = os.path.join(\"gifs\", f'{filename}.gif')\n",
    "    if not os.path.exists(\"gifs\"):\n",
    "        print(\"Creating gifs directory\")\n",
    "        os.mkdir(\"gifs\")\n",
    "    imageio.mimsave(path_to_gif, volume)\n",
    "    return path_to_gif"
   ]
  },
  {
   "cell_type": "code",
   "execution_count": 176,
   "metadata": {},
   "outputs": [],
   "source": [
    "volume_path = _save_gif(blended_final.numpy().transpose(0,1,3,2), f\"blended-test-11\")"
   ]
  },
  {
   "cell_type": "markdown",
   "metadata": {},
   "source": []
  },
  {
   "cell_type": "code",
   "execution_count": 150,
   "metadata": {},
   "outputs": [
    {
     "data": {
      "application/vnd.jupyter.widget-view+json": {
       "model_id": "09df06a12bbf4c3a8d7f16e8c32a6a18",
       "version_major": 2,
       "version_minor": 0
      },
      "text/plain": [
       "interactive(children=(IntSlider(value=79, description='slice', max=159), Output()), _dom_classes=('widget-inte…"
      ]
     },
     "metadata": {},
     "output_type": "display_data"
    },
    {
     "data": {
      "text/plain": [
       "<function __main__.dicom_animation(slice)>"
      ]
     },
     "execution_count": 150,
     "metadata": {},
     "output_type": "execute_result"
    }
   ],
   "source": [
    "def dicom_animation(slice):\n",
    "    f, axarr = plt.subplots(1, 3, figsize=(20, 20))\n",
    "    plt.title(f\"liver no injured \")\n",
    "    axarr[0].imshow(blended_final[:, :, :, slice])\n",
    "    axarr[1].imshow(blended_true_label[:, :, :, slice])\n",
    "    axarr[2].imshow(inj[\"image\"][0, :, :, slice], cmap=\"bone\")\n",
    "    # axarr[2].imshow(new_mask[0, :, :, slice])\n",
    "    # axarr[1].imshow(injures[\"label\"][1, :, :, slice], cmap=\"bone\")\n",
    "\n",
    "\n",
    "interact(dicom_animation, slice=(0, inj[\"label\"].shape[-1] - 1))\n"
   ]
  },
  {
   "cell_type": "code",
   "execution_count": 22,
   "metadata": {},
   "outputs": [
    {
     "data": {
      "image/png": "[encoded data removed]",
      "text/plain": [
       "<Figure size 432x288 with 1 Axes>"
      ]
     },
     "metadata": {
      "needs_background": "light"
     },
     "output_type": "display_data"
    }
   ],
   "source": [
    "# select pixels of injury mask\n",
    "injury_mask = injures[\"label\"][3, :, :, :]\n",
    "values = injures[\"image\"][0, :, :, :][injury_mask == 1]\n",
    "histogram, bin_edges = np.histogram(values, bins=256, range=(0, 1))\n",
    "\n",
    "# configure and draw the histogram figure\n",
    "plt.figure()\n",
    "plt.title(\"Grayscale Histogram\")\n",
    "plt.xlabel(\"grayscale value\")\n",
    "plt.ylabel(\"pixel count\")\n",
    "plt.xlim([0.0, 1.0])  # <- named arguments do not work here\n",
    "\n",
    "plt.plot(bin_edges[0:-1], histogram)  # <- or here\n",
    "plt.show()\n"
   ]
  },
  {
   "cell_type": "code",
   "execution_count": 415,
   "metadata": {},
   "outputs": [],
   "source": [
    "# val_transforms_synthetic_spleen = Compose(\n",
    "#     [\n",
    "#         LoadImaged(keys=[\"image\", \"label\"]),\n",
    "#         # RemoveDicts(keys=[\"image\", \"label\"]),\n",
    "#         # AddChanneld(keys=[\"image\"]),\n",
    "#         # AsChannelFirstd(keys=[\"label\"]),\n",
    "#         # NNUnetScaleIntensity(keys=[\"image\"]),\n",
    "#         # ToTensord(keys=[\"image\", \"label\"]),\n",
    "#         # CreateSyntheticLabel(keys=[\"label\"], threshold=0.5),\n",
    "#         # Resized(keys=[\"image\", \"label\"], spatial_size=(259, 259, 259))\n",
    "#         # WriteToMHA(\n",
    "#         #     keys=[\"label\"],\n",
    "#         #     output_dir=\"/mnt/chansey/lauraalvarez/data/spleen/synthetic_overlays\",\n",
    "#         # ),\n",
    "#     ]\n",
    "# )\n",
    "\n",
    "# final_result = val_transforms_synthetic_spleen([{\"image\": path_img, \"label\": path_synth_label }])"
   ]
  },
  {
   "cell_type": "code",
   "execution_count": 3,
   "metadata": {},
   "outputs": [],
   "source": [
    "from SimpleITK import GetArrayFromImage, ReadImage\n",
    "\n",
    "HOME = \"U:\\\\\"\n",
    "path_synth_label = os.path.join(HOME, \"lauraalvarez\", \"data\",\"synthetic_overlays\",\"M110074.mha\")\n",
    "path_img = os.path.join(HOME, \"lauraalvarez\", \"data\",\"spleen\",\"imagesTs\", \"M110040.mha\")\n",
    "path_label = os.path.join(HOME, \"lauraalvarez\", \"data\",\"_overlays_from_alessa\",\"overlay_june9_v2\", \"overlay\", \"M110040.mha\") "
   ]
  },
  {
   "cell_type": "code",
   "execution_count": null,
   "metadata": {},
   "outputs": [],
   "source": [
    "# \"U:\\lauraalvarez\\data\\_overlays_from_alessa\\overlay_june9_v2\\overlay\\M110040.mha\"\n",
    "# \"U:\\lauraalvarez\\data\\_original_full_dataset\\mask\\M110074.mha\"\n",
    "\n",
    "# data = {\"image\": ReadImage(path_img) , \"label\": ReadImage(path_label)}\n",
    "\n",
    "# data[\"image\"] = sitk.DICOMOrient(data[\"image\"], 'LAS')\n",
    "# data[\"label\"] = sitk.DICOMOrient(data[\"label\"], 'RAS')\n",
    "\n",
    "# # data[\"image\"].GetDirection(), data[\"label\"].GetDirection()\n",
    "\n",
    "# data = {\"image\": GetArrayFromImage(data[\"image\"]) , \"label\": GetArrayFromImage(data[\"label\"])}\n",
    "\n",
    "# print(data[\"label\"].shape , data[\"image\"].shape)"
   ]
  },
  {
   "cell_type": "code",
   "execution_count": 50,
   "metadata": {},
   "outputs": [
    {
     "name": "stdout",
     "output_type": "stream",
     "text": [
      "(1, 6, 512, 512, 1441)\n"
     ]
    },
    {
     "ename": "RuntimeError",
     "evalue": "applying transform <__main__.CreateSyntheticLabel object at 0x0000029160E78520>",
     "output_type": "error",
     "traceback": [
      "\u001b[1;31m---------------------------------------------------------------------------\u001b[0m",
      "\u001b[1;31merror\u001b[0m                                     Traceback (most recent call last)",
      "File \u001b[1;32mc:\\Users\\Vincent Stirler\\.conda\\envs\\env_trauma\\lib\\site-packages\\monai\\transforms\\transform.py:89\u001b[0m, in \u001b[0;36mapply_transform\u001b[1;34m(transform, data, map_items, unpack_items, log_stats)\u001b[0m\n\u001b[0;32m     88\u001b[0m \u001b[39mif\u001b[39;00m \u001b[39misinstance\u001b[39m(data, (\u001b[39mlist\u001b[39m, \u001b[39mtuple\u001b[39m)) \u001b[39mand\u001b[39;00m map_items:\n\u001b[1;32m---> 89\u001b[0m     \u001b[39mreturn\u001b[39;00m [_apply_transform(transform, item, unpack_items) \u001b[39mfor\u001b[39;00m item \u001b[39min\u001b[39;00m data]\n\u001b[0;32m     90\u001b[0m \u001b[39mreturn\u001b[39;00m _apply_transform(transform, data, unpack_items)\n",
      "File \u001b[1;32mc:\\Users\\Vincent Stirler\\.conda\\envs\\env_trauma\\lib\\site-packages\\monai\\transforms\\transform.py:89\u001b[0m, in \u001b[0;36m<listcomp>\u001b[1;34m(.0)\u001b[0m\n\u001b[0;32m     88\u001b[0m \u001b[39mif\u001b[39;00m \u001b[39misinstance\u001b[39m(data, (\u001b[39mlist\u001b[39m, \u001b[39mtuple\u001b[39m)) \u001b[39mand\u001b[39;00m map_items:\n\u001b[1;32m---> 89\u001b[0m     \u001b[39mreturn\u001b[39;00m [_apply_transform(transform, item, unpack_items) \u001b[39mfor\u001b[39;00m item \u001b[39min\u001b[39;00m data]\n\u001b[0;32m     90\u001b[0m \u001b[39mreturn\u001b[39;00m _apply_transform(transform, data, unpack_items)\n",
      "File \u001b[1;32mc:\\Users\\Vincent Stirler\\.conda\\envs\\env_trauma\\lib\\site-packages\\monai\\transforms\\transform.py:54\u001b[0m, in \u001b[0;36m_apply_transform\u001b[1;34m(transform, parameters, unpack_parameters)\u001b[0m\n\u001b[0;32m     52\u001b[0m     \u001b[39mreturn\u001b[39;00m transform(\u001b[39m*\u001b[39mparameters)\n\u001b[1;32m---> 54\u001b[0m \u001b[39mreturn\u001b[39;00m transform(parameters)\n",
      "\u001b[1;32mu:\\lauraalvarez\\traumaAI\\Liver_Segmentation\\visualization_gc_spleen_pres.ipynb Cell 24\u001b[0m in \u001b[0;36mCreateSyntheticLabel.__call__\u001b[1;34m(self, data)\u001b[0m\n\u001b[0;32m     <a href='vscode-notebook-cell:/u%3A/lauraalvarez/traumaAI/Liver_Segmentation/visualization_gc_spleen_pres.ipynb#Y126sZmlsZQ%3D%3D?line=42'>43</a>\u001b[0m result \u001b[39m=\u001b[39m cv2\u001b[39m.\u001b[39mmorphologyEx(\n\u001b[0;32m     <a href='vscode-notebook-cell:/u%3A/lauraalvarez/traumaAI/Liver_Segmentation/visualization_gc_spleen_pres.ipynb#Y126sZmlsZQ%3D%3D?line=43'>44</a>\u001b[0m     new_mask[\u001b[39m0\u001b[39m, :, :, \u001b[39mslice\u001b[39m], cv2\u001b[39m.\u001b[39mMORPH_CLOSE, kernel, iterations\u001b[39m=\u001b[39m\u001b[39m4\u001b[39m\n\u001b[0;32m     <a href='vscode-notebook-cell:/u%3A/lauraalvarez/traumaAI/Liver_Segmentation/visualization_gc_spleen_pres.ipynb#Y126sZmlsZQ%3D%3D?line=44'>45</a>\u001b[0m )\n\u001b[1;32m---> <a href='vscode-notebook-cell:/u%3A/lauraalvarez/traumaAI/Liver_Segmentation/visualization_gc_spleen_pres.ipynb#Y126sZmlsZQ%3D%3D?line=45'>46</a>\u001b[0m result \u001b[39m=\u001b[39m cv2\u001b[39m.\u001b[39;49mmedianBlur(result, \u001b[39m9\u001b[39;49m)\n\u001b[0;32m     <a href='vscode-notebook-cell:/u%3A/lauraalvarez/traumaAI/Liver_Segmentation/visualization_gc_spleen_pres.ipynb#Y126sZmlsZQ%3D%3D?line=46'>47</a>\u001b[0m closed_slices\u001b[39m.\u001b[39mappend(result)\n",
      "\u001b[1;31merror\u001b[0m: OpenCV(4.5.5) D:/a/opencv-python/opencv-python/opencv/modules/imgproc/src/median_blur.simd.hpp:985: error: (-215:Assertion failed) src.depth() == CV_8U && (cn == 1 || cn == 3 || cn == 4) in function 'cv::opt_AVX2::medianBlur'\n",
      "\nThe above exception was the direct cause of the following exception:\n",
      "\u001b[1;31mRuntimeError\u001b[0m                              Traceback (most recent call last)",
      "\u001b[1;32mu:\\lauraalvarez\\traumaAI\\Liver_Segmentation\\visualization_gc_spleen_pres.ipynb Cell 24\u001b[0m in \u001b[0;36m<cell line: 27>\u001b[1;34m()\u001b[0m\n\u001b[0;32m      <a href='vscode-notebook-cell:/u%3A/lauraalvarez/traumaAI/Liver_Segmentation/visualization_gc_spleen_pres.ipynb#Y126sZmlsZQ%3D%3D?line=0'>1</a>\u001b[0m data \u001b[39m=\u001b[39m {\u001b[39m\"\u001b[39m\u001b[39mimage\u001b[39m\u001b[39m\"\u001b[39m: path_img , \u001b[39m\"\u001b[39m\u001b[39mlabel_0\u001b[39m\u001b[39m\"\u001b[39m: path_label, \u001b[39m\"\u001b[39m\u001b[39mlabel\u001b[39m\u001b[39m\"\u001b[39m: path_label}\n\u001b[0;32m      <a href='vscode-notebook-cell:/u%3A/lauraalvarez/traumaAI/Liver_Segmentation/visualization_gc_spleen_pres.ipynb#Y126sZmlsZQ%3D%3D?line=2'>3</a>\u001b[0m val_transforms_synthetic_spleen \u001b[39m=\u001b[39m Compose(\n\u001b[0;32m      <a href='vscode-notebook-cell:/u%3A/lauraalvarez/traumaAI/Liver_Segmentation/visualization_gc_spleen_pres.ipynb#Y126sZmlsZQ%3D%3D?line=3'>4</a>\u001b[0m     [\n\u001b[0;32m      <a href='vscode-notebook-cell:/u%3A/lauraalvarez/traumaAI/Liver_Segmentation/visualization_gc_spleen_pres.ipynb#Y126sZmlsZQ%3D%3D?line=4'>5</a>\u001b[0m         LoadImaged(keys\u001b[39m=\u001b[39m[\u001b[39m\"\u001b[39m\u001b[39mimage\u001b[39m\u001b[39m\"\u001b[39m, \u001b[39m\"\u001b[39m\u001b[39mlabel_0\u001b[39m\u001b[39m\"\u001b[39m, \u001b[39m\"\u001b[39m\u001b[39mlabel\u001b[39m\u001b[39m\"\u001b[39m]),\n\u001b[1;32m   (...)\u001b[0m\n\u001b[0;32m     <a href='vscode-notebook-cell:/u%3A/lauraalvarez/traumaAI/Liver_Segmentation/visualization_gc_spleen_pres.ipynb#Y126sZmlsZQ%3D%3D?line=23'>24</a>\u001b[0m     ]\n\u001b[0;32m     <a href='vscode-notebook-cell:/u%3A/lauraalvarez/traumaAI/Liver_Segmentation/visualization_gc_spleen_pres.ipynb#Y126sZmlsZQ%3D%3D?line=24'>25</a>\u001b[0m )\n\u001b[1;32m---> <a href='vscode-notebook-cell:/u%3A/lauraalvarez/traumaAI/Liver_Segmentation/visualization_gc_spleen_pres.ipynb#Y126sZmlsZQ%3D%3D?line=26'>27</a>\u001b[0m final_result \u001b[39m=\u001b[39m val_transforms_synthetic_spleen([data])\n\u001b[0;32m     <a href='vscode-notebook-cell:/u%3A/lauraalvarez/traumaAI/Liver_Segmentation/visualization_gc_spleen_pres.ipynb#Y126sZmlsZQ%3D%3D?line=28'>29</a>\u001b[0m \u001b[39mprint\u001b[39m(final_result[\u001b[39m0\u001b[39m][\u001b[39m\"\u001b[39m\u001b[39mimage\u001b[39m\u001b[39m\"\u001b[39m]\u001b[39m.\u001b[39mshape, final_result[\u001b[39m0\u001b[39m][\u001b[39m\"\u001b[39m\u001b[39mlabel_0\u001b[39m\u001b[39m\"\u001b[39m]\u001b[39m.\u001b[39mshape, final_result[\u001b[39m0\u001b[39m][\u001b[39m\"\u001b[39m\u001b[39mlabel\u001b[39m\u001b[39m\"\u001b[39m]\u001b[39m.\u001b[39mshape)\n",
      "File \u001b[1;32mc:\\Users\\Vincent Stirler\\.conda\\envs\\env_trauma\\lib\\site-packages\\monai\\transforms\\compose.py:173\u001b[0m, in \u001b[0;36mCompose.__call__\u001b[1;34m(self, input_)\u001b[0m\n\u001b[0;32m    171\u001b[0m \u001b[39mdef\u001b[39;00m \u001b[39m__call__\u001b[39m(\u001b[39mself\u001b[39m, input_):\n\u001b[0;32m    172\u001b[0m     \u001b[39mfor\u001b[39;00m _transform \u001b[39min\u001b[39;00m \u001b[39mself\u001b[39m\u001b[39m.\u001b[39mtransforms:\n\u001b[1;32m--> 173\u001b[0m         input_ \u001b[39m=\u001b[39m apply_transform(_transform, input_, \u001b[39mself\u001b[39;49m\u001b[39m.\u001b[39;49mmap_items, \u001b[39mself\u001b[39;49m\u001b[39m.\u001b[39;49munpack_items, \u001b[39mself\u001b[39;49m\u001b[39m.\u001b[39;49mlog_stats)\n\u001b[0;32m    174\u001b[0m     \u001b[39mreturn\u001b[39;00m input_\n",
      "File \u001b[1;32mc:\\Users\\Vincent Stirler\\.conda\\envs\\env_trauma\\lib\\site-packages\\monai\\transforms\\transform.py:114\u001b[0m, in \u001b[0;36mapply_transform\u001b[1;34m(transform, data, map_items, unpack_items, log_stats)\u001b[0m\n\u001b[0;32m    112\u001b[0m     \u001b[39melse\u001b[39;00m:\n\u001b[0;32m    113\u001b[0m         _log_stats(data\u001b[39m=\u001b[39mdata)\n\u001b[1;32m--> 114\u001b[0m \u001b[39mraise\u001b[39;00m \u001b[39mRuntimeError\u001b[39;00m(\u001b[39mf\u001b[39m\u001b[39m\"\u001b[39m\u001b[39mapplying transform \u001b[39m\u001b[39m{\u001b[39;00mtransform\u001b[39m}\u001b[39;00m\u001b[39m\"\u001b[39m) \u001b[39mfrom\u001b[39;00m \u001b[39me\u001b[39;00m\n",
      "\u001b[1;31mRuntimeError\u001b[0m: applying transform <__main__.CreateSyntheticLabel object at 0x0000029160E78520>"
     ]
    }
   ],
   "source": [
    "data = {\"image\": path_img , \"label_0\": path_label, \"label\": path_label}\n",
    "\n",
    "val_transforms_synthetic_spleen = Compose(\n",
    "    [\n",
    "        LoadImaged(keys=[\"image\", \"label_0\", \"label\"]),\n",
    "        # RemoveDicts(keys=[\"image\", \"label\"]),\n",
    "        AsChannelFirstd(keys=[\"label_0\", \"label\"]),\n",
    "        AddChanneld(keys=[\"image\",  \"label_0\", \"label\"]),\n",
    "        ScaleIntensityRanged(\n",
    "                    keys=[\"image\"],\n",
    "                    a_min=-175,\n",
    "                    a_max=250,\n",
    "                    b_min=0.0,\n",
    "                    b_max=1.0,\n",
    "                    clip=True,\n",
    "                ),\n",
    "        CreateSyntheticLabel(keys=[ \"label\"], threshold=0.73),\n",
    "        ToTensord(keys=[\"image\",  \"label_0\", \"label\"]),\n",
    "        # Resized(keys=[\"image\", \"label\"], spatial_size=(259, 259, 259))\n",
    "        # WriteToMHA(\n",
    "        #     keys=[\"label\"],\n",
    "        #     output_dir=\"/mnt/chansey/lauraalvarez/data/spleen/synthetic_overlays\",\n",
    "        # ),\n",
    "    ]\n",
    ")\n",
    "\n",
    "final_result = val_transforms_synthetic_spleen([data])\n",
    "\n",
    "print(final_result[0][\"image\"].shape, final_result[0][\"label_0\"].shape, final_result[0][\"label\"].shape)"
   ]
  },
  {
   "cell_type": "code",
   "execution_count": null,
   "metadata": {},
   "outputs": [
    {
     "name": "stdout",
     "output_type": "stream",
     "text": [
      "shape (1, 512, 512, 1441) torch.Size([6, 512, 512, 1441])\n",
      "shape after argmax label (1, 512, 512, 1441), (1, 512, 512, 1441), (1, 512, 512, 1441)\n",
      "shape after blend torch.Size([512, 512, 3, 1441]) (3, 512, 512, 1441) torch.Size([512, 512, 3, 1441])\n"
     ]
    }
   ],
   "source": [
    "image = final_result[0][\"image\"].numpy()\n",
    "old_spleen_label = final_result[0][\"label_0\"][0] # [:,:,3,:,:]\n",
    "spleen_label =  final_result[0][\"label\"][0] \n",
    "\n",
    "print(\"shape\", image.shape, spleen_label.shape)\n",
    "\n",
    "post_pred_blending = Compose([AsDiscrete(argmax=True)])\n",
    "injures_one_channel = post_pred_blending(spleen_label)\n",
    "old_injures_one_channel =  post_pred_blending(old_spleen_label)\n",
    "\n",
    "print(f\"shape after argmax label {old_injures_one_channel.shape}, {injures_one_channel.shape}, {image.shape}\")\n",
    "\n",
    "blended_label_in = blend_images( image, injures_one_channel.numpy(), 0.5)\n",
    "blended_label_in_0 = blend_images( image, old_injures_one_channel.numpy(), 0.5)\n",
    "blended_final = torch.from_numpy(blended_label_in).permute(1, 2, 0, 3)\n",
    "blended_final_0 = torch.from_numpy(blended_label_in_0).permute(1, 2, 0, 3)\n",
    "\n",
    "# blended_true_label = blend_images(final_result[0][\"image\"], old , 0.5)\n",
    "# blended_true_label = torch.from_numpy(blended_true_label).permute(1, 2, 0, 3)\n",
    "\n",
    "print(\"shape after blend\", blended_final_0.shape, blended_label_in.shape, blended_final.shape)"
   ]
  },
  {
   "cell_type": "code",
   "execution_count": 27,
   "metadata": {},
   "outputs": [
    {
     "data": {
      "text/plain": [
       "((1, 512, 512, 1441), (1, 6, 1441, 512))"
      ]
     },
     "execution_count": 27,
     "metadata": {},
     "output_type": "execute_result"
    }
   ],
   "source": [
    "# spleen_I_label = LabelToContour()(final_result[0][\"label\"][:,:,3,:,:])\n",
    "# spleen_O_label =  LabelToContour()(final_result[0][\"label\"][:,:,1,:,:])\n",
    "# spleen_label = torch.stack((spleen_O_label.flip(2), spleen_I_label.flip(2))).permute(1,2,0,3,4)\n",
    "# old = final_result[0][\"old_label\"][:,:,3,:,:]\n",
    "\n",
    "labels = [1,3]\n",
    "channels = list()\n",
    "for i, channel in enumerate(labels):\n",
    "    c = LabelToContour()(final_result[0][\"label\"][:,:, channel, :, :].flip(2))\n",
    "    c = np.where((c == 1), i + 1, c)\n",
    "    channels.append(c)\n",
    "\n",
    "# we got channels splitted with 1 each. if we add them we should get what we want\n",
    "chans = np.stack(channels, axis=0)\n",
    "spleen_label = np.max(chans, axis=0)\n",
    "spleen_label = torch.from_numpy(spleen_label)\n",
    "\n",
    "spleen_label = (final_result[0][\"label\"][:,:,1,:,:]).flip(2)\n",
    "final_result[0][\"image\"].numpy().shape,  spleen_label.permute(0,1,3,2).numpy().shape"
   ]
  },
  {
   "cell_type": "code",
   "execution_count": null,
   "metadata": {},
   "outputs": [
    {
     "data": {
      "application/vnd.jupyter.widget-view+json": {
       "model_id": "ee7135ad17bf4150a76acc81073579fe",
       "version_major": 2,
       "version_minor": 0
      },
      "text/plain": [
       "interactive(children=(IntSlider(value=720, description='slice', max=1440), Output()), _dom_classes=('widget-in…"
      ]
     },
     "metadata": {},
     "output_type": "display_data"
    },
    {
     "data": {
      "text/plain": [
       "<function __main__.dicom_animation(slice)>"
      ]
     },
     "execution_count": 44,
     "metadata": {},
     "output_type": "execute_result"
    }
   ],
   "source": [
    "from ipywidgets import interact, interactive, fixed, interact_manual\n",
    "import ipywidgets as widgets\n",
    "import matplotlib.pyplot as plt\n",
    "\n",
    "def dicom_animation(slice):\n",
    "    f, axarr = plt.subplots(1, 3, figsize=(30, 30))\n",
    "    plt.title(f\"liver no injured \")\n",
    "    axarr[0].imshow(image[0, :, :, slice], cmap=\"bone\")\n",
    "    # axarr[1].imshow(data[\"image\"][0, :, :, slice], cmap=\"bone\")\n",
    "    axarr[1].imshow(blended_final_0[:, :, :, slice],  cmap=\"bone\")\n",
    "    axarr[2].imshow(blended_final[:, :, :, slice],  cmap=\"bone\")\n",
    "    # axarr[1].imshow(injures[\"label\"][1, :, :, slice], cmap=\"bone\")\n",
    "\n",
    "\n",
    "interact(dicom_animation, slice=(0, blended_final.shape[-1] - 1))\n"
   ]
  },
  {
   "cell_type": "code",
   "execution_count": 11,
   "metadata": {},
   "outputs": [
    {
     "data": {
      "application/vnd.jupyter.widget-view+json": {
       "model_id": "d38ac894988244a4a148751a9cedc839",
       "version_major": 2,
       "version_minor": 0
      },
      "text/plain": [
       "interactive(children=(IntSlider(value=720, description='slice', max=1440), Output()), _dom_classes=('widget-in…"
      ]
     },
     "metadata": {},
     "output_type": "display_data"
    },
    {
     "data": {
      "text/plain": [
       "<function __main__.dicom_animation(slice)>"
      ]
     },
     "execution_count": 11,
     "metadata": {},
     "output_type": "execute_result"
    }
   ],
   "source": [
    "from ipywidgets import interact, interactive, fixed, interact_manual\n",
    "import ipywidgets as widgets\n",
    "import matplotlib.pyplot as plt\n",
    "\n",
    "def dicom_animation(slice):\n",
    "    f, axarr = plt.subplots(1, 3, figsize=(30, 30))\n",
    "    plt.title(f\"liver no injured \")\n",
    "    axarr[0].imshow(image[0, :, :, slice], cmap=\"bone\")\n",
    "    # axarr[1].imshow(data[\"image\"][0, :, :, slice], cmap=\"bone\")\n",
    "    axarr[1].imshow(blended_final_0[:, :, :, slice],  cmap=\"bone\")\n",
    "    axarr[2].imshow(blended_final[:, :, :, slice],  cmap=\"bone\")\n",
    "    # axarr[1].imshow(injures[\"label\"][1, :, :, slice], cmap=\"bone\")\n",
    "\n",
    "\n",
    "interact(dicom_animation, slice=(0, blended_final.shape[-1] - 1))"
   ]
  },
  {
   "cell_type": "markdown",
   "metadata": {},
   "source": [
    "### AQUI"
   ]
  },
  {
   "cell_type": "code",
   "execution_count": 2,
   "metadata": {},
   "outputs": [
    {
     "name": "stdout",
     "output_type": "stream",
     "text": [
      "Infering for image:U:\\lauraalvarez\\nnunet\\nnUNet_raw_data\\Task511_SpleenTraumaCV\\imagesTs\\TRMSPL_000_0000.nii.gz, label: U:\\lauraalvarez\\nnunet\\nnUNet_raw_data\\Task511_SpleenTraumaCV\\out\\TRMSPL_000.nii.gz, true label: U:\\lauraalvarez\\nnunet\\nnUNet_raw_data\\Task511_SpleenTraumaCV\\labelsTs\\TRMSPL_000.nii.gz\n",
      "Infering for image:U:\\lauraalvarez\\nnunet\\nnUNet_raw_data\\Task511_SpleenTraumaCV\\imagesTs\\TRMSPL_001_0000.nii.gz, label: U:\\lauraalvarez\\nnunet\\nnUNet_raw_data\\Task511_SpleenTraumaCV\\out\\TRMSPL_001.nii.gz, true label: U:\\lauraalvarez\\nnunet\\nnUNet_raw_data\\Task511_SpleenTraumaCV\\labelsTs\\TRMSPL_001.nii.gz\n",
      "Infering for image:U:\\lauraalvarez\\nnunet\\nnUNet_raw_data\\Task511_SpleenTraumaCV\\imagesTs\\TRMSPL_002_0000.nii.gz, label: U:\\lauraalvarez\\nnunet\\nnUNet_raw_data\\Task511_SpleenTraumaCV\\out\\TRMSPL_002.nii.gz, true label: U:\\lauraalvarez\\nnunet\\nnUNet_raw_data\\Task511_SpleenTraumaCV\\labelsTs\\TRMSPL_002.nii.gz\n",
      "Infering for image:U:\\lauraalvarez\\nnunet\\nnUNet_raw_data\\Task511_SpleenTraumaCV\\imagesTs\\TRMSPL_003_0000.nii.gz, label: U:\\lauraalvarez\\nnunet\\nnUNet_raw_data\\Task511_SpleenTraumaCV\\out\\TRMSPL_003.nii.gz, true label: U:\\lauraalvarez\\nnunet\\nnUNet_raw_data\\Task511_SpleenTraumaCV\\labelsTs\\TRMSPL_003.nii.gz\n",
      "Infering for image:U:\\lauraalvarez\\nnunet\\nnUNet_raw_data\\Task511_SpleenTraumaCV\\imagesTs\\TRMSPL_004_0000.nii.gz, label: U:\\lauraalvarez\\nnunet\\nnUNet_raw_data\\Task511_SpleenTraumaCV\\out\\TRMSPL_004.nii.gz, true label: U:\\lauraalvarez\\nnunet\\nnUNet_raw_data\\Task511_SpleenTraumaCV\\labelsTs\\TRMSPL_004.nii.gz\n",
      "Infering for image:U:\\lauraalvarez\\nnunet\\nnUNet_raw_data\\Task511_SpleenTraumaCV\\imagesTs\\TRMSPL_005_0000.nii.gz, label: U:\\lauraalvarez\\nnunet\\nnUNet_raw_data\\Task511_SpleenTraumaCV\\out\\TRMSPL_005.nii.gz, true label: U:\\lauraalvarez\\nnunet\\nnUNet_raw_data\\Task511_SpleenTraumaCV\\labelsTs\\TRMSPL_005.nii.gz\n",
      "Infering for image:U:\\lauraalvarez\\nnunet\\nnUNet_raw_data\\Task511_SpleenTraumaCV\\imagesTs\\TRMSPL_006_0000.nii.gz, label: U:\\lauraalvarez\\nnunet\\nnUNet_raw_data\\Task511_SpleenTraumaCV\\out\\TRMSPL_006.nii.gz, true label: U:\\lauraalvarez\\nnunet\\nnUNet_raw_data\\Task511_SpleenTraumaCV\\labelsTs\\TRMSPL_006.nii.gz\n",
      "Infering for image:U:\\lauraalvarez\\nnunet\\nnUNet_raw_data\\Task511_SpleenTraumaCV\\imagesTs\\TRMSPL_007_0000.nii.gz, label: U:\\lauraalvarez\\nnunet\\nnUNet_raw_data\\Task511_SpleenTraumaCV\\out\\TRMSPL_007.nii.gz, true label: U:\\lauraalvarez\\nnunet\\nnUNet_raw_data\\Task511_SpleenTraumaCV\\labelsTs\\TRMSPL_007.nii.gz\n",
      "Infering for image:U:\\lauraalvarez\\nnunet\\nnUNet_raw_data\\Task510_LiverTraumaDGX\\imagesTs\\TLIV_000_0000.nii.gz, label: U:\\lauraalvarez\\nnunet\\nnUNet_raw_data\\Task510_LiverTraumaDGX\\out\\TLIV_000.nii.gz, true label: U:\\lauraalvarez\\nnunet\\nnUNet_raw_data\\Task510_LiverTraumaDGX\\labelsTs\\TLIV_000.nii.gz\n",
      "Infering for image:U:\\lauraalvarez\\nnunet\\nnUNet_raw_data\\Task510_LiverTraumaDGX\\imagesTs\\TLIV_001_0000.nii.gz, label: U:\\lauraalvarez\\nnunet\\nnUNet_raw_data\\Task510_LiverTraumaDGX\\out\\TLIV_001.nii.gz, true label: U:\\lauraalvarez\\nnunet\\nnUNet_raw_data\\Task510_LiverTraumaDGX\\labelsTs\\TLIV_001.nii.gz\n",
      "Infering for image:U:\\lauraalvarez\\nnunet\\nnUNet_raw_data\\Task510_LiverTraumaDGX\\imagesTs\\TLIV_002_0000.nii.gz, label: U:\\lauraalvarez\\nnunet\\nnUNet_raw_data\\Task510_LiverTraumaDGX\\out\\TLIV_002.nii.gz, true label: U:\\lauraalvarez\\nnunet\\nnUNet_raw_data\\Task510_LiverTraumaDGX\\labelsTs\\TLIV_002.nii.gz\n",
      "Infering for image:U:\\lauraalvarez\\nnunet\\nnUNet_raw_data\\Task510_LiverTraumaDGX\\imagesTs\\TLIV_003_0000.nii.gz, label: U:\\lauraalvarez\\nnunet\\nnUNet_raw_data\\Task510_LiverTraumaDGX\\out\\TLIV_003.nii.gz, true label: U:\\lauraalvarez\\nnunet\\nnUNet_raw_data\\Task510_LiverTraumaDGX\\labelsTs\\TLIV_003.nii.gz\n",
      "Infering for image:U:\\lauraalvarez\\nnunet\\nnUNet_raw_data\\Task510_LiverTraumaDGX\\imagesTs\\TLIV_004_0000.nii.gz, label: U:\\lauraalvarez\\nnunet\\nnUNet_raw_data\\Task510_LiverTraumaDGX\\out\\TLIV_004.nii.gz, true label: U:\\lauraalvarez\\nnunet\\nnUNet_raw_data\\Task510_LiverTraumaDGX\\labelsTs\\TLIV_004.nii.gz\n",
      "Infering for image:U:\\lauraalvarez\\nnunet\\nnUNet_raw_data\\Task510_LiverTraumaDGX\\imagesTs\\TLIV_005_0000.nii.gz, label: U:\\lauraalvarez\\nnunet\\nnUNet_raw_data\\Task510_LiverTraumaDGX\\out\\TLIV_005.nii.gz, true label: U:\\lauraalvarez\\nnunet\\nnUNet_raw_data\\Task510_LiverTraumaDGX\\labelsTs\\TLIV_005.nii.gz\n",
      "Infering for image:U:\\lauraalvarez\\nnunet\\nnUNet_raw_data\\Task510_LiverTraumaDGX\\imagesTs\\TLIV_006_0000.nii.gz, label: U:\\lauraalvarez\\nnunet\\nnUNet_raw_data\\Task510_LiverTraumaDGX\\out\\TLIV_006.nii.gz, true label: U:\\lauraalvarez\\nnunet\\nnUNet_raw_data\\Task510_LiverTraumaDGX\\labelsTs\\TLIV_006.nii.gz\n",
      "Infering for image:U:\\lauraalvarez\\nnunet\\nnUNet_raw_data\\Task510_LiverTraumaDGX\\imagesTs\\TLIV_007_0000.nii.gz, label: U:\\lauraalvarez\\nnunet\\nnUNet_raw_data\\Task510_LiverTraumaDGX\\out\\TLIV_007.nii.gz, true label: U:\\lauraalvarez\\nnunet\\nnUNet_raw_data\\Task510_LiverTraumaDGX\\labelsTs\\TLIV_007.nii.gz\n",
      "Infering for image:U:\\lauraalvarez\\nnunet\\nnUNet_raw_data\\Task510_LiverTraumaDGX\\imagesTs\\TLIV_008_0000.nii.gz, label: U:\\lauraalvarez\\nnunet\\nnUNet_raw_data\\Task510_LiverTraumaDGX\\out\\TLIV_008.nii.gz, true label: U:\\lauraalvarez\\nnunet\\nnUNet_raw_data\\Task510_LiverTraumaDGX\\labelsTs\\TLIV_008.nii.gz\n"
     ]
    }
   ],
   "source": [
    "import glob\n",
    "OUT_FOLDER = \"out\"\n",
    "GIF_FOLDER = \"super_new_post_gifs_fixed\"\n",
    "ORGAN = \"Spleen\"\n",
    "task_name = \"Task511_SpleenTraumaCV\" # \"U:\\lauraalvarez\\nnunet\\nnUNet_raw_data\\Task511_SpleenTraumaCV\" Task510_LiverTraumaDGX\n",
    "images = glob.glob(\n",
    "    os.path.join(\n",
    "        \"U:\\\\\", #\"/mnt\", \"chansey\",# \"U:\\\\\",\n",
    "        \"lauraalvarez\",\n",
    "        \"nnunet\",\n",
    "        \"nnUNet_raw_data\",\n",
    "        task_name,\n",
    "        \"imagesTs\",\n",
    "        \"*.nii.gz\",\n",
    "    )\n",
    ")\n",
    "predicitions = glob.glob(\n",
    "    os.path.join(\n",
    "        \"U:\\\\\", # \"/mnt\", \"chansey\",# \"U:\\\\\",\n",
    "        \"lauraalvarez\",\n",
    "        \"nnunet\",\n",
    "        \"nnUNet_raw_data\",\n",
    "        task_name,\n",
    "        OUT_FOLDER,\n",
    "        \"*.nii.gz\",\n",
    "    )\n",
    ")\n",
    "true_labels = glob.glob(\n",
    "    os.path.join(\n",
    "        \"U:\\\\\", #\"/mnt\", \"chansey\",# \"U:\\\\\",\n",
    "        \"lauraalvarez\",\n",
    "        \"nnunet\",\n",
    "        \"nnUNet_raw_data\",\n",
    "        task_name,\n",
    "        \"labelsTs\",\n",
    "        \"*.nii.gz\",\n",
    "    )\n",
    ")\n",
    "\n",
    "data_dicts_test = [\n",
    "    {\"image\": image_name, \"label\": label_name, \"tLabel\": true_name}\n",
    "    for image_name, label_name, true_name in zip(images, predicitions, true_labels)\n",
    "]\n",
    "task_name = \"Task510_LiverTraumaDGX\" # \"U:\\lauraalvarez\\nnunet\\nnUNet_raw_data\\Task511_SpleenTraumaCV\" Task510_LiverTraumaDGX\n",
    "\n",
    "images = glob.glob(\n",
    "    os.path.join(\n",
    "        \"U:\\\\\", #\"/mnt\", \"chansey\",# \"U:\\\\\",\n",
    "        \"lauraalvarez\",\n",
    "        \"nnunet\",\n",
    "        \"nnUNet_raw_data\",\n",
    "        task_name,\n",
    "        \"imagesTs\",\n",
    "        \"*.nii.gz\",\n",
    "    )\n",
    ")\n",
    "predicitions = glob.glob(\n",
    "    os.path.join(\n",
    "        \"U:\\\\\", # \"/mnt\", \"chansey\",# \"U:\\\\\",\n",
    "        \"lauraalvarez\",\n",
    "        \"nnunet\",\n",
    "        \"nnUNet_raw_data\",\n",
    "        task_name,\n",
    "        OUT_FOLDER,\n",
    "        \"*.nii.gz\",\n",
    "    )\n",
    ")\n",
    "true_labels = glob.glob(\n",
    "    os.path.join(\n",
    "        \"U:\\\\\", #\"/mnt\", \"chansey\",# \"U:\\\\\",\n",
    "        \"lauraalvarez\",\n",
    "        \"nnunet\",\n",
    "        \"nnUNet_raw_data\",\n",
    "        task_name,\n",
    "        \"labelsTs\",\n",
    "        \"*.nii.gz\",\n",
    "    )\n",
    ")\n",
    "\n",
    "data_dicts_test_2 = [\n",
    "    {\"image\": image_name, \"label\": label_name, \"tLabel\": true_name}\n",
    "    for image_name, label_name, true_name in zip(images, predicitions, true_labels)\n",
    "]\n",
    "\n",
    "data_dicts_test = data_dicts_test + data_dicts_test_2\n",
    "\n",
    "csv_list = []\n",
    "for data in data_dicts_test[6:]:\n",
    "    print(f\"Infering for image:{data['image']}, label: {data['label']}, true label: {data['tLabel']}\")"
   ]
  },
  {
   "cell_type": "code",
   "execution_count": 116,
   "metadata": {},
   "outputs": [
    {
     "name": "stderr",
     "output_type": "stream",
     "text": [
      "<class 'monai.transforms.utility.array.AsChannelFirst'>: Class `AsChannelFirst` has been deprecated since version 0.8. please use MetaTensor data type and monai.transforms.EnsureChannelFirst instead.\n",
      "<class 'monai.transforms.utility.array.AddChannel'>: Class `AddChannel` has been deprecated since version 0.8. please use MetaTensor data type and monai.transforms.EnsureChannelFirst instead.\n"
     ]
    }
   ],
   "source": [
    "from SimpleITK import GetArrayFromImage, ReadImage\n",
    "from monai.transforms import EnsureType, EnsureTyped, KeepLargestConnectedComponentd, RemoveSmallObjectsd\n",
    "\n",
    "HOME = \"U:\\\\\"\n",
    "val_transforms_synthetic_spleen = Compose(\n",
    "            [\n",
    "                LoadImaged(keys=[\"image\", \"label\", \"tLabel\"]),\n",
    "                AsChannelFirstd(keys=[\"image\", \"label\", \"tLabel\"]),\n",
    "                AddChanneld(keys=[\"label\", \"image\", \"tLabel\"]),\n",
    "                CropForegroundd(keys=[\"image\", \"label\", 'tLabel'], source_key=\"image\"),\n",
    "                Orientationd(keys=[\"image\", \"label\", 'tLabel'], axcodes=\"RAS\"),\n",
    "                ScaleIntensityRanged(\n",
    "                    keys=[\"image\"],\n",
    "                    a_min=-150,\n",
    "                    a_max=250,\n",
    "                    b_min=0.0,\n",
    "                    b_max=1.0,\n",
    "                    clip=True,\n",
    "                    \n",
    "                ),\n",
    "                # RemoveSmallObjectsd(keys=[\"label\"], min_size=5000, connectivity=None, independent_channels=True),\n",
    "                KeepLargestConnectedComponentd(keys=[\"label\"], applied_labels=[1,2], is_onehot=False, independent=False, connectivity=None),\n",
    "                # DilationLabel(keys=[\"label\"]),\n",
    "                EnsureTyped(keys=[\"label\", \"image\", \"tLabel\"], data_type='tensor')\n",
    "                # ActiveContour(keys=[\"label\", \"image\"]),\n",
    "                # FillHolesd(keys=[\"label\"]),\n",
    "                \n",
    "            ]\n",
    "        )\n",
    "\n",
    "case_number = \"6:\"\n",
    "# print(\"Loading case: \", data_dicts_test[6:][\"image\"])\n",
    "injures = val_transforms_synthetic_spleen(data_dicts_test[14:])\n",
    "# print(injures[0][\"image\"].shape, injures[0][\"label\"].shape, injures[0][\"tLabel\"].shape)"
   ]
  },
  {
   "cell_type": "code",
   "execution_count": 106,
   "metadata": {},
   "outputs": [],
   "source": [
    "from scipy import ndimage\n",
    "import  skimage.measure as measure\n",
    "\n",
    "def get_connected_components(init_label, selected_label, min_size=4000):\n",
    "    result = {}\n",
    "    removed = {}\n",
    "    init_label_ = init_label.copy()\n",
    "    foreground = np.where((init_label_ != selected_label), 0, init_label_)\n",
    "    labelling, label_count = measure.label(foreground == selected_label, return_num=True)\n",
    "    init_clusters = np.unique(labelling, return_counts=True)\n",
    "    for n in range(1, label_count+1):\n",
    "        cluster_size = ndimage.sum(labelling ==n)\n",
    "        if cluster_size < min_size:\n",
    "            labelling[labelling == n] = 0\n",
    "            removed[n] = cluster_size\n",
    "        else:\n",
    "            result[n] = cluster_size\n",
    "    for n in range(1, label_count+1):\n",
    "        if n in result.keys():\n",
    "            labelling[labelling == n] = 2\n",
    "    \n",
    "    return labelling, init_clusters, result, removed\n",
    "\n",
    "# d = dict(injures[i])\n",
    "# labelling, init_clusters, result, removed = get_connected_components(init_label=d[\"label\"].numpy().astype(np.int8), selected_label=2, min_size=7000)"
   ]
  },
  {
   "cell_type": "code",
   "execution_count": 183,
   "metadata": {},
   "outputs": [
    {
     "data": {
      "text/plain": [
       "numpy.ndarray"
      ]
     },
     "execution_count": 183,
     "metadata": {},
     "output_type": "execute_result"
    }
   ],
   "source": [
    "type(old_true_mask_injury)"
   ]
  },
  {
   "cell_type": "code",
   "execution_count": 178,
   "metadata": {},
   "outputs": [
    {
     "name": "stdout",
     "output_type": "stream",
     "text": [
      "(410, 246, 193) (410, 246, 193)\n",
      "TLIV_000_0000.nii.gz 1214314.0\n",
      "{1: 1214314} {2: 1704, 3: 2}\n",
      "(276, 326, 289) (276, 326, 289)\n",
      "TLIV_001_0000.nii.gz 790235.0\n",
      "{1: 790235} {}\n",
      "(396, 238, 216) (396, 238, 216)\n",
      "TLIV_002_0000.nii.gz 8899.0\n",
      "{5: 8899} {1: 3881, 2: 785, 3: 89, 4: 3738, 6: 637, 7: 2, 8: 6664}\n",
      "(336, 285, 246) (336, 285, 246)\n",
      "TLIV_003_0000.nii.gz 351082.0\n",
      "{1: 351082} {2: 61}\n",
      "(381, 295, 184) (381, 295, 184)\n",
      "TLIV_004_0000.nii.gz 40466.0\n",
      "{1: 40466} {2: 13}\n",
      "(359, 244, 206) (359, 244, 206)\n",
      "TLIV_006_0000.nii.gz 39738.0\n",
      "{6: 39738} {1: 4, 2: 2, 3: 40, 4: 21, 5: 2, 7: 6723, 8: 181, 9: 4707}\n",
      "(453, 128, 402) (453, 128, 402)\n",
      "TLIV_007_0000.nii.gz 122192.0\n",
      "{2: 97816, 5: 10051, 10: 14325} {1: 4676, 3: 492, 4: 6024, 6: 4096, 7: 1, 8: 1136, 9: 3524, 11: 2, 12: 2453, 13: 2, 14: 647, 15: 7, 16: 1, 17: 2, 18: 11, 19: 1, 20: 87, 21: 2695, 22: 128}\n",
      "(319, 277, 252) (319, 277, 252)\n",
      "TLIV_008_0000.nii.gz 723755.0\n",
      "{3: 723755} {1: 776, 2: 249, 4: 1922}\n"
     ]
    }
   ],
   "source": [
    "settings = {\"iterations\": 2, \"smoothing\": 2, \"balloon\": 0, \"threshold\": 'auto', 'sigma':2, 'alpha': 7000} #spleen sigma 3\n",
    "\n",
    "def store_evolution_in(lst):\n",
    "    def _store(x):\n",
    "        lst.append(np.copy(x))\n",
    "    return _store\n",
    "\n",
    "names = [os.path.basename(i[\"image\"]) for i in data_dicts_test[14:] if os.path.basename(i[\"image\"])]\n",
    "\n",
    "dice_init = []\n",
    "dice_final = []\n",
    "dice_evolution = []\n",
    "gimages = []\n",
    "scanners = []\n",
    "evolutions = []\n",
    "blended_old_masks = []\n",
    "blended_true_masks = []\n",
    "blended_finals = []\n",
    "\n",
    "for i in range(len(injures)): #len(injures)\n",
    "    # i = 2\n",
    "    if i == 5:\n",
    "        continue\n",
    "    d = dict(injures[i])\n",
    "    original_label = d[\"label\"].squeeze() #antes img\n",
    "    old_old_mask_organ = np.where((original_label != 1), 0, original_label)\n",
    "    cropped_injury = CropForegroundd(keys=[\"image\", \"label\", \"tLabel\"],  source_key=\"label\",  margin=5)(d)\n",
    "    init_label = cropped_injury[\"label\"].squeeze() #antes img\n",
    "    old_old_mask_injury = np.where((init_label != 2), 0, init_label) # save only the injury\n",
    "    old_mask_injury, init_clusters, result, removed = get_connected_components(init_label=old_old_mask_injury.astype(np.int8), selected_label=2, min_size=7000) #liver 7000\n",
    "    print(old_old_mask_injury.shape, old_mask_injury.shape)\n",
    "    init_label_true = cropped_injury[\"tLabel\"].squeeze() #antes img\n",
    "    old_true_mask_injury = np.where((init_label_true != 2), 0, init_label_true) \n",
    "    scanner = cropped_injury[\"image\"].squeeze()\n",
    "    scanners.append(scanner)\n",
    "    old_mask_organ = np.where((init_label != 1), 0, init_label)\n",
    "    gimage = inverse_gaussian_gradient(scanner, sigma=settings['sigma'], alpha=settings['alpha']) #init sigma 3 a=100\n",
    "    gimages.append(gimage)\n",
    "\n",
    "    evolution = [] \n",
    "    callback = store_evolution_in(evolution)\n",
    "    ls = old_mask_injury\n",
    "    injury_size = np.sum(old_mask_injury)/2\n",
    "    print(names[i], injury_size)\n",
    "    print(result, removed)\n",
    "    size = 0\n",
    "    footprint = None\n",
    "    if injury_size < 25000: #spleen 5000\n",
    "        dilation_bool= True\n",
    "        footprint = cube(2) #spleen 8\n",
    "        size = 2 # 3 spleen\n",
    "    else: \n",
    "        dilation_bool= True\n",
    "        footprint = ball(1) # 1 para spleen \n",
    "        size = 1\n",
    "    if size != 0: ls = expand_labels(ls, size) #footprint=cube(2)) expand_labels(ls, 2)\n",
    "    ls = closing(ls)\n",
    "    ls = morphological_geodesic_active_contour(gimage, num_iter=settings['iterations'],  init_level_set=ls, smoothing=settings['smoothing'], balloon=settings['balloon'],  threshold=settings['threshold'], iter_callback=callback) #morphological_chan_vese\n",
    "    if dilation_bool: ls = dilation(ls, footprint) \n",
    "\n",
    "    evolution = [np.where((item != 1), 0, 2) for item in evolution]\n",
    "    blended_evolution =  [torch.tensor(blend_images(np.expand_dims(scanner,0), np.expand_dims(item,0), 0.5)).permute(2,1,3,0) for item in evolution]\n",
    "    evolutions.append(blended_evolution)\n",
    "    blended_old_mask = torch.tensor(blend_images(np.expand_dims(scanner,0), np.expand_dims(old_old_mask_injury,0), 0.5)).permute(2,1,3,0)\n",
    "    blended_old_masks.append(blended_old_mask)\n",
    "    blended_old__true_mask = torch.tensor(blend_images(np.expand_dims(scanner,0), np.expand_dims(old_true_mask_injury,0), 0.5)).permute(2,1,3,0)\n",
    "    blended_true_masks.append(blended_old__true_mask)\n",
    "    ls = np.where((ls != 1), 0, 2) \n",
    "    blended_final = torch.tensor(blend_images(np.expand_dims(scanner,0), np.expand_dims(ls,0), 0.5)).permute(2,1,3,0)\n",
    "    blended_finals.append(blended_final)\n",
    "\n",
    "    from monai.data import MetaTensor\n",
    "    cropped_injury[\"label\"] = MetaTensor(torch.tensor(np.expand_dims(ls,0)), meta=cropped_injury[\"label\"].meta, applied_operations = cropped_injury[\"label\"].applied_operations )\n",
    "    inv_cropped = CropForegroundd(keys=[\"image\", \"label\"], source_key=\"label\",  margin=30).inverse(cropped_injury)\n",
    "    final_mask_injury = torch.where(((inv_cropped[\"label\"][0]) == 1), 2, 0)\n",
    "    final_mask = old_old_mask_organ + final_mask_injury\n",
    "    final_mask = np.where((final_mask == 3), 2, final_mask)\n",
    "    d[\"label\"] =  np.expand_dims(final_mask,0)\n",
    "\n",
    "    from sklearn.metrics import jaccard_score\n",
    "    init_dice = np.round(np.sum(old_old_mask_injury[old_true_mask_injury==2])*2.0 / (np.sum(old_old_mask_injury) + np.sum(old_true_mask_injury)),2)\n",
    "    jaccard = jaccard_score(old_old_mask_injury, old_true_mask_injury)\n",
    "    dice_init.append(init_dice)\n",
    "    dice_scores_evol = [np.round(np.sum(seg[old_true_mask_injury==2])*2.0 / (np.sum(seg) + np.sum(old_true_mask_injury)),2) for seg in evolution]\n",
    "    dice_evolution.append(dice_scores_evol)\n",
    "    final_dice = np.round(np.sum(ls[old_true_mask_injury==2])*2.0 / (np.sum(ls) + np.sum(old_true_mask_injury)),2)\n",
    "    dice_final.append(final_dice)\n",
    "    \n",
    "    # break"
   ]
  },
  {
   "cell_type": "code",
   "execution_count": 142,
   "metadata": {},
   "outputs": [
    {
     "ename": "KeyboardInterrupt",
     "evalue": "",
     "output_type": "error",
     "traceback": [
      "\u001b[1;31m---------------------------------------------------------------------------\u001b[0m",
      "\u001b[1;31mKeyboardInterrupt\u001b[0m                         Traceback (most recent call last)",
      "\u001b[1;32mu:\\lauraalvarez\\traumaAI\\Liver_Segmentation\\visualization_gc_spleen_pres.ipynb Cell 37\u001b[0m in \u001b[0;36m<cell line: 8>\u001b[1;34m()\u001b[0m\n\u001b[0;32m      <a href='vscode-notebook-cell:/u%3A/lauraalvarez/traumaAI/Liver_Segmentation/visualization_gc_spleen_pres.ipynb#X51sZmlsZQ%3D%3D?line=5'>6</a>\u001b[0m post_pro[\u001b[39m\"\u001b[39m\u001b[39mlabel\u001b[39m\u001b[39m\"\u001b[39m] \u001b[39m=\u001b[39m post_plotting(post_pro[\u001b[39m\"\u001b[39m\u001b[39mlabel\u001b[39m\u001b[39m\"\u001b[39m])\n\u001b[0;32m      <a href='vscode-notebook-cell:/u%3A/lauraalvarez/traumaAI/Liver_Segmentation/visualization_gc_spleen_pres.ipynb#X51sZmlsZQ%3D%3D?line=6'>7</a>\u001b[0m inj \u001b[39m=\u001b[39m \u001b[39mdict\u001b[39m(post_pro)\n\u001b[1;32m----> <a href='vscode-notebook-cell:/u%3A/lauraalvarez/traumaAI/Liver_Segmentation/visualization_gc_spleen_pres.ipynb#X51sZmlsZQ%3D%3D?line=7'>8</a>\u001b[0m inj \u001b[39m=\u001b[39m Resized(keys\u001b[39m=\u001b[39;49m[\u001b[39m\"\u001b[39;49m\u001b[39mimage\u001b[39;49m\u001b[39m\"\u001b[39;49m, \u001b[39m\"\u001b[39;49m\u001b[39mlabel\u001b[39;49m\u001b[39m\"\u001b[39;49m, \u001b[39m\"\u001b[39;49m\u001b[39mtLabel\u001b[39;49m\u001b[39m\"\u001b[39;49m], spatial_size\u001b[39m=\u001b[39;49m(\u001b[39m512\u001b[39;49m, \u001b[39m512\u001b[39;49m, \u001b[39m512\u001b[39;49m))(inj)\n\u001b[0;32m      <a href='vscode-notebook-cell:/u%3A/lauraalvarez/traumaAI/Liver_Segmentation/visualization_gc_spleen_pres.ipynb#X51sZmlsZQ%3D%3D?line=8'>9</a>\u001b[0m blended_label_in \u001b[39m=\u001b[39m blend_images(inj[\u001b[39m\"\u001b[39m\u001b[39mimage\u001b[39m\u001b[39m\"\u001b[39m], inj[\u001b[39m\"\u001b[39m\u001b[39mlabel\u001b[39m\u001b[39m\"\u001b[39m], \u001b[39m0.5\u001b[39m)\n\u001b[0;32m     <a href='vscode-notebook-cell:/u%3A/lauraalvarez/traumaAI/Liver_Segmentation/visualization_gc_spleen_pres.ipynb#X51sZmlsZQ%3D%3D?line=9'>10</a>\u001b[0m blended_final \u001b[39m=\u001b[39m blended_label_in\u001b[39m.\u001b[39mpermute(\u001b[39m1\u001b[39m, \u001b[39m2\u001b[39m, \u001b[39m0\u001b[39m, \u001b[39m3\u001b[39m)\n",
      "File \u001b[1;32mc:\\Users\\Vincent Stirler\\.conda\\envs\\env_trauma\\lib\\site-packages\\monai\\transforms\\spatial\\dictionary.py:624\u001b[0m, in \u001b[0;36mResized.__call__\u001b[1;34m(self, data)\u001b[0m\n\u001b[0;32m    622\u001b[0m d \u001b[39m=\u001b[39m \u001b[39mdict\u001b[39m(data)\n\u001b[0;32m    623\u001b[0m \u001b[39mfor\u001b[39;00m key, mode, align_corners \u001b[39min\u001b[39;00m \u001b[39mself\u001b[39m\u001b[39m.\u001b[39mkey_iterator(d, \u001b[39mself\u001b[39m\u001b[39m.\u001b[39mmode, \u001b[39mself\u001b[39m\u001b[39m.\u001b[39malign_corners):\n\u001b[1;32m--> 624\u001b[0m     d[key] \u001b[39m=\u001b[39m \u001b[39mself\u001b[39;49m\u001b[39m.\u001b[39;49mresizer(d[key], mode\u001b[39m=\u001b[39;49mmode, align_corners\u001b[39m=\u001b[39;49malign_corners)\n\u001b[0;32m    625\u001b[0m \u001b[39mreturn\u001b[39;00m d\n",
      "File \u001b[1;32mc:\\Users\\Vincent Stirler\\.conda\\envs\\env_trauma\\lib\\site-packages\\monai\\transforms\\spatial\\array.py:905\u001b[0m, in \u001b[0;36mResize.__call__\u001b[1;34m(self, img, mode, align_corners, anti_aliasing, anti_aliasing_sigma)\u001b[0m\n\u001b[0;32m    902\u001b[0m     img_ \u001b[39m=\u001b[39m convert_to_tensor(anti_aliasing_filter(img_), track_meta\u001b[39m=\u001b[39m\u001b[39mFalse\u001b[39;00m)\n\u001b[0;32m    904\u001b[0m img \u001b[39m=\u001b[39m convert_to_tensor(img, track_meta\u001b[39m=\u001b[39mget_track_meta())\n\u001b[1;32m--> 905\u001b[0m resized \u001b[39m=\u001b[39m torch\u001b[39m.\u001b[39;49mnn\u001b[39m.\u001b[39;49mfunctional\u001b[39m.\u001b[39;49minterpolate(\n\u001b[0;32m    906\u001b[0m     \u001b[39minput\u001b[39;49m\u001b[39m=\u001b[39;49mimg_\u001b[39m.\u001b[39;49munsqueeze(\u001b[39m0\u001b[39;49m), size\u001b[39m=\u001b[39;49mspatial_size_, mode\u001b[39m=\u001b[39;49m_mode, align_corners\u001b[39m=\u001b[39;49m_align_corners\n\u001b[0;32m    907\u001b[0m )\n\u001b[0;32m    908\u001b[0m out, \u001b[39m*\u001b[39m_ \u001b[39m=\u001b[39m convert_to_dst_type(resized\u001b[39m.\u001b[39msqueeze(\u001b[39m0\u001b[39m), img)\n\u001b[0;32m    909\u001b[0m \u001b[39mreturn\u001b[39;00m \u001b[39mself\u001b[39m\u001b[39m.\u001b[39m_post_process(out, original_sp_size, spatial_size_, _mode, _align_corners, input_ndim)\n",
      "File \u001b[1;32mc:\\Users\\Vincent Stirler\\.conda\\envs\\env_trauma\\lib\\site-packages\\torch\\nn\\functional.py:3910\u001b[0m, in \u001b[0;36minterpolate\u001b[1;34m(input, size, scale_factor, mode, align_corners, recompute_scale_factor, antialias)\u001b[0m\n\u001b[0;32m   3908\u001b[0m \u001b[39mif\u001b[39;00m \u001b[39minput\u001b[39m\u001b[39m.\u001b[39mdim() \u001b[39m==\u001b[39m \u001b[39m5\u001b[39m \u001b[39mand\u001b[39;00m mode \u001b[39m==\u001b[39m \u001b[39m\"\u001b[39m\u001b[39marea\u001b[39m\u001b[39m\"\u001b[39m:\n\u001b[0;32m   3909\u001b[0m     \u001b[39massert\u001b[39;00m output_size \u001b[39mis\u001b[39;00m \u001b[39mnot\u001b[39;00m \u001b[39mNone\u001b[39;00m\n\u001b[1;32m-> 3910\u001b[0m     \u001b[39mreturn\u001b[39;00m adaptive_avg_pool3d(\u001b[39minput\u001b[39;49m, output_size)\n\u001b[0;32m   3912\u001b[0m \u001b[39mif\u001b[39;00m \u001b[39minput\u001b[39m\u001b[39m.\u001b[39mdim() \u001b[39m==\u001b[39m \u001b[39m3\u001b[39m \u001b[39mand\u001b[39;00m mode \u001b[39m==\u001b[39m \u001b[39m\"\u001b[39m\u001b[39mlinear\u001b[39m\u001b[39m\"\u001b[39m:\n\u001b[0;32m   3913\u001b[0m     \u001b[39massert\u001b[39;00m align_corners \u001b[39mis\u001b[39;00m \u001b[39mnot\u001b[39;00m \u001b[39mNone\u001b[39;00m\n",
      "File \u001b[1;32mc:\\Users\\Vincent Stirler\\.conda\\envs\\env_trauma\\lib\\site-packages\\torch\\nn\\functional.py:1258\u001b[0m, in \u001b[0;36madaptive_avg_pool3d\u001b[1;34m(input, output_size)\u001b[0m\n\u001b[0;32m   1256\u001b[0m     \u001b[39mreturn\u001b[39;00m handle_torch_function(adaptive_avg_pool3d, (\u001b[39minput\u001b[39m,), \u001b[39minput\u001b[39m, output_size)\n\u001b[0;32m   1257\u001b[0m _output_size \u001b[39m=\u001b[39m _list_with_default(output_size, \u001b[39minput\u001b[39m\u001b[39m.\u001b[39msize())\n\u001b[1;32m-> 1258\u001b[0m \u001b[39mreturn\u001b[39;00m torch\u001b[39m.\u001b[39;49m_C\u001b[39m.\u001b[39;49m_nn\u001b[39m.\u001b[39;49madaptive_avg_pool3d(\u001b[39minput\u001b[39;49m, _output_size)\n",
      "\u001b[1;31mKeyboardInterrupt\u001b[0m: "
     ]
    }
   ],
   "source": [
    "# post_plotting = Compose([DilationLabel(keys=[\"label\"]),])\n",
    "# post_pro = post_plotting(injures)\n",
    "\n",
    "post_pro = d.copy()\n",
    "post_plotting = Compose([AsDiscrete(argmax=False), EnsureType(data_type='tensor')])\n",
    "post_pro[\"label\"] = post_plotting(post_pro[\"label\"])\n",
    "inj = dict(post_pro)\n",
    "inj = Resized(keys=[\"image\", \"label\", \"tLabel\"], spatial_size=(512, 512, 512))(inj)\n",
    "blended_label_in = blend_images(inj[\"image\"], inj[\"label\"], 0.5)\n",
    "blended_final = blended_label_in.permute(1, 2, 0, 3)\n",
    "blended_true_label = blend_images(inj[\"image\"], inj[\"tLabel\"], 0.5).numpy()\n",
    "blended_true_label = torch.from_numpy(blended_true_label).permute(1, 2, 0, 3)\n",
    "\n",
    "volume = torch.hstack(\n",
    "    (\n",
    "        inj[\"image\"].permute(1, 2, 0, 3).repeat(1, 1, 3, 1),\n",
    "        blended_final,\n",
    "        blended_true_label,\n",
    "    )\n",
    ")\n",
    "volume = volume.permute(0, 1, 3, 2)\n",
    "volume.shape"
   ]
  },
  {
   "cell_type": "code",
   "execution_count": 172,
   "metadata": {},
   "outputs": [
    {
     "name": "stdout",
     "output_type": "stream",
     "text": [
      "TLIV_000_0000.nii.gz - init: 0.81 - final: 0.84\n",
      "[0.83, 0.83, 0.83]\n",
      "TLIV_001_0000.nii.gz - init: 0.83 - final: 0.84\n",
      "[0.84, 0.84, 0.84]\n",
      "TLIV_002_0000.nii.gz - init: 0.37 - final: 0.68\n",
      "[0.69, 0.67, 0.64]\n",
      "TLIV_003_0000.nii.gz - init: 0.67 - final: 0.71\n",
      "[0.7, 0.69, 0.68]\n",
      "TLIV_004_0000.nii.gz - init: 0.81 - final: 0.79\n",
      "[0.8, 0.8, 0.79]\n",
      "TLIV_006_0000.nii.gz - init: 0.68 - final: 0.78\n",
      "[0.77, 0.78, 0.78]\n",
      "TLIV_007_0000.nii.gz - init: 0.46 - final: 0.47\n",
      "[0.47, 0.47, 0.47]\n",
      "TLIV_008_0000.nii.gz - init: 0.88 - final: 0.89\n",
      "[0.89, 0.89, 0.89]\n",
      "0.787 0.857\n"
     ]
    }
   ],
   "source": [
    "names = [os.path.basename(i[\"image\"]) for i in data_dicts_test[14:] if os.path.basename(i[\"image\"]) != \"TLIV_005_0000.nii.gz\"]\n",
    "dice_liver_i = []\n",
    "dice_liver_f = []\n",
    "for name, dice_i, dice_e, dice_f in zip(names[:], dice_init, dice_evolution, dice_final):\n",
    "    if name.split(\"_\")[0] != 'TRMSPL':\n",
    "        print(f\"{name} - init: {dice_i} - final: {dice_f}\")\n",
    "        print(dice_e)\n",
    "        dice_liver_i.append(dice_i)\n",
    "        dice_liver_f.append(dice_f)\n",
    "\n",
    "print(np.round(np.sum(dice_liver_i)/7, 3), np.round(np.sum(dice_liver_f)/7,3))"
   ]
  },
  {
   "cell_type": "code",
   "execution_count": 177,
   "metadata": {},
   "outputs": [
    {
     "name": "stdout",
     "output_type": "stream",
     "text": [
      "TLIV_000_0000.nii.gz - init: 0.81 - final: 0.82\n",
      "[0.83, 0.83, 0.83, 0.82, 0.82, 0.81]\n",
      "TLIV_001_0000.nii.gz - init: 0.83 - final: 0.83\n",
      "[0.84, 0.84, 0.84, 0.84, 0.83, 0.83]\n",
      "TLIV_002_0000.nii.gz - init: 0.37 - final: 0.42\n",
      "[0.69, 0.66, 0.61, 0.53, 0.43, 0.34]\n",
      "TLIV_003_0000.nii.gz - init: 0.67 - final: 0.67\n",
      "[0.7, 0.69, 0.67, 0.66, 0.64, 0.63]\n",
      "TLIV_004_0000.nii.gz - init: 0.81 - final: 0.73\n",
      "[0.8, 0.8, 0.79, 0.76, 0.73, 0.7]\n",
      "TLIV_006_0000.nii.gz - init: 0.68 - final: 0.78\n",
      "[0.77, 0.79, 0.79, 0.77, 0.76, 0.75]\n",
      "TLIV_007_0000.nii.gz - init: 0.46 - final: 0.44\n",
      "[0.47, 0.47, 0.46, 0.44, 0.42, 0.41]\n",
      "TLIV_008_0000.nii.gz - init: 0.88 - final: 0.87\n",
      "[0.89, 0.89, 0.89, 0.88, 0.87, 0.86]\n",
      "0.787 0.794\n"
     ]
    }
   ],
   "source": [
    "names = [os.path.basename(i[\"image\"]) for i in data_dicts_test[14:] if os.path.basename(i[\"image\"]) != \"TLIV_005_0000.nii.gz\"]\n",
    "dice_liver_i = []\n",
    "dice_liver_f = []\n",
    "for name, dice_i, dice_e, dice_f in zip(names[:], dice_init, dice_evolution, dice_final):\n",
    "    if name.split(\"_\")[0] != 'TRMSPL':\n",
    "        print(f\"{name} - init: {dice_i} - final: {dice_f}\")\n",
    "        print(dice_e)\n",
    "        dice_liver_i.append(dice_i)\n",
    "        dice_liver_f.append(dice_f)\n",
    "\n",
    "print(np.round(np.sum(dice_liver_i)/7, 3), np.round(np.sum(dice_liver_f)/7,3))"
   ]
  },
  {
   "cell_type": "code",
   "execution_count": 484,
   "metadata": {},
   "outputs": [
    {
     "name": "stdout",
     "output_type": "stream",
     "text": [
      "0.0 0.0\n"
     ]
    }
   ],
   "source": [
    "dice_spleen_i = []\n",
    "dice_spleen_f = []\n",
    "for name, dice_i, dice_e, dice_f in zip(names, dice_init, dice_evolution, dice_final):\n",
    "    if name.split(\"_\")[0] == 'TRMSPL':\n",
    "        print(f\"{name} - init: {dice_i} - final: {dice_f}\")\n",
    "        print(dice_e)\n",
    "        dice_spleen_i.append(dice_i)\n",
    "        dice_spleen_f.append(dice_f)\n",
    "\n",
    "print(np.round(np.sum(dice_spleen_i)/7, 3), np.round(np.sum(dice_spleen_f)/7,3))"
   ]
  },
  {
   "cell_type": "code",
   "execution_count": null,
   "metadata": {},
   "outputs": [],
   "source": [
    "gimages\n",
    "scanners\n",
    "evolutions = []\n",
    "blended_old_masks = []\n",
    "blended_true_masks = []\n",
    "blended_finals = []"
   ]
  },
  {
   "cell_type": "code",
   "execution_count": 175,
   "metadata": {},
   "outputs": [
    {
     "data": {
      "application/vnd.jupyter.widget-view+json": {
       "model_id": "521a8ede6a904a8aa783d9dacf78ac90",
       "version_major": 2,
       "version_minor": 0
      },
      "text/plain": [
       "interactive(children=(IntSlider(value=179, description='slice', max=358), IntSlider(value=5, description='i', …"
      ]
     },
     "metadata": {},
     "output_type": "display_data"
    },
    {
     "data": {
      "text/plain": [
       "<function __main__.dicom_animation(slice=<class 'slice'>, i=5)>"
      ]
     },
     "execution_count": 175,
     "metadata": {},
     "output_type": "execute_result"
    }
   ],
   "source": [
    "from ipywidgets import interact, interactive, fixed, interact_manual\n",
    "import ipywidgets as widgets\n",
    "import matplotlib.pyplot as plt\n",
    "\n",
    "a, b, c, d, e = 0, 1, 2, 2, 2\n",
    "a = 0\n",
    "b = 2\n",
    "i = 5\n",
    "def dicom_animation(slice= slice, i=i):\n",
    "    f, axarr = plt.subplots(1, 7, figsize=(30, 20))\n",
    "    axarr[0].imshow(gimages[i][slice, :, :], cmap=\"bone\")\n",
    "    axarr[1].imshow(scanners[i][slice, :, :], cmap=\"bone\")\n",
    "    axarr[2].imshow(blended_true_masks[i][:, slice, :,:])\n",
    "    axarr[3].imshow(blended_old_masks[i][:, slice, :,:])\n",
    "    axarr[4].imshow(evolutions[i][a][:, slice, :,:])\n",
    "    axarr[5].imshow(evolutions[i][b][:, slice, :,:])\n",
    "    # axarr[6].imshow(blended_evolution[c][:, slice, :,:])\n",
    "    # axarr[7].imshow(blended_evolution[d][:, slice, :,:])\n",
    "    axarr[6].imshow(blended_finals[i][:, slice, :,:])\n",
    "    axarr[0].set_title(\"Gaussian Gradient\")\n",
    "    axarr[1].set_title(\"Scanner\")\n",
    "    axarr[2].set_title(\"Ground Truth\")\n",
    "    axarr[3].set_title(f\"Init {dice_init[i]}\")\n",
    "    axarr[4].set_title(\"Remove small components {}\".format( dice_evolution[i][a]))\n",
    "    axarr[5].set_title(\"Active contours {}, {}\".format(b, dice_evolution[i][b]))\n",
    "    # axarr[6].set_title(\"Evolution {}, {}\".format(c, dice_scores_evol[c]))\n",
    "    # axarr[7].set_title(\"Evolution {}, {}\".format(d, dice_scores_evol[d]))\n",
    "    axarr[6].set_title(\"Expand labels {}\".format(dice_final[i]))\n",
    "    for i in range(7):\n",
    "        axarr[i].set_axis_off()\n",
    "        axarr[i].invert_xaxis()\n",
    "    # print(os.path.basename(data_dicts_test[case_number][\"image\"]))\n",
    "    # print(\"{settings}\".format(settings=settings))\n",
    "interact(dicom_animation, slice=(0,scanners[i].shape[0] - 1), i=(0, len(scanners)-1))"
   ]
  },
  {
   "cell_type": "code",
   "execution_count": 147,
   "metadata": {},
   "outputs": [
    {
     "data": {
      "text/plain": [
       "[<matplotlib.lines.Line2D at 0x22cf691aee0>]"
      ]
     },
     "execution_count": 147,
     "metadata": {},
     "output_type": "execute_result"
    },
    {
     "data": {
      "image/png": "[encoded data removed]",
      "text/plain": [
       "<Figure size 432x288 with 1 Axes>"
      ]
     },
     "metadata": {
      "needs_background": "light"
     },
     "output_type": "display_data"
    }
   ],
   "source": [
    "histogram, bin_edges = np.histogram(scanner, bins=256, range=(0, 1))\n",
    "# plot histogram\n",
    "plt.figure()\n",
    "plt.title(\"Grayscale Histogram\")\n",
    "plt.xlabel(\"grayscale value\")\n",
    "plt.ylabel(\"pixel count\")\n",
    "plt.xlim([0.0, 1.0])  # <- named arguments do not work here\n",
    "\n",
    "plt.plot(bin_edges[0:-1], histogram)  # <- or here"
   ]
  },
  {
   "cell_type": "code",
   "execution_count": 193,
   "metadata": {},
   "outputs": [
    {
     "data": {
      "application/vnd.jupyter.widget-view+json": {
       "model_id": "031cbe63a14e47fabd029133ed938db3",
       "version_major": 2,
       "version_minor": 0
      },
      "text/plain": [
       "interactive(children=(IntSlider(value=179, description='slice', max=358), IntSlider(value=5, description='i', …"
      ]
     },
     "metadata": {},
     "output_type": "display_data"
    },
    {
     "data": {
      "text/plain": [
       "<function __main__.dicom_animation(slice=<class 'slice'>, i=5)>"
      ]
     },
     "execution_count": 193,
     "metadata": {},
     "output_type": "execute_result"
    }
   ],
   "source": [
    "a, b, c, d, e = 0, 1, 2, 2, 2\n",
    "a = 0\n",
    "b = 2\n",
    "i = 5\n",
    "def dicom_animation(slice= slice, i=i):\n",
    "    f, axarr = plt.subplots(1, 7, figsize=(15, 20))\n",
    "    axarr[0].imshow(np.swapaxes(gimages[i][slice, :, :], 1, 0), cmap=\"bone\")\n",
    "    axarr[1].imshow(np.swapaxes(scanners[i][slice, :, :], 1, 0), cmap=\"bone\")\n",
    "    axarr[2].imshow(np.swapaxes(blended_true_masks[i][:, slice, :,:], 1, 0))\n",
    "    axarr[3].imshow(np.swapaxes(blended_old_masks[i][:, slice, :,:], 1, 0))\n",
    "    axarr[4].imshow(np.swapaxes(evolutions[i][a][:, slice, :,:], 1, 0))\n",
    "    axarr[5].imshow(np.swapaxes(evolutions[i][b][:, slice, :,:], 1, 0))\n",
    "    # axarr[6].imshow(blended_evolution[c][:, slice, :,:])\n",
    "    # axarr[7].imshow(blended_evolution[d][:, slice, :,:])\n",
    "    axarr[6].imshow(np.swapaxes(blended_finals[i][:, slice, :,:], 1, 0))\n",
    "    axarr[0].set_title(\"Gaussian Gradient\")\n",
    "    axarr[1].set_title(\"Scanner\")\n",
    "    axarr[2].set_title(\"Ground Truth\")\n",
    "    axarr[3].set_title(f\"Init {dice_init[i]}\")\n",
    "    axarr[4].set_title(\"Remove small components {}\".format( dice_evolution[i][a]))\n",
    "    axarr[5].set_title(\"Active contours {}, {}\".format(b, dice_evolution[i][b]))\n",
    "    # axarr[6].set_title(\"Evolution {}, {}\".format(c, dice_scores_evol[c]))\n",
    "    # axarr[7].set_title(\"Evolution {}, {}\".format(d, dice_scores_evol[d]))\n",
    "    axarr[6].set_title(\"Expand labels {}\".format(dice_final[i]))\n",
    "    for i in range(7):\n",
    "        axarr[i].set_axis_off()\n",
    "        axarr[i].invert_xaxis()\n",
    "    # print(os.path.basename(data_dicts_test[case_number][\"image\"]))\n",
    "    # print(\"{settings}\".format(settings=settings))\n",
    "interact(dicom_animation, slice=(0,scanners[i].shape[0] - 1), i=(0, len(scanners)-1))"
   ]
  },
  {
   "cell_type": "code",
   "execution_count": null,
   "metadata": {},
   "outputs": [],
   "source": []
  }
 ],
 "metadata": {
  "kernelspec": {
   "display_name": "Python 3.9.12 ('env_trauma')",
   "language": "python",
   "name": "python3"
  },
  "language_info": {
   "codemirror_mode": {
    "name": "ipython",
    "version": 3
   },
   "file_extension": ".py",
   "mimetype": "text/x-python",
   "name": "python",
   "nbconvert_exporter": "python",
   "pygments_lexer": "ipython3",
   "version": "3.9.12"
  },
  "orig_nbformat": 4,
  "vscode": {
   "interpreter": {
    "hash": "f756ff16342a8157e6f46b879d688029dcc5bc6cd621b2b84934bbdd850a743a"
   }
  }
 },
 "nbformat": 4,
 "nbformat_minor": 2
}
